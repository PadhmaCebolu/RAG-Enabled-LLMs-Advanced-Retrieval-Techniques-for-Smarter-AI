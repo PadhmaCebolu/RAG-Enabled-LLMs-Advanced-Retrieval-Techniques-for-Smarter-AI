{
  "metadata": {
    "kernelspec": {
      "language": "python",
      "display_name": "Python 3",
      "name": "python3"
    },
    "language_info": {
      "name": "python",
      "version": "3.10.14",
      "mimetype": "text/x-python",
      "codemirror_mode": {
        "name": "ipython",
        "version": 3
      },
      "pygments_lexer": "ipython3",
      "nbconvert_exporter": "python",
      "file_extension": ".py"
    },
    "kaggle": {
      "accelerator": "nvidiaTeslaT4",
      "dataSources": [
        {
          "sourceId": 9865442,
          "sourceType": "datasetVersion",
          "datasetId": 6055415
        },
        {
          "sourceId": 10064819,
          "sourceType": "datasetVersion",
          "datasetId": 6202752
        },
        {
          "sourceId": 4298,
          "sourceType": "modelInstanceVersion",
          "modelInstanceId": 3093,
          "modelId": 735
        }
      ],
      "dockerImageVersionId": 30786,
      "isInternetEnabled": true,
      "language": "python",
      "sourceType": "notebook",
      "isGpuEnabled": true
    },
    "colab": {
      "provenance": []
    }
  },
  "nbformat_minor": 0,
  "nbformat": 4,
  "cells": [
    {
      "cell_type": "markdown",
      "source": [
        "## Installations"
      ],
      "metadata": {
        "id": "jjw0Ma5EOLAk"
      }
    },
    {
      "cell_type": "code",
      "source": [
        "!pip install transformers==4.33.0 accelerate==0.22.0 einops==0.6.1 langchain==0.0.300 xformers==0.0.21 \\\n",
        "bitsandbytes==0.41.1 sentence_transformers==2.2.2 chromadb==0.4.12\n",
        "!pip install PyPDF2\n",
        "!pip install evaluate rouge_score\n",
        "!pip install openai==0.28\n",
        "!pip install pdfplumber"
      ],
      "metadata": {
        "trusted": true,
        "execution": {
          "iopub.status.busy": "2024-12-01T08:19:53.582147Z",
          "iopub.execute_input": "2024-12-01T08:19:53.582500Z",
          "iopub.status.idle": "2024-12-01T08:19:53.589875Z",
          "shell.execute_reply.started": "2024-12-01T08:19:53.582466Z",
          "shell.execute_reply": "2024-12-01T08:19:53.588581Z"
        },
        "colab": {
          "base_uri": "https://localhost:8080/"
        },
        "id": "rV3CDXt0OLAr",
        "outputId": "c8ae2111-2f1e-40f2-ba4e-5acca73b17aa"
      },
      "outputs": [
        {
          "output_type": "stream",
          "name": "stdout",
          "text": [
            "Collecting transformers==4.33.0\n",
            "  Downloading transformers-4.33.0-py3-none-any.whl.metadata (119 kB)\n",
            "\u001b[?25l     \u001b[90m━━━━━━━━━━━━━━━━━━━━━━━━━━━━━━━━━━━━━━━━\u001b[0m \u001b[32m0.0/119.9 kB\u001b[0m \u001b[31m?\u001b[0m eta \u001b[36m-:--:--\u001b[0m\r\u001b[2K     \u001b[91m━━━━━━━━━━━━━━━━━━━━━━━━━━━━━━━━━━━━━\u001b[0m\u001b[91m╸\u001b[0m\u001b[90m━━\u001b[0m \u001b[32m112.6/119.9 kB\u001b[0m \u001b[31m4.8 MB/s\u001b[0m eta \u001b[36m0:00:01\u001b[0m\r\u001b[2K     \u001b[90m━━━━━━━━━━━━━━━━━━━━━━━━━━━━━━━━━━━━━━━━\u001b[0m \u001b[32m119.9/119.9 kB\u001b[0m \u001b[31m3.0 MB/s\u001b[0m eta \u001b[36m0:00:00\u001b[0m\n",
            "\u001b[?25hCollecting accelerate==0.22.0\n",
            "  Downloading accelerate-0.22.0-py3-none-any.whl.metadata (17 kB)\n",
            "Collecting einops==0.6.1\n",
            "  Downloading einops-0.6.1-py3-none-any.whl.metadata (12 kB)\n",
            "Collecting langchain==0.0.300\n",
            "  Downloading langchain-0.0.300-py3-none-any.whl.metadata (15 kB)\n",
            "Collecting xformers==0.0.21\n",
            "  Downloading xformers-0.0.21-cp310-cp310-manylinux2014_x86_64.whl.metadata (1.0 kB)\n",
            "Collecting bitsandbytes==0.41.1\n",
            "  Downloading bitsandbytes-0.41.1-py3-none-any.whl.metadata (9.8 kB)\n",
            "Collecting sentence_transformers==2.2.2\n",
            "  Downloading sentence-transformers-2.2.2.tar.gz (85 kB)\n",
            "\u001b[2K     \u001b[90m━━━━━━━━━━━━━━━━━━━━━━━━━━━━━━━━━━━━━━━━\u001b[0m \u001b[32m86.0/86.0 kB\u001b[0m \u001b[31m3.9 MB/s\u001b[0m eta \u001b[36m0:00:00\u001b[0m\n",
            "\u001b[?25h  Preparing metadata (setup.py) ... \u001b[?25l\u001b[?25hdone\n",
            "Collecting chromadb==0.4.12\n",
            "  Downloading chromadb-0.4.12-py3-none-any.whl.metadata (7.0 kB)\n",
            "Requirement already satisfied: filelock in /usr/local/lib/python3.10/dist-packages (from transformers==4.33.0) (3.16.1)\n",
            "Requirement already satisfied: huggingface-hub<1.0,>=0.15.1 in /usr/local/lib/python3.10/dist-packages (from transformers==4.33.0) (0.26.3)\n",
            "Requirement already satisfied: numpy>=1.17 in /usr/local/lib/python3.10/dist-packages (from transformers==4.33.0) (1.26.4)\n",
            "Requirement already satisfied: packaging>=20.0 in /usr/local/lib/python3.10/dist-packages (from transformers==4.33.0) (24.2)\n",
            "Requirement already satisfied: pyyaml>=5.1 in /usr/local/lib/python3.10/dist-packages (from transformers==4.33.0) (6.0.2)\n",
            "Requirement already satisfied: regex!=2019.12.17 in /usr/local/lib/python3.10/dist-packages (from transformers==4.33.0) (2024.9.11)\n",
            "Requirement already satisfied: requests in /usr/local/lib/python3.10/dist-packages (from transformers==4.33.0) (2.32.3)\n",
            "Collecting tokenizers!=0.11.3,<0.14,>=0.11.1 (from transformers==4.33.0)\n",
            "  Downloading tokenizers-0.13.3-cp310-cp310-manylinux_2_17_x86_64.manylinux2014_x86_64.whl.metadata (6.7 kB)\n",
            "Requirement already satisfied: safetensors>=0.3.1 in /usr/local/lib/python3.10/dist-packages (from transformers==4.33.0) (0.4.5)\n",
            "Requirement already satisfied: tqdm>=4.27 in /usr/local/lib/python3.10/dist-packages (from transformers==4.33.0) (4.66.6)\n",
            "Requirement already satisfied: psutil in /usr/local/lib/python3.10/dist-packages (from accelerate==0.22.0) (5.9.5)\n",
            "Requirement already satisfied: torch>=1.10.0 in /usr/local/lib/python3.10/dist-packages (from accelerate==0.22.0) (2.5.1+cu121)\n",
            "Requirement already satisfied: SQLAlchemy<3,>=1.4 in /usr/local/lib/python3.10/dist-packages (from langchain==0.0.300) (2.0.36)\n",
            "Requirement already satisfied: aiohttp<4.0.0,>=3.8.3 in /usr/local/lib/python3.10/dist-packages (from langchain==0.0.300) (3.11.9)\n",
            "Requirement already satisfied: anyio<4.0 in /usr/local/lib/python3.10/dist-packages (from langchain==0.0.300) (3.7.1)\n",
            "Requirement already satisfied: async-timeout<5.0.0,>=4.0.0 in /usr/local/lib/python3.10/dist-packages (from langchain==0.0.300) (4.0.3)\n",
            "Collecting dataclasses-json<0.7,>=0.5.7 (from langchain==0.0.300)\n",
            "  Downloading dataclasses_json-0.6.7-py3-none-any.whl.metadata (25 kB)\n",
            "Requirement already satisfied: jsonpatch<2.0,>=1.33 in /usr/local/lib/python3.10/dist-packages (from langchain==0.0.300) (1.33)\n",
            "Collecting langsmith<0.1.0,>=0.0.38 (from langchain==0.0.300)\n",
            "  Downloading langsmith-0.0.92-py3-none-any.whl.metadata (9.9 kB)\n",
            "Requirement already satisfied: numexpr<3.0.0,>=2.8.4 in /usr/local/lib/python3.10/dist-packages (from langchain==0.0.300) (2.10.2)\n",
            "Requirement already satisfied: pydantic<3,>=1 in /usr/local/lib/python3.10/dist-packages (from langchain==0.0.300) (2.10.2)\n",
            "Collecting tenacity<9.0.0,>=8.1.0 (from langchain==0.0.300)\n",
            "  Downloading tenacity-8.5.0-py3-none-any.whl.metadata (1.2 kB)\n",
            "Collecting torch>=1.10.0 (from accelerate==0.22.0)\n",
            "  Downloading torch-2.0.1-cp310-cp310-manylinux1_x86_64.whl.metadata (24 kB)\n",
            "Requirement already satisfied: torchvision in /usr/local/lib/python3.10/dist-packages (from sentence_transformers==2.2.2) (0.20.1+cu121)\n",
            "Requirement already satisfied: scikit-learn in /usr/local/lib/python3.10/dist-packages (from sentence_transformers==2.2.2) (1.5.2)\n",
            "Requirement already satisfied: scipy in /usr/local/lib/python3.10/dist-packages (from sentence_transformers==2.2.2) (1.13.1)\n",
            "Requirement already satisfied: nltk in /usr/local/lib/python3.10/dist-packages (from sentence_transformers==2.2.2) (3.9.1)\n",
            "Requirement already satisfied: sentencepiece in /usr/local/lib/python3.10/dist-packages (from sentence_transformers==2.2.2) (0.2.0)\n",
            "Collecting pydantic<3,>=1 (from langchain==0.0.300)\n",
            "  Downloading pydantic-1.10.19-cp310-cp310-manylinux_2_17_x86_64.manylinux2014_x86_64.whl.metadata (152 kB)\n",
            "\u001b[2K     \u001b[90m━━━━━━━━━━━━━━━━━━━━━━━━━━━━━━━━━━━━━━━━\u001b[0m \u001b[32m152.6/152.6 kB\u001b[0m \u001b[31m6.9 MB/s\u001b[0m eta \u001b[36m0:00:00\u001b[0m\n",
            "\u001b[?25hCollecting chroma-hnswlib==0.7.3 (from chromadb==0.4.12)\n",
            "  Downloading chroma_hnswlib-0.7.3-cp310-cp310-manylinux_2_17_x86_64.manylinux2014_x86_64.whl.metadata (252 bytes)\n",
            "Collecting fastapi<0.100.0,>=0.95.2 (from chromadb==0.4.12)\n",
            "  Downloading fastapi-0.99.1-py3-none-any.whl.metadata (23 kB)\n",
            "Collecting uvicorn>=0.18.3 (from uvicorn[standard]>=0.18.3->chromadb==0.4.12)\n",
            "  Downloading uvicorn-0.32.1-py3-none-any.whl.metadata (6.6 kB)\n",
            "Collecting posthog>=2.4.0 (from chromadb==0.4.12)\n",
            "  Downloading posthog-3.7.4-py2.py3-none-any.whl.metadata (2.0 kB)\n",
            "Requirement already satisfied: typing-extensions>=4.5.0 in /usr/local/lib/python3.10/dist-packages (from chromadb==0.4.12) (4.12.2)\n",
            "Collecting pulsar-client>=3.1.0 (from chromadb==0.4.12)\n",
            "  Downloading pulsar_client-3.5.0-cp310-cp310-manylinux_2_17_x86_64.manylinux2014_x86_64.whl.metadata (1.0 kB)\n",
            "Collecting onnxruntime>=1.14.1 (from chromadb==0.4.12)\n",
            "  Downloading onnxruntime-1.20.1-cp310-cp310-manylinux_2_27_x86_64.manylinux_2_28_x86_64.whl.metadata (4.5 kB)\n",
            "Collecting pypika>=0.48.9 (from chromadb==0.4.12)\n",
            "  Downloading PyPika-0.48.9.tar.gz (67 kB)\n",
            "\u001b[2K     \u001b[90m━━━━━━━━━━━━━━━━━━━━━━━━━━━━━━━━━━━━━━━━\u001b[0m \u001b[32m67.3/67.3 kB\u001b[0m \u001b[31m3.8 MB/s\u001b[0m eta \u001b[36m0:00:00\u001b[0m\n",
            "\u001b[?25h  Installing build dependencies ... \u001b[?25l\u001b[?25hdone\n",
            "  Getting requirements to build wheel ... \u001b[?25l\u001b[?25hdone\n",
            "  Preparing metadata (pyproject.toml) ... \u001b[?25l\u001b[?25hdone\n",
            "Collecting overrides>=7.3.1 (from chromadb==0.4.12)\n",
            "  Downloading overrides-7.7.0-py3-none-any.whl.metadata (5.8 kB)\n",
            "Requirement already satisfied: importlib-resources in /usr/local/lib/python3.10/dist-packages (from chromadb==0.4.12) (6.4.5)\n",
            "Collecting bcrypt>=4.0.1 (from chromadb==0.4.12)\n",
            "  Downloading bcrypt-4.2.1-cp39-abi3-manylinux_2_28_x86_64.whl.metadata (9.8 kB)\n",
            "Requirement already satisfied: typer>=0.9.0 in /usr/local/lib/python3.10/dist-packages (from chromadb==0.4.12) (0.14.0)\n",
            "Requirement already satisfied: sympy in /usr/local/lib/python3.10/dist-packages (from torch>=1.10.0->accelerate==0.22.0) (1.13.1)\n",
            "Requirement already satisfied: networkx in /usr/local/lib/python3.10/dist-packages (from torch>=1.10.0->accelerate==0.22.0) (3.4.2)\n",
            "Requirement already satisfied: jinja2 in /usr/local/lib/python3.10/dist-packages (from torch>=1.10.0->accelerate==0.22.0) (3.1.4)\n",
            "Collecting nvidia-cuda-nvrtc-cu11==11.7.99 (from torch>=1.10.0->accelerate==0.22.0)\n",
            "  Downloading nvidia_cuda_nvrtc_cu11-11.7.99-2-py3-none-manylinux1_x86_64.whl.metadata (1.5 kB)\n",
            "Collecting nvidia-cuda-runtime-cu11==11.7.99 (from torch>=1.10.0->accelerate==0.22.0)\n",
            "  Downloading nvidia_cuda_runtime_cu11-11.7.99-py3-none-manylinux1_x86_64.whl.metadata (1.6 kB)\n",
            "Collecting nvidia-cuda-cupti-cu11==11.7.101 (from torch>=1.10.0->accelerate==0.22.0)\n",
            "  Downloading nvidia_cuda_cupti_cu11-11.7.101-py3-none-manylinux1_x86_64.whl.metadata (1.6 kB)\n",
            "Collecting nvidia-cudnn-cu11==8.5.0.96 (from torch>=1.10.0->accelerate==0.22.0)\n",
            "  Downloading nvidia_cudnn_cu11-8.5.0.96-2-py3-none-manylinux1_x86_64.whl.metadata (1.6 kB)\n",
            "Collecting nvidia-cublas-cu11==11.10.3.66 (from torch>=1.10.0->accelerate==0.22.0)\n",
            "  Downloading nvidia_cublas_cu11-11.10.3.66-py3-none-manylinux1_x86_64.whl.metadata (1.6 kB)\n",
            "Collecting nvidia-cufft-cu11==10.9.0.58 (from torch>=1.10.0->accelerate==0.22.0)\n",
            "  Downloading nvidia_cufft_cu11-10.9.0.58-py3-none-manylinux2014_x86_64.whl.metadata (1.5 kB)\n",
            "Collecting nvidia-curand-cu11==10.2.10.91 (from torch>=1.10.0->accelerate==0.22.0)\n",
            "  Downloading nvidia_curand_cu11-10.2.10.91-py3-none-manylinux1_x86_64.whl.metadata (1.6 kB)\n",
            "Collecting nvidia-cusolver-cu11==11.4.0.1 (from torch>=1.10.0->accelerate==0.22.0)\n",
            "  Downloading nvidia_cusolver_cu11-11.4.0.1-2-py3-none-manylinux1_x86_64.whl.metadata (1.6 kB)\n",
            "Collecting nvidia-cusparse-cu11==11.7.4.91 (from torch>=1.10.0->accelerate==0.22.0)\n",
            "  Downloading nvidia_cusparse_cu11-11.7.4.91-py3-none-manylinux1_x86_64.whl.metadata (1.6 kB)\n",
            "Collecting nvidia-nccl-cu11==2.14.3 (from torch>=1.10.0->accelerate==0.22.0)\n",
            "  Downloading nvidia_nccl_cu11-2.14.3-py3-none-manylinux1_x86_64.whl.metadata (1.8 kB)\n",
            "Collecting nvidia-nvtx-cu11==11.7.91 (from torch>=1.10.0->accelerate==0.22.0)\n",
            "  Downloading nvidia_nvtx_cu11-11.7.91-py3-none-manylinux1_x86_64.whl.metadata (1.7 kB)\n",
            "Collecting triton==2.0.0 (from torch>=1.10.0->accelerate==0.22.0)\n",
            "  Downloading triton-2.0.0-1-cp310-cp310-manylinux2014_x86_64.manylinux_2_17_x86_64.whl.metadata (1.0 kB)\n",
            "Requirement already satisfied: setuptools in /usr/local/lib/python3.10/dist-packages (from nvidia-cublas-cu11==11.10.3.66->torch>=1.10.0->accelerate==0.22.0) (75.1.0)\n",
            "Requirement already satisfied: wheel in /usr/local/lib/python3.10/dist-packages (from nvidia-cublas-cu11==11.10.3.66->torch>=1.10.0->accelerate==0.22.0) (0.45.1)\n",
            "Requirement already satisfied: cmake in /usr/local/lib/python3.10/dist-packages (from triton==2.0.0->torch>=1.10.0->accelerate==0.22.0) (3.30.5)\n",
            "Collecting lit (from triton==2.0.0->torch>=1.10.0->accelerate==0.22.0)\n",
            "  Downloading lit-18.1.8-py3-none-any.whl.metadata (2.5 kB)\n",
            "Requirement already satisfied: aiohappyeyeballs>=2.3.0 in /usr/local/lib/python3.10/dist-packages (from aiohttp<4.0.0,>=3.8.3->langchain==0.0.300) (2.4.4)\n",
            "Requirement already satisfied: aiosignal>=1.1.2 in /usr/local/lib/python3.10/dist-packages (from aiohttp<4.0.0,>=3.8.3->langchain==0.0.300) (1.3.1)\n",
            "Requirement already satisfied: attrs>=17.3.0 in /usr/local/lib/python3.10/dist-packages (from aiohttp<4.0.0,>=3.8.3->langchain==0.0.300) (24.2.0)\n",
            "Requirement already satisfied: frozenlist>=1.1.1 in /usr/local/lib/python3.10/dist-packages (from aiohttp<4.0.0,>=3.8.3->langchain==0.0.300) (1.5.0)\n",
            "Requirement already satisfied: multidict<7.0,>=4.5 in /usr/local/lib/python3.10/dist-packages (from aiohttp<4.0.0,>=3.8.3->langchain==0.0.300) (6.1.0)\n",
            "Requirement already satisfied: propcache>=0.2.0 in /usr/local/lib/python3.10/dist-packages (from aiohttp<4.0.0,>=3.8.3->langchain==0.0.300) (0.2.1)\n",
            "Requirement already satisfied: yarl<2.0,>=1.17.0 in /usr/local/lib/python3.10/dist-packages (from aiohttp<4.0.0,>=3.8.3->langchain==0.0.300) (1.18.3)\n",
            "Requirement already satisfied: idna>=2.8 in /usr/local/lib/python3.10/dist-packages (from anyio<4.0->langchain==0.0.300) (3.10)\n",
            "Requirement already satisfied: sniffio>=1.1 in /usr/local/lib/python3.10/dist-packages (from anyio<4.0->langchain==0.0.300) (1.3.1)\n",
            "Requirement already satisfied: exceptiongroup in /usr/local/lib/python3.10/dist-packages (from anyio<4.0->langchain==0.0.300) (1.2.2)\n",
            "Collecting marshmallow<4.0.0,>=3.18.0 (from dataclasses-json<0.7,>=0.5.7->langchain==0.0.300)\n",
            "  Downloading marshmallow-3.23.1-py3-none-any.whl.metadata (7.5 kB)\n",
            "Collecting typing-inspect<1,>=0.4.0 (from dataclasses-json<0.7,>=0.5.7->langchain==0.0.300)\n",
            "  Downloading typing_inspect-0.9.0-py3-none-any.whl.metadata (1.5 kB)\n",
            "Collecting starlette<0.28.0,>=0.27.0 (from fastapi<0.100.0,>=0.95.2->chromadb==0.4.12)\n",
            "  Downloading starlette-0.27.0-py3-none-any.whl.metadata (5.8 kB)\n",
            "Requirement already satisfied: fsspec>=2023.5.0 in /usr/local/lib/python3.10/dist-packages (from huggingface-hub<1.0,>=0.15.1->transformers==4.33.0) (2024.10.0)\n",
            "Requirement already satisfied: jsonpointer>=1.9 in /usr/local/lib/python3.10/dist-packages (from jsonpatch<2.0,>=1.33->langchain==0.0.300) (3.0.0)\n",
            "Collecting coloredlogs (from onnxruntime>=1.14.1->chromadb==0.4.12)\n",
            "  Downloading coloredlogs-15.0.1-py2.py3-none-any.whl.metadata (12 kB)\n",
            "Requirement already satisfied: flatbuffers in /usr/local/lib/python3.10/dist-packages (from onnxruntime>=1.14.1->chromadb==0.4.12) (24.3.25)\n",
            "Requirement already satisfied: protobuf in /usr/local/lib/python3.10/dist-packages (from onnxruntime>=1.14.1->chromadb==0.4.12) (4.25.5)\n",
            "Requirement already satisfied: six>=1.5 in /usr/local/lib/python3.10/dist-packages (from posthog>=2.4.0->chromadb==0.4.12) (1.16.0)\n",
            "Collecting monotonic>=1.5 (from posthog>=2.4.0->chromadb==0.4.12)\n",
            "  Downloading monotonic-1.6-py2.py3-none-any.whl.metadata (1.5 kB)\n",
            "Collecting backoff>=1.10.0 (from posthog>=2.4.0->chromadb==0.4.12)\n",
            "  Downloading backoff-2.2.1-py3-none-any.whl.metadata (14 kB)\n",
            "Requirement already satisfied: python-dateutil>2.1 in /usr/local/lib/python3.10/dist-packages (from posthog>=2.4.0->chromadb==0.4.12) (2.8.2)\n",
            "Requirement already satisfied: certifi in /usr/local/lib/python3.10/dist-packages (from pulsar-client>=3.1.0->chromadb==0.4.12) (2024.8.30)\n",
            "Requirement already satisfied: charset-normalizer<4,>=2 in /usr/local/lib/python3.10/dist-packages (from requests->transformers==4.33.0) (3.4.0)\n",
            "Requirement already satisfied: urllib3<3,>=1.21.1 in /usr/local/lib/python3.10/dist-packages (from requests->transformers==4.33.0) (2.2.3)\n",
            "Requirement already satisfied: greenlet!=0.4.17 in /usr/local/lib/python3.10/dist-packages (from SQLAlchemy<3,>=1.4->langchain==0.0.300) (3.1.1)\n",
            "Requirement already satisfied: click>=8.0.0 in /usr/local/lib/python3.10/dist-packages (from typer>=0.9.0->chromadb==0.4.12) (8.1.7)\n",
            "Requirement already satisfied: shellingham>=1.3.0 in /usr/local/lib/python3.10/dist-packages (from typer>=0.9.0->chromadb==0.4.12) (1.5.4)\n",
            "Requirement already satisfied: rich>=10.11.0 in /usr/local/lib/python3.10/dist-packages (from typer>=0.9.0->chromadb==0.4.12) (13.9.4)\n",
            "Requirement already satisfied: h11>=0.8 in /usr/local/lib/python3.10/dist-packages (from uvicorn>=0.18.3->uvicorn[standard]>=0.18.3->chromadb==0.4.12) (0.14.0)\n",
            "Collecting httptools>=0.6.3 (from uvicorn[standard]>=0.18.3->chromadb==0.4.12)\n",
            "  Downloading httptools-0.6.4-cp310-cp310-manylinux_2_5_x86_64.manylinux1_x86_64.manylinux_2_17_x86_64.manylinux2014_x86_64.whl.metadata (3.6 kB)\n",
            "Collecting python-dotenv>=0.13 (from uvicorn[standard]>=0.18.3->chromadb==0.4.12)\n",
            "  Downloading python_dotenv-1.0.1-py3-none-any.whl.metadata (23 kB)\n",
            "Collecting uvloop!=0.15.0,!=0.15.1,>=0.14.0 (from uvicorn[standard]>=0.18.3->chromadb==0.4.12)\n",
            "  Downloading uvloop-0.21.0-cp310-cp310-manylinux_2_17_x86_64.manylinux2014_x86_64.whl.metadata (4.9 kB)\n",
            "Collecting watchfiles>=0.13 (from uvicorn[standard]>=0.18.3->chromadb==0.4.12)\n",
            "  Downloading watchfiles-1.0.0-cp310-cp310-manylinux_2_17_x86_64.manylinux2014_x86_64.whl.metadata (4.9 kB)\n",
            "Collecting websockets>=10.4 (from uvicorn[standard]>=0.18.3->chromadb==0.4.12)\n",
            "  Downloading websockets-14.1-cp310-cp310-manylinux_2_5_x86_64.manylinux1_x86_64.manylinux_2_17_x86_64.manylinux2014_x86_64.whl.metadata (6.7 kB)\n",
            "Requirement already satisfied: joblib in /usr/local/lib/python3.10/dist-packages (from nltk->sentence_transformers==2.2.2) (1.4.2)\n",
            "Requirement already satisfied: threadpoolctl>=3.1.0 in /usr/local/lib/python3.10/dist-packages (from scikit-learn->sentence_transformers==2.2.2) (3.5.0)\n",
            "INFO: pip is looking at multiple versions of torchvision to determine which version is compatible with other requirements. This could take a while.\n",
            "Collecting torchvision (from sentence_transformers==2.2.2)\n",
            "  Downloading torchvision-0.20.1-cp310-cp310-manylinux1_x86_64.whl.metadata (6.1 kB)\n",
            "  Downloading torchvision-0.20.0-cp310-cp310-manylinux1_x86_64.whl.metadata (6.1 kB)\n",
            "  Downloading torchvision-0.19.1-cp310-cp310-manylinux1_x86_64.whl.metadata (6.0 kB)\n",
            "  Downloading torchvision-0.19.0-cp310-cp310-manylinux1_x86_64.whl.metadata (6.0 kB)\n",
            "  Downloading torchvision-0.18.1-cp310-cp310-manylinux1_x86_64.whl.metadata (6.6 kB)\n",
            "  Downloading torchvision-0.18.0-cp310-cp310-manylinux1_x86_64.whl.metadata (6.6 kB)\n",
            "  Downloading torchvision-0.17.2-cp310-cp310-manylinux1_x86_64.whl.metadata (6.6 kB)\n",
            "INFO: pip is still looking at multiple versions of torchvision to determine which version is compatible with other requirements. This could take a while.\n",
            "  Downloading torchvision-0.17.1-cp310-cp310-manylinux1_x86_64.whl.metadata (6.6 kB)\n",
            "  Downloading torchvision-0.17.0-cp310-cp310-manylinux1_x86_64.whl.metadata (6.6 kB)\n",
            "  Downloading torchvision-0.16.2-cp310-cp310-manylinux1_x86_64.whl.metadata (6.6 kB)\n",
            "  Downloading torchvision-0.16.1-cp310-cp310-manylinux1_x86_64.whl.metadata (6.6 kB)\n",
            "  Downloading torchvision-0.16.0-cp310-cp310-manylinux1_x86_64.whl.metadata (6.6 kB)\n",
            "INFO: This is taking longer than usual. You might need to provide the dependency resolver with stricter constraints to reduce runtime. See https://pip.pypa.io/warnings/backtracking for guidance. If you want to abort this run, press Ctrl + C.\n",
            "  Downloading torchvision-0.15.2-cp310-cp310-manylinux1_x86_64.whl.metadata (11 kB)\n",
            "Requirement already satisfied: pillow!=8.3.*,>=5.3.0 in /usr/local/lib/python3.10/dist-packages (from torchvision->sentence_transformers==2.2.2) (11.0.0)\n",
            "Requirement already satisfied: markdown-it-py>=2.2.0 in /usr/local/lib/python3.10/dist-packages (from rich>=10.11.0->typer>=0.9.0->chromadb==0.4.12) (3.0.0)\n",
            "Requirement already satisfied: pygments<3.0.0,>=2.13.0 in /usr/local/lib/python3.10/dist-packages (from rich>=10.11.0->typer>=0.9.0->chromadb==0.4.12) (2.18.0)\n",
            "Collecting mypy-extensions>=0.3.0 (from typing-inspect<1,>=0.4.0->dataclasses-json<0.7,>=0.5.7->langchain==0.0.300)\n",
            "  Downloading mypy_extensions-1.0.0-py3-none-any.whl.metadata (1.1 kB)\n",
            "Collecting humanfriendly>=9.1 (from coloredlogs->onnxruntime>=1.14.1->chromadb==0.4.12)\n",
            "  Downloading humanfriendly-10.0-py2.py3-none-any.whl.metadata (9.2 kB)\n",
            "Requirement already satisfied: MarkupSafe>=2.0 in /usr/local/lib/python3.10/dist-packages (from jinja2->torch>=1.10.0->accelerate==0.22.0) (3.0.2)\n",
            "Requirement already satisfied: mpmath<1.4,>=1.1.0 in /usr/local/lib/python3.10/dist-packages (from sympy->torch>=1.10.0->accelerate==0.22.0) (1.3.0)\n",
            "Requirement already satisfied: mdurl~=0.1 in /usr/local/lib/python3.10/dist-packages (from markdown-it-py>=2.2.0->rich>=10.11.0->typer>=0.9.0->chromadb==0.4.12) (0.1.2)\n",
            "Downloading transformers-4.33.0-py3-none-any.whl (7.6 MB)\n",
            "\u001b[2K   \u001b[90m━━━━━━━━━━━━━━━━━━━━━━━━━━━━━━━━━━━━━━━━\u001b[0m \u001b[32m7.6/7.6 MB\u001b[0m \u001b[31m69.9 MB/s\u001b[0m eta \u001b[36m0:00:00\u001b[0m\n",
            "\u001b[?25hDownloading accelerate-0.22.0-py3-none-any.whl (251 kB)\n",
            "\u001b[2K   \u001b[90m━━━━━━━━━━━━━━━━━━━━━━━━━━━━━━━━━━━━━━━━\u001b[0m \u001b[32m251.2/251.2 kB\u001b[0m \u001b[31m17.1 MB/s\u001b[0m eta \u001b[36m0:00:00\u001b[0m\n",
            "\u001b[?25hDownloading einops-0.6.1-py3-none-any.whl (42 kB)\n",
            "\u001b[2K   \u001b[90m━━━━━━━━━━━━━━━━━━━━━━━━━━━━━━━━━━━━━━━━\u001b[0m \u001b[32m42.2/42.2 kB\u001b[0m \u001b[31m2.7 MB/s\u001b[0m eta \u001b[36m0:00:00\u001b[0m\n",
            "\u001b[?25hDownloading langchain-0.0.300-py3-none-any.whl (1.7 MB)\n",
            "\u001b[2K   \u001b[90m━━━━━━━━━━━━━━━━━━━━━━━━━━━━━━━━━━━━━━━━\u001b[0m \u001b[32m1.7/1.7 MB\u001b[0m \u001b[31m58.4 MB/s\u001b[0m eta \u001b[36m0:00:00\u001b[0m\n",
            "\u001b[?25hDownloading xformers-0.0.21-cp310-cp310-manylinux2014_x86_64.whl (167.0 MB)\n",
            "\u001b[2K   \u001b[90m━━━━━━━━━━━━━━━━━━━━━━━━━━━━━━━━━━━━━━━━\u001b[0m \u001b[32m167.0/167.0 MB\u001b[0m \u001b[31m6.2 MB/s\u001b[0m eta \u001b[36m0:00:00\u001b[0m\n",
            "\u001b[?25hDownloading bitsandbytes-0.41.1-py3-none-any.whl (92.6 MB)\n",
            "\u001b[2K   \u001b[90m━━━━━━━━━━━━━━━━━━━━━━━━━━━━━━━━━━━━━━━━\u001b[0m \u001b[32m92.6/92.6 MB\u001b[0m \u001b[31m8.2 MB/s\u001b[0m eta \u001b[36m0:00:00\u001b[0m\n",
            "\u001b[?25hDownloading chromadb-0.4.12-py3-none-any.whl (426 kB)\n",
            "\u001b[2K   \u001b[90m━━━━━━━━━━━━━━━━━━━━━━━━━━━━━━━━━━━━━━━━\u001b[0m \u001b[32m426.5/426.5 kB\u001b[0m \u001b[31m24.0 MB/s\u001b[0m eta \u001b[36m0:00:00\u001b[0m\n",
            "\u001b[?25hDownloading chroma_hnswlib-0.7.3-cp310-cp310-manylinux_2_17_x86_64.manylinux2014_x86_64.whl (2.4 MB)\n",
            "\u001b[2K   \u001b[90m━━━━━━━━━━━━━━━━━━━━━━━━━━━━━━━━━━━━━━━━\u001b[0m \u001b[32m2.4/2.4 MB\u001b[0m \u001b[31m54.1 MB/s\u001b[0m eta \u001b[36m0:00:00\u001b[0m\n",
            "\u001b[?25hDownloading torch-2.0.1-cp310-cp310-manylinux1_x86_64.whl (619.9 MB)\n",
            "\u001b[2K   \u001b[90m━━━━━━━━━━━━━━━━━━━━━━━━━━━━━━━━━━━━━━━━\u001b[0m \u001b[32m619.9/619.9 MB\u001b[0m \u001b[31m2.9 MB/s\u001b[0m eta \u001b[36m0:00:00\u001b[0m\n",
            "\u001b[?25hDownloading nvidia_cublas_cu11-11.10.3.66-py3-none-manylinux1_x86_64.whl (317.1 MB)\n",
            "\u001b[2K   \u001b[90m━━━━━━━━━━━━━━━━━━━━━━━━━━━━━━━━━━━━━━━━\u001b[0m \u001b[32m317.1/317.1 MB\u001b[0m \u001b[31m5.1 MB/s\u001b[0m eta \u001b[36m0:00:00\u001b[0m\n",
            "\u001b[?25hDownloading nvidia_cuda_cupti_cu11-11.7.101-py3-none-manylinux1_x86_64.whl (11.8 MB)\n",
            "\u001b[2K   \u001b[90m━━━━━━━━━━━━━━━━━━━━━━━━━━━━━━━━━━━━━━━━\u001b[0m \u001b[32m11.8/11.8 MB\u001b[0m \u001b[31m96.8 MB/s\u001b[0m eta \u001b[36m0:00:00\u001b[0m\n",
            "\u001b[?25hDownloading nvidia_cuda_nvrtc_cu11-11.7.99-2-py3-none-manylinux1_x86_64.whl (21.0 MB)\n",
            "\u001b[2K   \u001b[90m━━━━━━━━━━━━━━━━━━━━━━━━━━━━━━━━━━━━━━━━\u001b[0m \u001b[32m21.0/21.0 MB\u001b[0m \u001b[31m67.6 MB/s\u001b[0m eta \u001b[36m0:00:00\u001b[0m\n",
            "\u001b[?25hDownloading nvidia_cuda_runtime_cu11-11.7.99-py3-none-manylinux1_x86_64.whl (849 kB)\n",
            "\u001b[2K   \u001b[90m━━━━━━━━━━━━━━━━━━━━━━━━━━━━━━━━━━━━━━━━\u001b[0m \u001b[32m849.3/849.3 kB\u001b[0m \u001b[31m40.5 MB/s\u001b[0m eta \u001b[36m0:00:00\u001b[0m\n",
            "\u001b[?25hDownloading nvidia_cudnn_cu11-8.5.0.96-2-py3-none-manylinux1_x86_64.whl (557.1 MB)\n",
            "\u001b[2K   \u001b[90m━━━━━━━━━━━━━━━━━━━━━━━━━━━━━━━━━━━━━━━━\u001b[0m \u001b[32m557.1/557.1 MB\u001b[0m \u001b[31m3.3 MB/s\u001b[0m eta \u001b[36m0:00:00\u001b[0m\n",
            "\u001b[?25hDownloading nvidia_cufft_cu11-10.9.0.58-py3-none-manylinux2014_x86_64.whl (168.4 MB)\n",
            "\u001b[2K   \u001b[90m━━━━━━━━━━━━━━━━━━━━━━━━━━━━━━━━━━━━━━━━\u001b[0m \u001b[32m168.4/168.4 MB\u001b[0m \u001b[31m7.1 MB/s\u001b[0m eta \u001b[36m0:00:00\u001b[0m\n",
            "\u001b[?25hDownloading nvidia_curand_cu11-10.2.10.91-py3-none-manylinux1_x86_64.whl (54.6 MB)\n",
            "\u001b[2K   \u001b[90m━━━━━━━━━━━━━━━━━━━━━━━━━━━━━━━━━━━━━━━━\u001b[0m \u001b[32m54.6/54.6 MB\u001b[0m \u001b[31m12.1 MB/s\u001b[0m eta \u001b[36m0:00:00\u001b[0m\n",
            "\u001b[?25hDownloading nvidia_cusolver_cu11-11.4.0.1-2-py3-none-manylinux1_x86_64.whl (102.6 MB)\n",
            "\u001b[2K   \u001b[90m━━━━━━━━━━━━━━━━━━━━━━━━━━━━━━━━━━━━━━━━\u001b[0m \u001b[32m102.6/102.6 MB\u001b[0m \u001b[31m8.4 MB/s\u001b[0m eta \u001b[36m0:00:00\u001b[0m\n",
            "\u001b[?25hDownloading nvidia_cusparse_cu11-11.7.4.91-py3-none-manylinux1_x86_64.whl (173.2 MB)\n",
            "\u001b[2K   \u001b[90m━━━━━━━━━━━━━━━━━━━━━━━━━━━━━━━━━━━━━━━━\u001b[0m \u001b[32m173.2/173.2 MB\u001b[0m \u001b[31m6.7 MB/s\u001b[0m eta \u001b[36m0:00:00\u001b[0m\n",
            "\u001b[?25hDownloading nvidia_nccl_cu11-2.14.3-py3-none-manylinux1_x86_64.whl (177.1 MB)\n",
            "\u001b[2K   \u001b[90m━━━━━━━━━━━━━━━━━━━━━━━━━━━━━━━━━━━━━━━━\u001b[0m \u001b[32m177.1/177.1 MB\u001b[0m \u001b[31m5.7 MB/s\u001b[0m eta \u001b[36m0:00:00\u001b[0m\n",
            "\u001b[?25hDownloading nvidia_nvtx_cu11-11.7.91-py3-none-manylinux1_x86_64.whl (98 kB)\n",
            "\u001b[2K   \u001b[90m━━━━━━━━━━━━━━━━━━━━━━━━━━━━━━━━━━━━━━━━\u001b[0m \u001b[32m98.6/98.6 kB\u001b[0m \u001b[31m6.8 MB/s\u001b[0m eta \u001b[36m0:00:00\u001b[0m\n",
            "\u001b[?25hDownloading triton-2.0.0-1-cp310-cp310-manylinux2014_x86_64.manylinux_2_17_x86_64.whl (63.3 MB)\n",
            "\u001b[2K   \u001b[90m━━━━━━━━━━━━━━━━━━━━━━━━━━━━━━━━━━━━━━━━\u001b[0m \u001b[32m63.3/63.3 MB\u001b[0m \u001b[31m10.2 MB/s\u001b[0m eta \u001b[36m0:00:00\u001b[0m\n",
            "\u001b[?25hDownloading bcrypt-4.2.1-cp39-abi3-manylinux_2_28_x86_64.whl (278 kB)\n",
            "\u001b[2K   \u001b[90m━━━━━━━━━━━━━━━━━━━━━━━━━━━━━━━━━━━━━━━━\u001b[0m \u001b[32m278.6/278.6 kB\u001b[0m \u001b[31m16.7 MB/s\u001b[0m eta \u001b[36m0:00:00\u001b[0m\n",
            "\u001b[?25hDownloading dataclasses_json-0.6.7-py3-none-any.whl (28 kB)\n",
            "Downloading fastapi-0.99.1-py3-none-any.whl (58 kB)\n",
            "\u001b[2K   \u001b[90m━━━━━━━━━━━━━━━━━━━━━━━━━━━━━━━━━━━━━━━━\u001b[0m \u001b[32m58.4/58.4 kB\u001b[0m \u001b[31m4.1 MB/s\u001b[0m eta \u001b[36m0:00:00\u001b[0m\n",
            "\u001b[?25hDownloading langsmith-0.0.92-py3-none-any.whl (56 kB)\n",
            "\u001b[2K   \u001b[90m━━━━━━━━━━━━━━━━━━━━━━━━━━━━━━━━━━━━━━━━\u001b[0m \u001b[32m56.5/56.5 kB\u001b[0m \u001b[31m3.6 MB/s\u001b[0m eta \u001b[36m0:00:00\u001b[0m\n",
            "\u001b[?25hDownloading onnxruntime-1.20.1-cp310-cp310-manylinux_2_27_x86_64.manylinux_2_28_x86_64.whl (13.3 MB)\n",
            "\u001b[2K   \u001b[90m━━━━━━━━━━━━━━━━━━━━━━━━━━━━━━━━━━━━━━━━\u001b[0m \u001b[32m13.3/13.3 MB\u001b[0m \u001b[31m85.5 MB/s\u001b[0m eta \u001b[36m0:00:00\u001b[0m\n",
            "\u001b[?25hDownloading overrides-7.7.0-py3-none-any.whl (17 kB)\n",
            "Downloading posthog-3.7.4-py2.py3-none-any.whl (54 kB)\n",
            "\u001b[2K   \u001b[90m━━━━━━━━━━━━━━━━━━━━━━━━━━━━━━━━━━━━━━━━\u001b[0m \u001b[32m54.8/54.8 kB\u001b[0m \u001b[31m3.5 MB/s\u001b[0m eta \u001b[36m0:00:00\u001b[0m\n",
            "\u001b[?25hDownloading pulsar_client-3.5.0-cp310-cp310-manylinux_2_17_x86_64.manylinux2014_x86_64.whl (5.4 MB)\n",
            "\u001b[2K   \u001b[90m━━━━━━━━━━━━━━━━━━━━━━━━━━━━━━━━━━━━━━━━\u001b[0m \u001b[32m5.4/5.4 MB\u001b[0m \u001b[31m85.3 MB/s\u001b[0m eta \u001b[36m0:00:00\u001b[0m\n",
            "\u001b[?25hDownloading pydantic-1.10.19-cp310-cp310-manylinux_2_17_x86_64.manylinux2014_x86_64.whl (3.1 MB)\n",
            "\u001b[2K   \u001b[90m━━━━━━━━━━━━━━━━━━━━━━━━━━━━━━━━━━━━━━━━\u001b[0m \u001b[32m3.1/3.1 MB\u001b[0m \u001b[31m77.3 MB/s\u001b[0m eta \u001b[36m0:00:00\u001b[0m\n",
            "\u001b[?25hDownloading tenacity-8.5.0-py3-none-any.whl (28 kB)\n",
            "Downloading tokenizers-0.13.3-cp310-cp310-manylinux_2_17_x86_64.manylinux2014_x86_64.whl (7.8 MB)\n",
            "\u001b[2K   \u001b[90m━━━━━━━━━━━━━━━━━━━━━━━━━━━━━━━━━━━━━━━━\u001b[0m \u001b[32m7.8/7.8 MB\u001b[0m \u001b[31m86.7 MB/s\u001b[0m eta \u001b[36m0:00:00\u001b[0m\n",
            "\u001b[?25hDownloading uvicorn-0.32.1-py3-none-any.whl (63 kB)\n",
            "\u001b[2K   \u001b[90m━━━━━━━━━━━━━━━━━━━━━━━━━━━━━━━━━━━━━━━━\u001b[0m \u001b[32m63.8/63.8 kB\u001b[0m \u001b[31m4.2 MB/s\u001b[0m eta \u001b[36m0:00:00\u001b[0m\n",
            "\u001b[?25hDownloading torchvision-0.15.2-cp310-cp310-manylinux1_x86_64.whl (6.0 MB)\n",
            "\u001b[2K   \u001b[90m━━━━━━━━━━━━━━━━━━━━━━━━━━━━━━━━━━━━━━━━\u001b[0m \u001b[32m6.0/6.0 MB\u001b[0m \u001b[31m94.7 MB/s\u001b[0m eta \u001b[36m0:00:00\u001b[0m\n",
            "\u001b[?25hDownloading backoff-2.2.1-py3-none-any.whl (15 kB)\n",
            "Downloading httptools-0.6.4-cp310-cp310-manylinux_2_5_x86_64.manylinux1_x86_64.manylinux_2_17_x86_64.manylinux2014_x86_64.whl (442 kB)\n",
            "\u001b[2K   \u001b[90m━━━━━━━━━━━━━━━━━━━━━━━━━━━━━━━━━━━━━━━━\u001b[0m \u001b[32m442.1/442.1 kB\u001b[0m \u001b[31m25.8 MB/s\u001b[0m eta \u001b[36m0:00:00\u001b[0m\n",
            "\u001b[?25hDownloading marshmallow-3.23.1-py3-none-any.whl (49 kB)\n",
            "\u001b[2K   \u001b[90m━━━━━━━━━━━━━━━━━━━━━━━━━━━━━━━━━━━━━━━━\u001b[0m \u001b[32m49.5/49.5 kB\u001b[0m \u001b[31m2.9 MB/s\u001b[0m eta \u001b[36m0:00:00\u001b[0m\n",
            "\u001b[?25hDownloading monotonic-1.6-py2.py3-none-any.whl (8.2 kB)\n",
            "Downloading python_dotenv-1.0.1-py3-none-any.whl (19 kB)\n",
            "Downloading starlette-0.27.0-py3-none-any.whl (66 kB)\n",
            "\u001b[2K   \u001b[90m━━━━━━━━━━━━━━━━━━━━━━━━━━━━━━━━━━━━━━━━\u001b[0m \u001b[32m67.0/67.0 kB\u001b[0m \u001b[31m4.9 MB/s\u001b[0m eta \u001b[36m0:00:00\u001b[0m\n",
            "\u001b[?25hDownloading typing_inspect-0.9.0-py3-none-any.whl (8.8 kB)\n",
            "Downloading uvloop-0.21.0-cp310-cp310-manylinux_2_17_x86_64.manylinux2014_x86_64.whl (3.8 MB)\n",
            "\u001b[2K   \u001b[90m━━━━━━━━━━━━━━━━━━━━━━━━━━━━━━━━━━━━━━━━\u001b[0m \u001b[32m3.8/3.8 MB\u001b[0m \u001b[31m79.6 MB/s\u001b[0m eta \u001b[36m0:00:00\u001b[0m\n",
            "\u001b[?25hDownloading watchfiles-1.0.0-cp310-cp310-manylinux_2_17_x86_64.manylinux2014_x86_64.whl (442 kB)\n",
            "\u001b[2K   \u001b[90m━━━━━━━━━━━━━━━━━━━━━━━━━━━━━━━━━━━━━━━━\u001b[0m \u001b[32m442.6/442.6 kB\u001b[0m \u001b[31m27.3 MB/s\u001b[0m eta \u001b[36m0:00:00\u001b[0m\n",
            "\u001b[?25hDownloading websockets-14.1-cp310-cp310-manylinux_2_5_x86_64.manylinux1_x86_64.manylinux_2_17_x86_64.manylinux2014_x86_64.whl (168 kB)\n",
            "\u001b[2K   \u001b[90m━━━━━━━━━━━━━━━━━━━━━━━━━━━━━━━━━━━━━━━━\u001b[0m \u001b[32m168.2/168.2 kB\u001b[0m \u001b[31m11.2 MB/s\u001b[0m eta \u001b[36m0:00:00\u001b[0m\n",
            "\u001b[?25hDownloading coloredlogs-15.0.1-py2.py3-none-any.whl (46 kB)\n",
            "\u001b[2K   \u001b[90m━━━━━━━━━━━━━━━━━━━━━━━━━━━━━━━━━━━━━━━━\u001b[0m \u001b[32m46.0/46.0 kB\u001b[0m \u001b[31m3.0 MB/s\u001b[0m eta \u001b[36m0:00:00\u001b[0m\n",
            "\u001b[?25hDownloading humanfriendly-10.0-py2.py3-none-any.whl (86 kB)\n",
            "\u001b[2K   \u001b[90m━━━━━━━━━━━━━━━━━━━━━━━━━━━━━━━━━━━━━━━━\u001b[0m \u001b[32m86.8/86.8 kB\u001b[0m \u001b[31m6.1 MB/s\u001b[0m eta \u001b[36m0:00:00\u001b[0m\n",
            "\u001b[?25hDownloading mypy_extensions-1.0.0-py3-none-any.whl (4.7 kB)\n",
            "Downloading lit-18.1.8-py3-none-any.whl (96 kB)\n",
            "\u001b[2K   \u001b[90m━━━━━━━━━━━━━━━━━━━━━━━━━━━━━━━━━━━━━━━━\u001b[0m \u001b[32m96.4/96.4 kB\u001b[0m \u001b[31m6.9 MB/s\u001b[0m eta \u001b[36m0:00:00\u001b[0m\n",
            "\u001b[?25hBuilding wheels for collected packages: sentence_transformers, pypika\n",
            "  Building wheel for sentence_transformers (setup.py) ... \u001b[?25l\u001b[?25hdone\n",
            "  Created wheel for sentence_transformers: filename=sentence_transformers-2.2.2-py3-none-any.whl size=125924 sha256=c104d80b8a22e10a7f1394f6f6313b6be4b6acb1dcbe07bb0a4b83d276be7662\n",
            "  Stored in directory: /root/.cache/pip/wheels/62/f2/10/1e606fd5f02395388f74e7462910fe851042f97238cbbd902f\n",
            "  Building wheel for pypika (pyproject.toml) ... \u001b[?25l\u001b[?25hdone\n",
            "  Created wheel for pypika: filename=PyPika-0.48.9-py2.py3-none-any.whl size=53725 sha256=a29cb8f54d2f2b8ec3a7d3c0e1831b3000f68d2292f5a728a7dc2e96622cf8de\n",
            "  Stored in directory: /root/.cache/pip/wheels/e1/26/51/d0bffb3d2fd82256676d7ad3003faea3bd6dddc9577af665f4\n",
            "Successfully built sentence_transformers pypika\n",
            "Installing collected packages: tokenizers, pypika, monotonic, lit, bitsandbytes, websockets, uvloop, uvicorn, tenacity, python-dotenv, pydantic, pulsar-client, overrides, nvidia-nvtx-cu11, nvidia-nccl-cu11, nvidia-cusparse-cu11, nvidia-curand-cu11, nvidia-cufft-cu11, nvidia-cuda-runtime-cu11, nvidia-cuda-nvrtc-cu11, nvidia-cuda-cupti-cu11, nvidia-cublas-cu11, mypy-extensions, marshmallow, humanfriendly, httptools, einops, chroma-hnswlib, bcrypt, backoff, watchfiles, typing-inspect, starlette, posthog, nvidia-cusolver-cu11, nvidia-cudnn-cu11, langsmith, coloredlogs, transformers, onnxruntime, fastapi, dataclasses-json, langchain, chromadb, triton, torch, torchvision, xformers, sentence_transformers, accelerate\n",
            "  Attempting uninstall: tokenizers\n",
            "    Found existing installation: tokenizers 0.20.3\n",
            "    Uninstalling tokenizers-0.20.3:\n",
            "      Successfully uninstalled tokenizers-0.20.3\n",
            "  Attempting uninstall: tenacity\n",
            "    Found existing installation: tenacity 9.0.0\n",
            "    Uninstalling tenacity-9.0.0:\n",
            "      Successfully uninstalled tenacity-9.0.0\n",
            "  Attempting uninstall: pydantic\n",
            "    Found existing installation: pydantic 2.10.2\n",
            "    Uninstalling pydantic-2.10.2:\n",
            "      Successfully uninstalled pydantic-2.10.2\n",
            "  Attempting uninstall: einops\n",
            "    Found existing installation: einops 0.8.0\n",
            "    Uninstalling einops-0.8.0:\n",
            "      Successfully uninstalled einops-0.8.0\n",
            "  Attempting uninstall: langsmith\n",
            "    Found existing installation: langsmith 0.1.147\n",
            "    Uninstalling langsmith-0.1.147:\n",
            "      Successfully uninstalled langsmith-0.1.147\n",
            "  Attempting uninstall: transformers\n",
            "    Found existing installation: transformers 4.46.3\n",
            "    Uninstalling transformers-4.46.3:\n",
            "      Successfully uninstalled transformers-4.46.3\n",
            "  Attempting uninstall: langchain\n",
            "    Found existing installation: langchain 0.3.9\n",
            "    Uninstalling langchain-0.3.9:\n",
            "      Successfully uninstalled langchain-0.3.9\n",
            "  Attempting uninstall: torch\n",
            "    Found existing installation: torch 2.5.1+cu121\n",
            "    Uninstalling torch-2.5.1+cu121:\n",
            "      Successfully uninstalled torch-2.5.1+cu121\n",
            "  Attempting uninstall: torchvision\n",
            "    Found existing installation: torchvision 0.20.1+cu121\n",
            "    Uninstalling torchvision-0.20.1+cu121:\n",
            "      Successfully uninstalled torchvision-0.20.1+cu121\n",
            "  Attempting uninstall: sentence_transformers\n",
            "    Found existing installation: sentence-transformers 3.2.1\n",
            "    Uninstalling sentence-transformers-3.2.1:\n",
            "      Successfully uninstalled sentence-transformers-3.2.1\n",
            "  Attempting uninstall: accelerate\n",
            "    Found existing installation: accelerate 1.1.1\n",
            "    Uninstalling accelerate-1.1.1:\n",
            "      Successfully uninstalled accelerate-1.1.1\n",
            "\u001b[31mERROR: pip's dependency resolver does not currently take into account all the packages that are installed. This behaviour is the source of the following dependency conflicts.\n",
            "albumentations 1.4.20 requires pydantic>=2.7.0, but you have pydantic 1.10.19 which is incompatible.\n",
            "langchain-core 0.3.21 requires langsmith<0.2.0,>=0.1.125, but you have langsmith 0.0.92 which is incompatible.\n",
            "langchain-core 0.3.21 requires pydantic<3.0.0,>=2.5.2; python_full_version < \"3.12.4\", but you have pydantic 1.10.19 which is incompatible.\n",
            "torchaudio 2.5.1+cu121 requires torch==2.5.1, but you have torch 2.0.1 which is incompatible.\u001b[0m\u001b[31m\n",
            "\u001b[0mSuccessfully installed accelerate-0.22.0 backoff-2.2.1 bcrypt-4.2.1 bitsandbytes-0.41.1 chroma-hnswlib-0.7.3 chromadb-0.4.12 coloredlogs-15.0.1 dataclasses-json-0.6.7 einops-0.6.1 fastapi-0.99.1 httptools-0.6.4 humanfriendly-10.0 langchain-0.0.300 langsmith-0.0.92 lit-18.1.8 marshmallow-3.23.1 monotonic-1.6 mypy-extensions-1.0.0 nvidia-cublas-cu11-11.10.3.66 nvidia-cuda-cupti-cu11-11.7.101 nvidia-cuda-nvrtc-cu11-11.7.99 nvidia-cuda-runtime-cu11-11.7.99 nvidia-cudnn-cu11-8.5.0.96 nvidia-cufft-cu11-10.9.0.58 nvidia-curand-cu11-10.2.10.91 nvidia-cusolver-cu11-11.4.0.1 nvidia-cusparse-cu11-11.7.4.91 nvidia-nccl-cu11-2.14.3 nvidia-nvtx-cu11-11.7.91 onnxruntime-1.20.1 overrides-7.7.0 posthog-3.7.4 pulsar-client-3.5.0 pydantic-1.10.19 pypika-0.48.9 python-dotenv-1.0.1 sentence_transformers-2.2.2 starlette-0.27.0 tenacity-8.5.0 tokenizers-0.13.3 torch-2.0.1 torchvision-0.15.2 transformers-4.33.0 triton-2.0.0 typing-inspect-0.9.0 uvicorn-0.32.1 uvloop-0.21.0 watchfiles-1.0.0 websockets-14.1 xformers-0.0.21\n",
            "Collecting PyPDF2\n",
            "  Downloading pypdf2-3.0.1-py3-none-any.whl.metadata (6.8 kB)\n",
            "Downloading pypdf2-3.0.1-py3-none-any.whl (232 kB)\n",
            "\u001b[2K   \u001b[90m━━━━━━━━━━━━━━━━━━━━━━━━━━━━━━━━━━━━━━━━\u001b[0m \u001b[32m232.6/232.6 kB\u001b[0m \u001b[31m4.3 MB/s\u001b[0m eta \u001b[36m0:00:00\u001b[0m\n",
            "\u001b[?25hInstalling collected packages: PyPDF2\n",
            "Successfully installed PyPDF2-3.0.1\n",
            "Collecting evaluate\n",
            "  Downloading evaluate-0.4.3-py3-none-any.whl.metadata (9.2 kB)\n",
            "Collecting rouge_score\n",
            "  Downloading rouge_score-0.1.2.tar.gz (17 kB)\n",
            "  Preparing metadata (setup.py) ... \u001b[?25l\u001b[?25hdone\n",
            "Collecting datasets>=2.0.0 (from evaluate)\n",
            "  Downloading datasets-3.1.0-py3-none-any.whl.metadata (20 kB)\n",
            "Requirement already satisfied: numpy>=1.17 in /usr/local/lib/python3.10/dist-packages (from evaluate) (1.26.4)\n",
            "Collecting dill (from evaluate)\n",
            "  Downloading dill-0.3.9-py3-none-any.whl.metadata (10 kB)\n",
            "Requirement already satisfied: pandas in /usr/local/lib/python3.10/dist-packages (from evaluate) (2.2.2)\n",
            "Requirement already satisfied: requests>=2.19.0 in /usr/local/lib/python3.10/dist-packages (from evaluate) (2.32.3)\n",
            "Requirement already satisfied: tqdm>=4.62.1 in /usr/local/lib/python3.10/dist-packages (from evaluate) (4.66.6)\n",
            "Collecting xxhash (from evaluate)\n",
            "  Downloading xxhash-3.5.0-cp310-cp310-manylinux_2_17_x86_64.manylinux2014_x86_64.whl.metadata (12 kB)\n",
            "Collecting multiprocess (from evaluate)\n",
            "  Downloading multiprocess-0.70.17-py310-none-any.whl.metadata (7.2 kB)\n",
            "Requirement already satisfied: fsspec>=2021.05.0 in /usr/local/lib/python3.10/dist-packages (from fsspec[http]>=2021.05.0->evaluate) (2024.10.0)\n",
            "Requirement already satisfied: huggingface-hub>=0.7.0 in /usr/local/lib/python3.10/dist-packages (from evaluate) (0.26.3)\n",
            "Requirement already satisfied: packaging in /usr/local/lib/python3.10/dist-packages (from evaluate) (24.2)\n",
            "Requirement already satisfied: absl-py in /usr/local/lib/python3.10/dist-packages (from rouge_score) (1.4.0)\n",
            "Requirement already satisfied: nltk in /usr/local/lib/python3.10/dist-packages (from rouge_score) (3.9.1)\n",
            "Requirement already satisfied: six>=1.14.0 in /usr/local/lib/python3.10/dist-packages (from rouge_score) (1.16.0)\n",
            "Requirement already satisfied: filelock in /usr/local/lib/python3.10/dist-packages (from datasets>=2.0.0->evaluate) (3.16.1)\n",
            "Requirement already satisfied: pyarrow>=15.0.0 in /usr/local/lib/python3.10/dist-packages (from datasets>=2.0.0->evaluate) (17.0.0)\n",
            "Collecting dill (from evaluate)\n",
            "  Downloading dill-0.3.8-py3-none-any.whl.metadata (10 kB)\n",
            "Collecting multiprocess (from evaluate)\n",
            "  Downloading multiprocess-0.70.16-py310-none-any.whl.metadata (7.2 kB)\n",
            "Collecting fsspec>=2021.05.0 (from fsspec[http]>=2021.05.0->evaluate)\n",
            "  Downloading fsspec-2024.9.0-py3-none-any.whl.metadata (11 kB)\n",
            "Requirement already satisfied: aiohttp in /usr/local/lib/python3.10/dist-packages (from datasets>=2.0.0->evaluate) (3.11.9)\n",
            "Requirement already satisfied: pyyaml>=5.1 in /usr/local/lib/python3.10/dist-packages (from datasets>=2.0.0->evaluate) (6.0.2)\n",
            "Requirement already satisfied: typing-extensions>=3.7.4.3 in /usr/local/lib/python3.10/dist-packages (from huggingface-hub>=0.7.0->evaluate) (4.12.2)\n",
            "Requirement already satisfied: charset-normalizer<4,>=2 in /usr/local/lib/python3.10/dist-packages (from requests>=2.19.0->evaluate) (3.4.0)\n",
            "Requirement already satisfied: idna<4,>=2.5 in /usr/local/lib/python3.10/dist-packages (from requests>=2.19.0->evaluate) (3.10)\n",
            "Requirement already satisfied: urllib3<3,>=1.21.1 in /usr/local/lib/python3.10/dist-packages (from requests>=2.19.0->evaluate) (2.2.3)\n",
            "Requirement already satisfied: certifi>=2017.4.17 in /usr/local/lib/python3.10/dist-packages (from requests>=2.19.0->evaluate) (2024.8.30)\n",
            "Requirement already satisfied: click in /usr/local/lib/python3.10/dist-packages (from nltk->rouge_score) (8.1.7)\n",
            "Requirement already satisfied: joblib in /usr/local/lib/python3.10/dist-packages (from nltk->rouge_score) (1.4.2)\n",
            "Requirement already satisfied: regex>=2021.8.3 in /usr/local/lib/python3.10/dist-packages (from nltk->rouge_score) (2024.9.11)\n",
            "Requirement already satisfied: python-dateutil>=2.8.2 in /usr/local/lib/python3.10/dist-packages (from pandas->evaluate) (2.8.2)\n",
            "Requirement already satisfied: pytz>=2020.1 in /usr/local/lib/python3.10/dist-packages (from pandas->evaluate) (2024.2)\n",
            "Requirement already satisfied: tzdata>=2022.7 in /usr/local/lib/python3.10/dist-packages (from pandas->evaluate) (2024.2)\n",
            "Requirement already satisfied: aiohappyeyeballs>=2.3.0 in /usr/local/lib/python3.10/dist-packages (from aiohttp->datasets>=2.0.0->evaluate) (2.4.4)\n",
            "Requirement already satisfied: aiosignal>=1.1.2 in /usr/local/lib/python3.10/dist-packages (from aiohttp->datasets>=2.0.0->evaluate) (1.3.1)\n",
            "Requirement already satisfied: async-timeout<6.0,>=4.0 in /usr/local/lib/python3.10/dist-packages (from aiohttp->datasets>=2.0.0->evaluate) (4.0.3)\n",
            "Requirement already satisfied: attrs>=17.3.0 in /usr/local/lib/python3.10/dist-packages (from aiohttp->datasets>=2.0.0->evaluate) (24.2.0)\n",
            "Requirement already satisfied: frozenlist>=1.1.1 in /usr/local/lib/python3.10/dist-packages (from aiohttp->datasets>=2.0.0->evaluate) (1.5.0)\n",
            "Requirement already satisfied: multidict<7.0,>=4.5 in /usr/local/lib/python3.10/dist-packages (from aiohttp->datasets>=2.0.0->evaluate) (6.1.0)\n",
            "Requirement already satisfied: propcache>=0.2.0 in /usr/local/lib/python3.10/dist-packages (from aiohttp->datasets>=2.0.0->evaluate) (0.2.1)\n",
            "Requirement already satisfied: yarl<2.0,>=1.17.0 in /usr/local/lib/python3.10/dist-packages (from aiohttp->datasets>=2.0.0->evaluate) (1.18.3)\n",
            "Downloading evaluate-0.4.3-py3-none-any.whl (84 kB)\n",
            "\u001b[2K   \u001b[90m━━━━━━━━━━━━━━━━━━━━━━━━━━━━━━━━━━━━━━━━\u001b[0m \u001b[32m84.0/84.0 kB\u001b[0m \u001b[31m2.3 MB/s\u001b[0m eta \u001b[36m0:00:00\u001b[0m\n",
            "\u001b[?25hDownloading datasets-3.1.0-py3-none-any.whl (480 kB)\n",
            "\u001b[2K   \u001b[90m━━━━━━━━━━━━━━━━━━━━━━━━━━━━━━━━━━━━━━━━\u001b[0m \u001b[32m480.6/480.6 kB\u001b[0m \u001b[31m10.0 MB/s\u001b[0m eta \u001b[36m0:00:00\u001b[0m\n",
            "\u001b[?25hDownloading dill-0.3.8-py3-none-any.whl (116 kB)\n",
            "\u001b[2K   \u001b[90m━━━━━━━━━━━━━━━━━━━━━━━━━━━━━━━━━━━━━━━━\u001b[0m \u001b[32m116.3/116.3 kB\u001b[0m \u001b[31m8.2 MB/s\u001b[0m eta \u001b[36m0:00:00\u001b[0m\n",
            "\u001b[?25hDownloading fsspec-2024.9.0-py3-none-any.whl (179 kB)\n",
            "\u001b[2K   \u001b[90m━━━━━━━━━━━━━━━━━━━━━━━━━━━━━━━━━━━━━━━━\u001b[0m \u001b[32m179.3/179.3 kB\u001b[0m \u001b[31m12.1 MB/s\u001b[0m eta \u001b[36m0:00:00\u001b[0m\n",
            "\u001b[?25hDownloading multiprocess-0.70.16-py310-none-any.whl (134 kB)\n",
            "\u001b[2K   \u001b[90m━━━━━━━━━━━━━━━━━━━━━━━━━━━━━━━━━━━━━━━━\u001b[0m \u001b[32m134.8/134.8 kB\u001b[0m \u001b[31m8.3 MB/s\u001b[0m eta \u001b[36m0:00:00\u001b[0m\n",
            "\u001b[?25hDownloading xxhash-3.5.0-cp310-cp310-manylinux_2_17_x86_64.manylinux2014_x86_64.whl (194 kB)\n",
            "\u001b[2K   \u001b[90m━━━━━━━━━━━━━━━━━━━━━━━━━━━━━━━━━━━━━━━━\u001b[0m \u001b[32m194.1/194.1 kB\u001b[0m \u001b[31m12.5 MB/s\u001b[0m eta \u001b[36m0:00:00\u001b[0m\n",
            "\u001b[?25hBuilding wheels for collected packages: rouge_score\n",
            "  Building wheel for rouge_score (setup.py) ... \u001b[?25l\u001b[?25hdone\n",
            "  Created wheel for rouge_score: filename=rouge_score-0.1.2-py3-none-any.whl size=24935 sha256=97407d31372dd49dcbfdafd21d1a4892ad5250e658db8de35de7e5934ab7ddf4\n",
            "  Stored in directory: /root/.cache/pip/wheels/5f/dd/89/461065a73be61a532ff8599a28e9beef17985c9e9c31e541b4\n",
            "Successfully built rouge_score\n",
            "Installing collected packages: xxhash, fsspec, dill, rouge_score, multiprocess, datasets, evaluate\n",
            "  Attempting uninstall: fsspec\n",
            "    Found existing installation: fsspec 2024.10.0\n",
            "    Uninstalling fsspec-2024.10.0:\n",
            "      Successfully uninstalled fsspec-2024.10.0\n",
            "\u001b[31mERROR: pip's dependency resolver does not currently take into account all the packages that are installed. This behaviour is the source of the following dependency conflicts.\n",
            "gcsfs 2024.10.0 requires fsspec==2024.10.0, but you have fsspec 2024.9.0 which is incompatible.\u001b[0m\u001b[31m\n",
            "\u001b[0mSuccessfully installed datasets-3.1.0 dill-0.3.8 evaluate-0.4.3 fsspec-2024.9.0 multiprocess-0.70.16 rouge_score-0.1.2 xxhash-3.5.0\n",
            "Collecting openai==0.28\n",
            "  Downloading openai-0.28.0-py3-none-any.whl.metadata (13 kB)\n",
            "Requirement already satisfied: requests>=2.20 in /usr/local/lib/python3.10/dist-packages (from openai==0.28) (2.32.3)\n",
            "Requirement already satisfied: tqdm in /usr/local/lib/python3.10/dist-packages (from openai==0.28) (4.66.6)\n",
            "Requirement already satisfied: aiohttp in /usr/local/lib/python3.10/dist-packages (from openai==0.28) (3.11.9)\n",
            "Requirement already satisfied: charset-normalizer<4,>=2 in /usr/local/lib/python3.10/dist-packages (from requests>=2.20->openai==0.28) (3.4.0)\n",
            "Requirement already satisfied: idna<4,>=2.5 in /usr/local/lib/python3.10/dist-packages (from requests>=2.20->openai==0.28) (3.10)\n",
            "Requirement already satisfied: urllib3<3,>=1.21.1 in /usr/local/lib/python3.10/dist-packages (from requests>=2.20->openai==0.28) (2.2.3)\n",
            "Requirement already satisfied: certifi>=2017.4.17 in /usr/local/lib/python3.10/dist-packages (from requests>=2.20->openai==0.28) (2024.8.30)\n",
            "Requirement already satisfied: aiohappyeyeballs>=2.3.0 in /usr/local/lib/python3.10/dist-packages (from aiohttp->openai==0.28) (2.4.4)\n",
            "Requirement already satisfied: aiosignal>=1.1.2 in /usr/local/lib/python3.10/dist-packages (from aiohttp->openai==0.28) (1.3.1)\n",
            "Requirement already satisfied: async-timeout<6.0,>=4.0 in /usr/local/lib/python3.10/dist-packages (from aiohttp->openai==0.28) (4.0.3)\n",
            "Requirement already satisfied: attrs>=17.3.0 in /usr/local/lib/python3.10/dist-packages (from aiohttp->openai==0.28) (24.2.0)\n",
            "Requirement already satisfied: frozenlist>=1.1.1 in /usr/local/lib/python3.10/dist-packages (from aiohttp->openai==0.28) (1.5.0)\n",
            "Requirement already satisfied: multidict<7.0,>=4.5 in /usr/local/lib/python3.10/dist-packages (from aiohttp->openai==0.28) (6.1.0)\n",
            "Requirement already satisfied: propcache>=0.2.0 in /usr/local/lib/python3.10/dist-packages (from aiohttp->openai==0.28) (0.2.1)\n",
            "Requirement already satisfied: yarl<2.0,>=1.17.0 in /usr/local/lib/python3.10/dist-packages (from aiohttp->openai==0.28) (1.18.3)\n",
            "Requirement already satisfied: typing-extensions>=4.1.0 in /usr/local/lib/python3.10/dist-packages (from multidict<7.0,>=4.5->aiohttp->openai==0.28) (4.12.2)\n",
            "Downloading openai-0.28.0-py3-none-any.whl (76 kB)\n",
            "\u001b[2K   \u001b[90m━━━━━━━━━━━━━━━━━━━━━━━━━━━━━━━━━━━━━━━━\u001b[0m \u001b[32m76.5/76.5 kB\u001b[0m \u001b[31m2.1 MB/s\u001b[0m eta \u001b[36m0:00:00\u001b[0m\n",
            "\u001b[?25hInstalling collected packages: openai\n",
            "  Attempting uninstall: openai\n",
            "    Found existing installation: openai 1.54.5\n",
            "    Uninstalling openai-1.54.5:\n",
            "      Successfully uninstalled openai-1.54.5\n",
            "Successfully installed openai-0.28.0\n",
            "Collecting pdfplumber\n",
            "  Downloading pdfplumber-0.11.4-py3-none-any.whl.metadata (41 kB)\n",
            "\u001b[2K     \u001b[90m━━━━━━━━━━━━━━━━━━━━━━━━━━━━━━━━━━━━━━━━\u001b[0m \u001b[32m42.0/42.0 kB\u001b[0m \u001b[31m1.7 MB/s\u001b[0m eta \u001b[36m0:00:00\u001b[0m\n",
            "\u001b[?25hCollecting pdfminer.six==20231228 (from pdfplumber)\n",
            "  Downloading pdfminer.six-20231228-py3-none-any.whl.metadata (4.2 kB)\n",
            "Requirement already satisfied: Pillow>=9.1 in /usr/local/lib/python3.10/dist-packages (from pdfplumber) (11.0.0)\n",
            "Collecting pypdfium2>=4.18.0 (from pdfplumber)\n",
            "  Downloading pypdfium2-4.30.0-py3-none-manylinux_2_17_x86_64.manylinux2014_x86_64.whl.metadata (48 kB)\n",
            "\u001b[2K     \u001b[90m━━━━━━━━━━━━━━━━━━━━━━━━━━━━━━━━━━━━━━━━\u001b[0m \u001b[32m48.5/48.5 kB\u001b[0m \u001b[31m3.2 MB/s\u001b[0m eta \u001b[36m0:00:00\u001b[0m\n",
            "\u001b[?25hRequirement already satisfied: charset-normalizer>=2.0.0 in /usr/local/lib/python3.10/dist-packages (from pdfminer.six==20231228->pdfplumber) (3.4.0)\n",
            "Requirement already satisfied: cryptography>=36.0.0 in /usr/local/lib/python3.10/dist-packages (from pdfminer.six==20231228->pdfplumber) (43.0.3)\n",
            "Requirement already satisfied: cffi>=1.12 in /usr/local/lib/python3.10/dist-packages (from cryptography>=36.0.0->pdfminer.six==20231228->pdfplumber) (1.17.1)\n",
            "Requirement already satisfied: pycparser in /usr/local/lib/python3.10/dist-packages (from cffi>=1.12->cryptography>=36.0.0->pdfminer.six==20231228->pdfplumber) (2.22)\n",
            "Downloading pdfplumber-0.11.4-py3-none-any.whl (59 kB)\n",
            "\u001b[2K   \u001b[90m━━━━━━━━━━━━━━━━━━━━━━━━━━━━━━━━━━━━━━━━\u001b[0m \u001b[32m59.2/59.2 kB\u001b[0m \u001b[31m4.1 MB/s\u001b[0m eta \u001b[36m0:00:00\u001b[0m\n",
            "\u001b[?25hDownloading pdfminer.six-20231228-py3-none-any.whl (5.6 MB)\n",
            "\u001b[2K   \u001b[90m━━━━━━━━━━━━━━━━━━━━━━━━━━━━━━━━━━━━━━━━\u001b[0m \u001b[32m5.6/5.6 MB\u001b[0m \u001b[31m55.1 MB/s\u001b[0m eta \u001b[36m0:00:00\u001b[0m\n",
            "\u001b[?25hDownloading pypdfium2-4.30.0-py3-none-manylinux_2_17_x86_64.manylinux2014_x86_64.whl (2.8 MB)\n",
            "\u001b[2K   \u001b[90m━━━━━━━━━━━━━━━━━━━━━━━━━━━━━━━━━━━━━━━━\u001b[0m \u001b[32m2.8/2.8 MB\u001b[0m \u001b[31m66.3 MB/s\u001b[0m eta \u001b[36m0:00:00\u001b[0m\n",
            "\u001b[?25hInstalling collected packages: pypdfium2, pdfminer.six, pdfplumber\n",
            "Successfully installed pdfminer.six-20231228 pdfplumber-0.11.4 pypdfium2-4.30.0\n"
          ]
        }
      ],
      "execution_count": null
    },
    {
      "cell_type": "markdown",
      "source": [
        "## Imports of Required Libraries"
      ],
      "metadata": {
        "id": "4ExntolPOLAu"
      }
    },
    {
      "cell_type": "code",
      "source": [
        "from torch import cuda, bfloat16\n",
        "import torch\n",
        "import transformers\n",
        "from transformers import AutoTokenizer\n",
        "from time import time\n",
        "#import chromadb\n",
        "#from chromadb.config import Settings\n",
        "from langchain.llms import HuggingFacePipeline\n",
        "from langchain.document_loaders import TextLoader\n",
        "from langchain.text_splitter import RecursiveCharacterTextSplitter\n",
        "from langchain.embeddings import HuggingFaceEmbeddings\n",
        "from langchain.chains import RetrievalQA\n",
        "from langchain.vectorstores import Chroma"
      ],
      "metadata": {
        "trusted": true,
        "execution": {
          "iopub.status.busy": "2024-12-01T05:44:14.458799Z",
          "iopub.execute_input": "2024-12-01T05:44:14.459505Z",
          "iopub.status.idle": "2024-12-01T05:44:19.538757Z",
          "shell.execute_reply.started": "2024-12-01T05:44:14.459471Z",
          "shell.execute_reply": "2024-12-01T05:44:19.538041Z"
        },
        "id": "kQODo-iKOLAv"
      },
      "outputs": [],
      "execution_count": null
    },
    {
      "cell_type": "code",
      "source": [
        "import kagglehub\n",
        "\n",
        "# Download latest version\n",
        "path = kagglehub.model_download(\"metaresearch/llama-2/pyTorch/7b-chat-hf\")\n",
        "\n",
        "print(\"Path to model files:\", path)"
      ],
      "metadata": {
        "trusted": true,
        "execution": {
          "iopub.status.busy": "2024-12-01T05:44:23.333909Z",
          "iopub.execute_input": "2024-12-01T05:44:23.334905Z",
          "iopub.status.idle": "2024-12-01T05:44:23.809581Z",
          "shell.execute_reply.started": "2024-12-01T05:44:23.334871Z",
          "shell.execute_reply": "2024-12-01T05:44:23.808601Z"
        },
        "id": "Wld8-MTNOLAv",
        "outputId": "dc3bbe54-9d59-4291-8f78-ccfa71f2fd26"
      },
      "outputs": [
        {
          "name": "stdout",
          "text": "Path to model files: /kaggle/input/llama-2/pytorch/7b-chat-hf/1\n",
          "output_type": "stream"
        }
      ],
      "execution_count": null
    },
    {
      "cell_type": "markdown",
      "source": [
        "## Definig Model"
      ],
      "metadata": {
        "id": "v4DR0dDoOLAw"
      }
    },
    {
      "cell_type": "code",
      "source": [
        "model_id = '/kaggle/input/llama-2/pytorch/7b-chat-hf/1'\n",
        "\n",
        "device = f'cuda:{cuda.current_device()}' if cuda.is_available() else 'cpu'\n",
        "\n",
        "# set quantization configuration to load large model with less GPU memory\n",
        "# this requires the `bitsandbytes` library\n",
        "bnb_config = transformers.BitsAndBytesConfig(\n",
        "    load_in_4bit=True,\n",
        "    bnb_4bit_quant_type='nf4',\n",
        "    bnb_4bit_use_double_quant=True,\n",
        "    bnb_4bit_compute_dtype=bfloat16\n",
        ")"
      ],
      "metadata": {
        "trusted": true,
        "execution": {
          "iopub.status.busy": "2024-12-01T05:44:27.718677Z",
          "iopub.execute_input": "2024-12-01T05:44:27.719469Z",
          "iopub.status.idle": "2024-12-01T05:44:27.804034Z",
          "shell.execute_reply.started": "2024-12-01T05:44:27.719435Z",
          "shell.execute_reply": "2024-12-01T05:44:27.803149Z"
        },
        "id": "DqOzjGWPOLAw"
      },
      "outputs": [],
      "execution_count": null
    },
    {
      "cell_type": "markdown",
      "source": [
        "## Model and Tokenizer Preparation"
      ],
      "metadata": {
        "id": "nA8w490BOLAx"
      }
    },
    {
      "cell_type": "code",
      "source": [
        "time_1 = time()\n",
        "model_config = transformers.AutoConfig.from_pretrained(\n",
        "    model_id,\n",
        ")\n",
        "model = transformers.AutoModelForCausalLM.from_pretrained(\n",
        "    model_id,\n",
        "    trust_remote_code=True,\n",
        "    config=model_config,\n",
        "    quantization_config=bnb_config,\n",
        "    device_map='auto',\n",
        ")\n",
        "tokenizer = AutoTokenizer.from_pretrained(model_id)\n",
        "time_2 = time()\n",
        "print(f\"Prepare model, tokenizer: {round(time_2-time_1, 3)} sec.\")"
      ],
      "metadata": {
        "trusted": true,
        "execution": {
          "iopub.status.busy": "2024-12-01T05:44:31.622230Z",
          "iopub.execute_input": "2024-12-01T05:44:31.622606Z",
          "iopub.status.idle": "2024-12-01T05:47:04.809967Z",
          "shell.execute_reply.started": "2024-12-01T05:44:31.622572Z",
          "shell.execute_reply": "2024-12-01T05:47:04.809012Z"
        },
        "colab": {
          "referenced_widgets": [
            "877daf8ab75b4af6869ec30f68f3415f"
          ]
        },
        "id": "jufRHfTROLAx",
        "outputId": "c493982c-c0c7-48be-9afd-9bc8ab7585e5"
      },
      "outputs": [
        {
          "output_type": "display_data",
          "data": {
            "text/plain": "Loading checkpoint shards:   0%|          | 0/2 [00:00<?, ?it/s]",
            "application/vnd.jupyter.widget-view+json": {
              "version_major": 2,
              "version_minor": 0,
              "model_id": "877daf8ab75b4af6869ec30f68f3415f"
            }
          },
          "metadata": {}
        },
        {
          "name": "stdout",
          "text": "Prepare model, tokenizer: 153.182 sec.\n",
          "output_type": "stream"
        },
        {
          "name": "stderr",
          "text": "/opt/conda/lib/python3.10/site-packages/transformers/generation/configuration_utils.py:362: UserWarning: `do_sample` is set to `False`. However, `temperature` is set to `0.9` -- this flag is only used in sample-based generation modes. You should set `do_sample=True` or unset `temperature`. This was detected when initializing the generation config instance, which means the corresponding file may hold incorrect parameterization and should be fixed.\n  warnings.warn(\n/opt/conda/lib/python3.10/site-packages/transformers/generation/configuration_utils.py:367: UserWarning: `do_sample` is set to `False`. However, `top_p` is set to `0.6` -- this flag is only used in sample-based generation modes. You should set `do_sample=True` or unset `top_p`. This was detected when initializing the generation config instance, which means the corresponding file may hold incorrect parameterization and should be fixed.\n  warnings.warn(\n",
          "output_type": "stream"
        }
      ],
      "execution_count": null
    },
    {
      "cell_type": "markdown",
      "source": [
        "## Pipeline Initialization"
      ],
      "metadata": {
        "id": "uHjQlRd1OLAx"
      }
    },
    {
      "cell_type": "code",
      "source": [
        "time_1 = time()\n",
        "query_pipeline = transformers.pipeline(\n",
        "        \"text-generation\",\n",
        "        model=model,\n",
        "        tokenizer=tokenizer,\n",
        "        torch_dtype=torch.float16,\n",
        "        device_map=\"auto\",)\n",
        "time_2 = time()\n",
        "print(f\"Prepare pipeline: {round(time_2-time_1, 3)} sec.\")"
      ],
      "metadata": {
        "trusted": true,
        "execution": {
          "iopub.status.busy": "2024-12-01T05:48:21.239781Z",
          "iopub.execute_input": "2024-12-01T05:48:21.240685Z",
          "iopub.status.idle": "2024-12-01T05:48:24.313959Z",
          "shell.execute_reply.started": "2024-12-01T05:48:21.240643Z",
          "shell.execute_reply": "2024-12-01T05:48:24.313015Z"
        },
        "id": "LIaeK4uNOLAy",
        "outputId": "e6e320af-738a-4977-e6e3-d205a24d4216"
      },
      "outputs": [
        {
          "name": "stdout",
          "text": "Prepare pipeline: 3.068 sec.\n",
          "output_type": "stream"
        }
      ],
      "execution_count": null
    },
    {
      "cell_type": "markdown",
      "source": [
        "## Model Testing and Inference"
      ],
      "metadata": {
        "id": "3pskjIMZOLAy"
      }
    },
    {
      "cell_type": "code",
      "source": [
        "def test_model(tokenizer, pipeline, prompt_to_test):\n",
        "    \"\"\"\n",
        "    Perform a query\n",
        "    print the result\n",
        "    Args:\n",
        "        tokenizer: the tokenizer\n",
        "        pipeline: the pipeline\n",
        "        prompt_to_test: the prompt\n",
        "    Returns\n",
        "        None\n",
        "    \"\"\"\n",
        "    # adapted from https://huggingface.co/blog/llama2#using-transformers\n",
        "    time_1 = time()\n",
        "    sequences = pipeline(\n",
        "        prompt_to_test,\n",
        "        do_sample=True,\n",
        "        top_k=10,\n",
        "        num_return_sequences=1,\n",
        "        eos_token_id=tokenizer.eos_token_id,\n",
        "        max_length=200,)\n",
        "    time_2 = time()\n",
        "    print(f\"Test inference: {round(time_2-time_1, 3)} sec.\")\n",
        "    for seq in sequences:\n",
        "        print(f\"Result: {seq['generated_text']}\")"
      ],
      "metadata": {
        "trusted": true,
        "execution": {
          "iopub.status.busy": "2024-12-01T05:49:15.707788Z",
          "iopub.execute_input": "2024-12-01T05:49:15.708063Z",
          "iopub.status.idle": "2024-12-01T05:49:15.713012Z",
          "shell.execute_reply.started": "2024-12-01T05:49:15.708038Z",
          "shell.execute_reply": "2024-12-01T05:49:15.712192Z"
        },
        "id": "4bE9hCgwOLAy"
      },
      "outputs": [],
      "execution_count": null
    },
    {
      "cell_type": "markdown",
      "source": [
        "## PDF Text Extraction for Knowledge Base"
      ],
      "metadata": {
        "id": "FHtoSSWGOLAy"
      }
    },
    {
      "cell_type": "code",
      "source": [
        "import re\n",
        "import pandas as pd\n",
        "from langchain.embeddings import OpenAIEmbeddings\n",
        "from langchain.vectorstores import FAISS\n",
        "from langchain.text_splitter import RecursiveCharacterTextSplitter\n",
        "import PyPDF2\n",
        "\n",
        "def extract_text_from_pdf(pdf_path):\n",
        "    text = \"\"\n",
        "    with open(pdf_path, \"rb\") as file:\n",
        "        pdf_reader = PyPDF2.PdfReader(file)  # Updated to PdfReader\n",
        "        for page in pdf_reader.pages:\n",
        "            text += page.extract_text()\n",
        "    return text\n",
        "\n",
        "pdf_path = '/kaggle/input/knowledge-base/Part3_knowledge base.pdf'\n",
        "raw_text = extract_text_from_pdf(pdf_path)\n"
      ],
      "metadata": {
        "trusted": true,
        "execution": {
          "iopub.status.busy": "2024-12-01T05:49:20.154304Z",
          "iopub.execute_input": "2024-12-01T05:49:20.155081Z",
          "iopub.status.idle": "2024-12-01T05:49:20.462537Z",
          "shell.execute_reply.started": "2024-12-01T05:49:20.155042Z",
          "shell.execute_reply": "2024-12-01T05:49:20.461856Z"
        },
        "id": "rwi7a4p7OLAy"
      },
      "outputs": [],
      "execution_count": null
    },
    {
      "cell_type": "markdown",
      "source": [
        "## Text Cleaning, Standardizing and Chunking for Preprocessing."
      ],
      "metadata": {
        "id": "ojC0kql8OLAz"
      }
    },
    {
      "cell_type": "code",
      "source": [
        "def clean_text(text):\n",
        "    # Remove headers, footers\n",
        "    text = re.sub(r'(\\n)+', ' ', text)  # Replace line breaks with space\n",
        "    text = re.sub(r'Page \\d+', '', text)  # Remove page numbers\n",
        "\n",
        "    # Remove irrelevant characters or symbols\n",
        "    text = text.replace('•', '').replace('—', '-')\n",
        "    text = re.sub(r'[^\\x00-\\x7F]+', ' ', text)  # Remove non-ASCII chars\n",
        "\n",
        "    return text\n",
        "\n",
        "cleaned_text = clean_text(raw_text)\n",
        "def standardize_financial_data(text):\n",
        "    # Convert billions to millions for consistency\n",
        "    text = re.sub(r'\\$([\\d.]+) billion', lambda x: f\"{float(x.group(1)) * 1000} million\", text)\n",
        "    text = re.sub(r'\\$([\\d,]+)', lambda x: x.group(1).replace(\",\", \"\"), text)  # Remove commas in numbers\n",
        "\n",
        "    # Standardize date format\n",
        "    text = re.sub(r'(\\w{3,9} \\d{1,2}, \\d{4})', lambda x: pd.to_datetime(x.group(1)).strftime('%Y-%m-%d'), text)\n",
        "\n",
        "    return text\n",
        "\n",
        "standardized_text = standardize_financial_data(cleaned_text)\n",
        "def chunk_text(text, chunk_size=500):\n",
        "    text_splitter = RecursiveCharacterTextSplitter(chunk_size=chunk_size, chunk_overlap=100)\n",
        "    chunks = text_splitter.split_text(text)\n",
        "    return [{\"text\": chunk, \"metadata\": {\"section\": \"Unknown\"}} for chunk in chunks]\n",
        "\n",
        "text_chunks = chunk_text(standardized_text)\n"
      ],
      "metadata": {
        "trusted": true,
        "execution": {
          "iopub.status.busy": "2024-12-01T05:49:28.383653Z",
          "iopub.execute_input": "2024-12-01T05:49:28.383934Z",
          "iopub.status.idle": "2024-12-01T05:49:28.410722Z",
          "shell.execute_reply.started": "2024-12-01T05:49:28.383909Z",
          "shell.execute_reply": "2024-12-01T05:49:28.409781Z"
        },
        "id": "Nwu2liATOLAz"
      },
      "outputs": [],
      "execution_count": null
    },
    {
      "cell_type": "code",
      "source": [
        "print(standardized_text[:1000])"
      ],
      "metadata": {
        "trusted": true,
        "execution": {
          "iopub.status.busy": "2024-12-01T05:49:51.220856Z",
          "iopub.execute_input": "2024-12-01T05:49:51.221108Z",
          "iopub.status.idle": "2024-12-01T05:49:51.231480Z",
          "shell.execute_reply.started": "2024-12-01T05:49:51.221084Z",
          "shell.execute_reply": "2024-12-01T05:49:51.230680Z"
        },
        "id": "w5C6BS2GOLAz",
        "outputId": "baaf93cc-cb91-4d87-9dc7-3f69082383e3"
      },
      "outputs": [
        {
          "name": "stdout",
          "text": "NEWS RELEASE Meta Reports Fourth Quarter and Full Year 2023 Results; Initiates Quarterly Dividend MENLO PARK, Calif. , Feb. 1, 2024  /PRNewswire/ -- Meta Platforms, Inc. (Nasdaq: META) today reported \u0000nancial results for the quarter and full year ended 2023-12-31. \"We had a good quarter as our community and business continue to grow,\" said Mark Zuckerberg, Meta founder and CEO. \"We've made a lot of progress on our vision for advancing AI and the metaverse.\"    Fourth Quarter and Full Year 2023 Financial Highlights  Three Months Ended December 31,    % Change Twelve Months Ended December 31,   % Change In millions, except percentages and per share amounts     2023  2022   2023  2022   Revenue $ 40,111  $ 32,165 25 % $ 134,902  $ 116,609  16 % Costs and expenses  23,727   25,766 (8) %  88,151   87,665 1 % Income from operations $ 16,384  $ 6,399 156 % $ 46,751  $ 28,944 62 % Operating margin  41 %  20 %    35 %  25 %   Provision for income taxes $ 2,791 $ 1,497 86 % $ 8,330 $ 5,619 48 % \n",
          "output_type": "stream"
        }
      ],
      "execution_count": null
    },
    {
      "cell_type": "code",
      "source": [
        "# Define end keywords (example: next section or known delimiter)\n",
        "end_keywords = [\"management commentary\", \"business updates\", \"key metrics\"]\n",
        "\n",
        "# Find the end index using the first matching end keyword\n",
        "end_index = len(standardized_text)  # Default to the end of the text\n",
        "for keyword in end_keywords:\n",
        "    idx = standardized_text.lower().find(keyword)\n",
        "    if idx > start_index:  # Ensure the end index is after the start index\n",
        "        end_index = min(end_index, idx)\n",
        "\n",
        "# Extract the Financial Highlights section\n",
        "financial_highlights_section = standardized_text[start_index:end_index]\n",
        "\n"
      ],
      "metadata": {
        "trusted": true,
        "execution": {
          "iopub.status.busy": "2024-12-01T07:45:58.490867Z",
          "iopub.execute_input": "2024-12-01T07:45:58.491259Z",
          "iopub.status.idle": "2024-12-01T07:45:58.496513Z",
          "shell.execute_reply.started": "2024-12-01T07:45:58.491224Z",
          "shell.execute_reply": "2024-12-01T07:45:58.495699Z"
        },
        "id": "9sKvTt-JOLAz"
      },
      "outputs": [],
      "execution_count": null
    },
    {
      "cell_type": "code",
      "source": [
        "# Clean extracted text for readability\n",
        "def refine_extracted_text(text):\n",
        "    text = re.sub(r'\\s+', ' ', text)  # Remove excessive whitespace\n",
        "    return text.strip()\n",
        "\n",
        "financial_highlights_cleaned = refine_extracted_text(financial_highlights_section)\n",
        "\n"
      ],
      "metadata": {
        "trusted": true,
        "execution": {
          "iopub.status.busy": "2024-12-01T07:46:15.310448Z",
          "iopub.execute_input": "2024-12-01T07:46:15.310813Z",
          "iopub.status.idle": "2024-12-01T07:46:15.316641Z",
          "shell.execute_reply.started": "2024-12-01T07:46:15.310781Z",
          "shell.execute_reply": "2024-12-01T07:46:15.315809Z"
        },
        "id": "33cRuJtXOLAz"
      },
      "outputs": [],
      "execution_count": null
    },
    {
      "cell_type": "markdown",
      "source": [
        "## Testing Retrieval-Augmented Generation with Chroma DB Vector Store"
      ],
      "metadata": {
        "id": "_Hxh2GDCOLAz"
      }
    },
    {
      "cell_type": "code",
      "source": [
        "from langchain.schema import Document\n",
        "from langchain.embeddings import HuggingFaceEmbeddings\n",
        "from langchain.vectorstores import Chroma\n",
        "\n",
        "# Convert each chunk into a Document object\n",
        "documents = [Document(page_content=chunk[\"text\"], metadata=chunk[\"metadata\"]) for chunk in text_chunks]\n",
        "\n",
        "# Initialize embeddings with the specified model\n",
        "model_name = \"sentence-transformers/all-mpnet-base-v2\"\n",
        "model_kwargs = {\"device\": \"cuda\"}\n",
        "embeddings = HuggingFaceEmbeddings(model_name=model_name, model_kwargs=model_kwargs)\n",
        "\n",
        "# Create the Chroma vector store from documents\n",
        "vectordb = Chroma.from_documents(documents=documents, embedding=embeddings, persist_directory=\"chroma_db\")\n"
      ],
      "metadata": {
        "trusted": true,
        "id": "KzFjOn2ZOLAz"
      },
      "outputs": [],
      "execution_count": null
    },
    {
      "cell_type": "markdown",
      "source": [
        "### Retriever and Retrieval-based Question Answering Setup\n",
        "Initializing a retriever from a vector database and sets up a retrieval-based QA pipeline using a specified language model (llm) and retriever for answering queries based on retrieved documents."
      ],
      "metadata": {
        "id": "HLUoIFTfOLAz"
      }
    },
    {
      "cell_type": "code",
      "source": [
        "from langchain.llms import HuggingFacePipeline\n",
        "\n",
        "# Wrap the query_pipeline in HuggingFacePipeline to use it as an LLM in LangChain\n",
        "llm = HuggingFacePipeline(pipeline=query_pipeline)\n",
        "\n",
        "\n",
        "retriever = vectordb.as_retriever()\n",
        "\n",
        "qa = RetrievalQA.from_chain_type(\n",
        "    llm=llm,\n",
        "    chain_type=\"stuff\",\n",
        "    retriever=retriever,\n",
        "    verbose=True\n",
        ")"
      ],
      "metadata": {
        "trusted": true,
        "id": "eB3XbgcjOLA0"
      },
      "outputs": [],
      "execution_count": null
    },
    {
      "cell_type": "markdown",
      "source": [
        "### Testing Retrieval-Augmented Generation (RAG)\n",
        "This function tests the RAG system by running a query through the QA pipeline, measuring inference time, and printing the query and its result."
      ],
      "metadata": {
        "id": "P8-JqpntOLA0"
      }
    },
    {
      "cell_type": "code",
      "source": [
        "def test_rag(qa, query):\n",
        "    print(f\"Query: {query}\\n\")\n",
        "    time_1 = time()\n",
        "    result = qa.run(query)\n",
        "    time_2 = time()\n",
        "    print(f\"Inference time: {round(time_2-time_1, 3)} sec.\")\n",
        "    print(\"\\nResult: \", result)"
      ],
      "metadata": {
        "trusted": true,
        "id": "iCqjUqCZOLA0"
      },
      "outputs": [],
      "execution_count": null
    },
    {
      "cell_type": "markdown",
      "source": [
        "### Testing with a query from PDF"
      ],
      "metadata": {
        "id": "d6lxMZg-OLA0"
      }
    },
    {
      "cell_type": "code",
      "source": [
        "query = \"How did Meta's workforce grow or change by the end of 2023? Provide specific numbers and any relevant financial data.\"\n",
        "\n",
        "test_rag(qa, query)"
      ],
      "metadata": {
        "trusted": true,
        "id": "MCk2nb_GOLA0"
      },
      "outputs": [],
      "execution_count": null
    },
    {
      "cell_type": "markdown",
      "source": [
        "## Rag Pipeline using Llama-2 and Chromadb"
      ],
      "metadata": {
        "id": "ayZFyKFsOLA0"
      }
    },
    {
      "cell_type": "code",
      "source": [
        "import evaluate\n",
        "\n",
        "# Load ROUGE evaluation metric\n",
        "rouge = evaluate.load(\"rouge\")\n",
        "\n",
        "# Load questions and reference answers from the PDF file\n",
        "from PyPDF2 import PdfReader\n",
        "\n",
        "def load_questions_answers(pdf_path):\n",
        "    reader = PdfReader(pdf_path)\n",
        "    text = \"\"\n",
        "    for page in reader.pages:\n",
        "        text += page.extract_text()\n",
        "\n",
        "    questions = []\n",
        "    reference_answers = []\n",
        "\n",
        "    # Extract questions and answers\n",
        "    for line in text.split(\"\\n\"):\n",
        "        if line.startswith(\"Question\"):\n",
        "            questions.append(line.split(\": \", 1)[1].strip())\n",
        "        elif line.startswith(\"Answer\"):\n",
        "            reference_answers.append(line.split(\": \", 1)[1].strip())\n",
        "\n",
        "    return questions, reference_answers\n",
        "\n",
        "# Load from the provided PDF\n",
        "pdf_path = '/kaggle/input/manual-questions/ManualQuestions.pdf'\n",
        "questions, reference_answers = load_questions_answers(pdf_path)\n",
        "\n",
        "# Generate answers using the model\n",
        "generated_answers = []\n",
        "for question in questions:\n",
        "    generated_answer = qa.run(question)  # Assuming `qa` is the setup RetrievalQA chain\n",
        "    generated_answers.append(generated_answer)\n",
        "\n",
        "# Calculate ROUGE scores\n",
        "rouge_scores = rouge.compute(predictions=generated_answers, references=reference_answers)\n",
        "print(\"ROUGE scores:\", rouge_scores)\n"
      ],
      "metadata": {
        "trusted": true,
        "execution": {
          "iopub.status.busy": "2024-12-01T08:08:39.470941Z",
          "iopub.execute_input": "2024-12-01T08:08:39.471321Z",
          "iopub.status.idle": "2024-12-01T08:08:49.486884Z",
          "shell.execute_reply.started": "2024-12-01T08:08:39.471289Z",
          "shell.execute_reply": "2024-12-01T08:08:49.485971Z"
        },
        "colab": {
          "referenced_widgets": [
            "d660a51ce1ba44f8bd6c7acc58c9cff8",
            "1de3c8a5ab2941cb9e29b9a8b318b566",
            "2f07e0539d0645a98861ef7f2b6a2c44",
            "120ad7c392444f859d89baf097f3c8ec",
            "7bc87b6055fa46b49d8aa21090be9081",
            "308b781f2db141459d02e4128a4c9e27",
            "919466540798434e94293a8864f969f8",
            "0a848d44119448489e79eef7d1f837f6",
            "bd116f725fd1407e96d0b367d576b476",
            "b7252378033b40878730ad82a5fc1bff",
            "5eb8c86a516b4f3b88d02e61f2651f74",
            "da266b7ad7504ddf84563d3c5cc9d13d",
            "e8094b3098674b629925310ae9fbb571",
            "42a80af043ca45e0a6e14ec77a7c69b6"
          ]
        },
        "id": "WZ2TOUM5OLA0",
        "outputId": "b7eb296c-bc2e-4cba-c961-a9f83e349a16"
      },
      "outputs": [
        {
          "name": "stdout",
          "text": "\n\n\u001b[1m> Entering new RetrievalQA chain...\u001b[0m\n",
          "output_type": "stream"
        },
        {
          "output_type": "display_data",
          "data": {
            "text/plain": "Batches:   0%|          | 0/1 [00:00<?, ?it/s]",
            "application/vnd.jupyter.widget-view+json": {
              "version_major": 2,
              "version_minor": 0,
              "model_id": "d660a51ce1ba44f8bd6c7acc58c9cff8"
            }
          },
          "metadata": {}
        },
        {
          "name": "stdout",
          "text": "\n\u001b[1m> Finished chain.\u001b[0m\n\n\n\u001b[1m> Entering new RetrievalQA chain...\u001b[0m\n",
          "output_type": "stream"
        },
        {
          "output_type": "display_data",
          "data": {
            "text/plain": "Batches:   0%|          | 0/1 [00:00<?, ?it/s]",
            "application/vnd.jupyter.widget-view+json": {
              "version_major": 2,
              "version_minor": 0,
              "model_id": "1de3c8a5ab2941cb9e29b9a8b318b566"
            }
          },
          "metadata": {}
        },
        {
          "name": "stdout",
          "text": "\n\u001b[1m> Finished chain.\u001b[0m\n\n\n\u001b[1m> Entering new RetrievalQA chain...\u001b[0m\n",
          "output_type": "stream"
        },
        {
          "output_type": "display_data",
          "data": {
            "text/plain": "Batches:   0%|          | 0/1 [00:00<?, ?it/s]",
            "application/vnd.jupyter.widget-view+json": {
              "version_major": 2,
              "version_minor": 0,
              "model_id": "2f07e0539d0645a98861ef7f2b6a2c44"
            }
          },
          "metadata": {}
        },
        {
          "name": "stdout",
          "text": "\n\u001b[1m> Finished chain.\u001b[0m\n\n\n\u001b[1m> Entering new RetrievalQA chain...\u001b[0m\n",
          "output_type": "stream"
        },
        {
          "output_type": "display_data",
          "data": {
            "text/plain": "Batches:   0%|          | 0/1 [00:00<?, ?it/s]",
            "application/vnd.jupyter.widget-view+json": {
              "version_major": 2,
              "version_minor": 0,
              "model_id": "120ad7c392444f859d89baf097f3c8ec"
            }
          },
          "metadata": {}
        },
        {
          "name": "stdout",
          "text": "\n\u001b[1m> Finished chain.\u001b[0m\n\n\n\u001b[1m> Entering new RetrievalQA chain...\u001b[0m\n",
          "output_type": "stream"
        },
        {
          "output_type": "display_data",
          "data": {
            "text/plain": "Batches:   0%|          | 0/1 [00:00<?, ?it/s]",
            "application/vnd.jupyter.widget-view+json": {
              "version_major": 2,
              "version_minor": 0,
              "model_id": "7bc87b6055fa46b49d8aa21090be9081"
            }
          },
          "metadata": {}
        },
        {
          "name": "stdout",
          "text": "\n\u001b[1m> Finished chain.\u001b[0m\n\n\n\u001b[1m> Entering new RetrievalQA chain...\u001b[0m\n",
          "output_type": "stream"
        },
        {
          "output_type": "display_data",
          "data": {
            "text/plain": "Batches:   0%|          | 0/1 [00:00<?, ?it/s]",
            "application/vnd.jupyter.widget-view+json": {
              "version_major": 2,
              "version_minor": 0,
              "model_id": "308b781f2db141459d02e4128a4c9e27"
            }
          },
          "metadata": {}
        },
        {
          "name": "stdout",
          "text": "\n\u001b[1m> Finished chain.\u001b[0m\n\n\n\u001b[1m> Entering new RetrievalQA chain...\u001b[0m\n",
          "output_type": "stream"
        },
        {
          "output_type": "display_data",
          "data": {
            "text/plain": "Batches:   0%|          | 0/1 [00:00<?, ?it/s]",
            "application/vnd.jupyter.widget-view+json": {
              "version_major": 2,
              "version_minor": 0,
              "model_id": "919466540798434e94293a8864f969f8"
            }
          },
          "metadata": {}
        },
        {
          "name": "stdout",
          "text": "\n\u001b[1m> Finished chain.\u001b[0m\n\n\n\u001b[1m> Entering new RetrievalQA chain...\u001b[0m\n",
          "output_type": "stream"
        },
        {
          "output_type": "display_data",
          "data": {
            "text/plain": "Batches:   0%|          | 0/1 [00:00<?, ?it/s]",
            "application/vnd.jupyter.widget-view+json": {
              "version_major": 2,
              "version_minor": 0,
              "model_id": "0a848d44119448489e79eef7d1f837f6"
            }
          },
          "metadata": {}
        },
        {
          "name": "stdout",
          "text": "\n\u001b[1m> Finished chain.\u001b[0m\n\n\n\u001b[1m> Entering new RetrievalQA chain...\u001b[0m\n",
          "output_type": "stream"
        },
        {
          "output_type": "display_data",
          "data": {
            "text/plain": "Batches:   0%|          | 0/1 [00:00<?, ?it/s]",
            "application/vnd.jupyter.widget-view+json": {
              "version_major": 2,
              "version_minor": 0,
              "model_id": "bd116f725fd1407e96d0b367d576b476"
            }
          },
          "metadata": {}
        },
        {
          "name": "stdout",
          "text": "\n\u001b[1m> Finished chain.\u001b[0m\n\n\n\u001b[1m> Entering new RetrievalQA chain...\u001b[0m\n",
          "output_type": "stream"
        },
        {
          "output_type": "display_data",
          "data": {
            "text/plain": "Batches:   0%|          | 0/1 [00:00<?, ?it/s]",
            "application/vnd.jupyter.widget-view+json": {
              "version_major": 2,
              "version_minor": 0,
              "model_id": "b7252378033b40878730ad82a5fc1bff"
            }
          },
          "metadata": {}
        },
        {
          "name": "stdout",
          "text": "\n\u001b[1m> Finished chain.\u001b[0m\n\n\n\u001b[1m> Entering new RetrievalQA chain...\u001b[0m\n",
          "output_type": "stream"
        },
        {
          "output_type": "display_data",
          "data": {
            "text/plain": "Batches:   0%|          | 0/1 [00:00<?, ?it/s]",
            "application/vnd.jupyter.widget-view+json": {
              "version_major": 2,
              "version_minor": 0,
              "model_id": "5eb8c86a516b4f3b88d02e61f2651f74"
            }
          },
          "metadata": {}
        },
        {
          "name": "stdout",
          "text": "\n\u001b[1m> Finished chain.\u001b[0m\n\n\n\u001b[1m> Entering new RetrievalQA chain...\u001b[0m\n",
          "output_type": "stream"
        },
        {
          "output_type": "display_data",
          "data": {
            "text/plain": "Batches:   0%|          | 0/1 [00:00<?, ?it/s]",
            "application/vnd.jupyter.widget-view+json": {
              "version_major": 2,
              "version_minor": 0,
              "model_id": "da266b7ad7504ddf84563d3c5cc9d13d"
            }
          },
          "metadata": {}
        },
        {
          "name": "stdout",
          "text": "\n\u001b[1m> Finished chain.\u001b[0m\n\n\n\u001b[1m> Entering new RetrievalQA chain...\u001b[0m\n",
          "output_type": "stream"
        },
        {
          "output_type": "display_data",
          "data": {
            "text/plain": "Batches:   0%|          | 0/1 [00:00<?, ?it/s]",
            "application/vnd.jupyter.widget-view+json": {
              "version_major": 2,
              "version_minor": 0,
              "model_id": "e8094b3098674b629925310ae9fbb571"
            }
          },
          "metadata": {}
        },
        {
          "name": "stdout",
          "text": "\n\u001b[1m> Finished chain.\u001b[0m\n\n\n\u001b[1m> Entering new RetrievalQA chain...\u001b[0m\n",
          "output_type": "stream"
        },
        {
          "output_type": "display_data",
          "data": {
            "text/plain": "Batches:   0%|          | 0/1 [00:00<?, ?it/s]",
            "application/vnd.jupyter.widget-view+json": {
              "version_major": 2,
              "version_minor": 0,
              "model_id": "42a80af043ca45e0a6e14ec77a7c69b6"
            }
          },
          "metadata": {}
        },
        {
          "name": "stdout",
          "text": "\n\u001b[1m> Finished chain.\u001b[0m\nROUGE scores: {'rouge1': 0.2826429437193082, 'rouge2': 0.1208655020561837, 'rougeL': 0.23514646750177573, 'rougeLsum': 0.23810683702911686}\n",
          "output_type": "stream"
        }
      ],
      "execution_count": null
    },
    {
      "cell_type": "markdown",
      "source": [
        "## Rag pipeline using prompt"
      ],
      "metadata": {
        "id": "kU_G0Kj0OLA0"
      }
    },
    {
      "cell_type": "code",
      "source": [
        "import pdfplumber\n",
        "from langchain.schema import Document\n",
        "from langchain.embeddings import HuggingFaceEmbeddings\n",
        "from langchain.vectorstores import Chroma\n",
        "from langchain.chains import RetrievalQA\n",
        "from time import time\n",
        "import evaluate\n",
        "\n",
        "# Define function to extract text from PDF\n",
        "def extract_text_from_pdf(pdf_path):\n",
        "    questions = []\n",
        "    reference_answers = []\n",
        "    with pdfplumber.open(pdf_path) as pdf:\n",
        "        for page in pdf.pages:\n",
        "            text = page.extract_text()\n",
        "            lines = text.split('\\n')\n",
        "            # Assuming questions and reference answers are structured as Q1, A1, Q2, A2...\n",
        "            for i, line in enumerate(lines):\n",
        "                if line.startswith(\"Q\"):  # Identifying question lines\n",
        "                    questions.append(line[3:].strip())\n",
        "                elif line.startswith(\"A\"):  # Identifying answer lines\n",
        "                    reference_answers.append(line[3:].strip())\n",
        "    return questions, reference_answers\n",
        "\n",
        "# Path to the PDF file\n",
        "pdf_path = \"/kaggle/input/manual-questions/ManualQuestions.pdf\"\n",
        "\n",
        "# Extract questions and reference answers from the PDF\n",
        "questions, reference_answers = extract_text_from_pdf(pdf_path)\n",
        "\n",
        "# Assuming standardized_text is already defined\n",
        "def chunk_text(text, chunk_size=1000):\n",
        "    text_splitter = RecursiveCharacterTextSplitter(chunk_size=chunk_size, chunk_overlap=20)\n",
        "    chunks = text_splitter.split_text(text)\n",
        "    return [{\"text\": chunk, \"metadata\": {\"section\": \"Unknown\"}} for chunk in chunks]\n",
        "\n",
        "text_chunks = chunk_text(standardized_text)\n",
        "\n",
        "# Convert each chunk into a Document object\n",
        "documents = [Document(page_content=chunk[\"text\"], metadata=chunk[\"metadata\"]) for chunk in text_chunks]\n",
        "\n",
        "# Initialize embeddings with the specified model\n",
        "model_name = \"sentence-transformers/all-mpnet-base-v2\"\n",
        "model_kwargs = {\"device\": \"cuda\"}\n",
        "embeddings = HuggingFaceEmbeddings(model_name=model_name, model_kwargs=model_kwargs)\n",
        "\n",
        "# Create the Chroma vector store from documents\n",
        "vectordb = Chroma.from_documents(documents=documents, embedding=embeddings, persist_directory=\"chroma_db\")\n",
        "\n",
        "retriever = vectordb.as_retriever()\n",
        "\n",
        "qa = RetrievalQA.from_chain_type(\n",
        "    llm=llm,\n",
        "    chain_type=\"stuff\",\n",
        "    retriever=retriever,\n",
        "    verbose=True\n",
        ")\n",
        "\n",
        "# Generate answers using the model\n",
        "generated_answers = []\n",
        "for question in questions:\n",
        "    preamble = (\n",
        "        \"Based on Meta's Q4 2023 financial report and related highlights, \"\n",
        "        \"please provide a detailed answer to the following question: \"\n",
        "    )\n",
        "    refined_prompt = f\"{preamble}{question}\"\n",
        "\n",
        "    # Generate answer\n",
        "    print(f\"Prompt: {refined_prompt}\\n\")\n",
        "    generated_answer = qa.run(refined_prompt)\n",
        "    generated_answers.append(generated_answer)\n",
        "\n",
        "# Load ROUGE evaluation metric\n",
        "rouge = evaluate.load(\"rouge\")\n",
        "\n",
        "# Calculate ROUGE scores\n",
        "rouge_scores = rouge.compute(predictions=generated_answers, references=reference_answers)\n",
        "\n",
        "# Print results\n",
        "print(\"\\nGenerated Answers:\")\n",
        "for i, (q, ans) in enumerate(zip(questions, generated_answers)):\n",
        "    print(f\"Q{i + 1}: {q}\\nA: {ans}\\n\")\n",
        "print(\"Improved ROUGE scores:\", rouge_scores)\n"
      ],
      "metadata": {
        "trusted": true,
        "execution": {
          "iopub.status.busy": "2024-12-01T08:19:08.043886Z",
          "iopub.execute_input": "2024-12-01T08:19:08.044221Z",
          "iopub.status.idle": "2024-12-01T08:19:22.851005Z",
          "shell.execute_reply.started": "2024-12-01T08:19:08.044192Z",
          "shell.execute_reply": "2024-12-01T08:19:22.850174Z"
        },
        "colab": {
          "referenced_widgets": [
            "c8a70eea99114f19b3b19dace6c549bb",
            "8e0462e9a3574a3ba07bd399284c6cc6",
            "2779c18f22ad4e23a67b7c19018374e5",
            "b5b02e28fb584fc98b4295b387d3afc3",
            "c780fae6fb08429992b534ec2105ca5e",
            "404a0424cfb34d67ac5098855956b021",
            "1e2aed4f3bd44ca2b3b90274755fc6ea",
            "11e37f7fc8334f06b559b7595833cc5c",
            "89d3667b8aa446a9afef5a4baedc5e3b",
            "91b47e212b234aab99f138d0db2977f4",
            "b0e6162ec81041ad800ba529c5e11642",
            "da55d8ea2d324c86a446fb869a0db5c5",
            "5197e37f6e41471eb6d66c0cef4c7513",
            "b17e7806f4a040c2a84b3821b1c09167",
            "c1c2555d5a5d47f4ab93332ece728778",
            "6c35508e035d465db0625f8ca1ad2bf5"
          ]
        },
        "id": "JQ7n5i1-OLA1",
        "outputId": "4ef44afc-e3fa-4a8f-c47e-561a4b39d392"
      },
      "outputs": [
        {
          "output_type": "display_data",
          "data": {
            "text/plain": "Batches:   0%|          | 0/1 [00:00<?, ?it/s]",
            "application/vnd.jupyter.widget-view+json": {
              "version_major": 2,
              "version_minor": 0,
              "model_id": "c8a70eea99114f19b3b19dace6c549bb"
            }
          },
          "metadata": {}
        },
        {
          "name": "stdout",
          "text": "Prompt: Based on Meta's Q4 2023 financial report and related highlights, please provide a detailed answer to the following question: stion 1: How did Meta’s workforce change by the end of 2023?\n\n\n\n\u001b[1m> Entering new RetrievalQA chain...\u001b[0m\n",
          "output_type": "stream"
        },
        {
          "output_type": "display_data",
          "data": {
            "text/plain": "Batches:   0%|          | 0/1 [00:00<?, ?it/s]",
            "application/vnd.jupyter.widget-view+json": {
              "version_major": 2,
              "version_minor": 0,
              "model_id": "8e0462e9a3574a3ba07bd399284c6cc6"
            }
          },
          "metadata": {}
        },
        {
          "name": "stdout",
          "text": "\n\u001b[1m> Finished chain.\u001b[0m\nPrompt: Based on Meta's Q4 2023 financial report and related highlights, please provide a detailed answer to the following question: stion 2: What is the report quarter, and when did it end?\n\n\n\n\u001b[1m> Entering new RetrievalQA chain...\u001b[0m\n",
          "output_type": "stream"
        },
        {
          "output_type": "display_data",
          "data": {
            "text/plain": "Batches:   0%|          | 0/1 [00:00<?, ?it/s]",
            "application/vnd.jupyter.widget-view+json": {
              "version_major": 2,
              "version_minor": 0,
              "model_id": "2779c18f22ad4e23a67b7c19018374e5"
            }
          },
          "metadata": {}
        },
        {
          "name": "stdout",
          "text": "\n\u001b[1m> Finished chain.\u001b[0m\nPrompt: Based on Meta's Q4 2023 financial report and related highlights, please provide a detailed answer to the following question: stion 3: What were the key financial highlights this quarter (revenue, gross margin, operating\n\n\n\n\u001b[1m> Entering new RetrievalQA chain...\u001b[0m\n",
          "output_type": "stream"
        },
        {
          "output_type": "display_data",
          "data": {
            "text/plain": "Batches:   0%|          | 0/1 [00:00<?, ?it/s]",
            "application/vnd.jupyter.widget-view+json": {
              "version_major": 2,
              "version_minor": 0,
              "model_id": "b5b02e28fb584fc98b4295b387d3afc3"
            }
          },
          "metadata": {}
        },
        {
          "name": "stdout",
          "text": "\n\u001b[1m> Finished chain.\u001b[0m\nPrompt: Based on Meta's Q4 2023 financial report and related highlights, please provide a detailed answer to the following question: stion 4: How much did Meta spend on restructuring for the whole year and Q4?\n\n\n\n\u001b[1m> Entering new RetrievalQA chain...\u001b[0m\n",
          "output_type": "stream"
        },
        {
          "output_type": "display_data",
          "data": {
            "text/plain": "Batches:   0%|          | 0/1 [00:00<?, ?it/s]",
            "application/vnd.jupyter.widget-view+json": {
              "version_major": 2,
              "version_minor": 0,
              "model_id": "c780fae6fb08429992b534ec2105ca5e"
            }
          },
          "metadata": {}
        },
        {
          "name": "stdout",
          "text": "\n\u001b[1m> Finished chain.\u001b[0m\nPrompt: Based on Meta's Q4 2023 financial report and related highlights, please provide a detailed answer to the following question: stion 5: What happened with Meta’s ad impressions and average price per ad in Q4 and for the\n\n\n\n\u001b[1m> Entering new RetrievalQA chain...\u001b[0m\n",
          "output_type": "stream"
        },
        {
          "output_type": "display_data",
          "data": {
            "text/plain": "Batches:   0%|          | 0/1 [00:00<?, ?it/s]",
            "application/vnd.jupyter.widget-view+json": {
              "version_major": 2,
              "version_minor": 0,
              "model_id": "404a0424cfb34d67ac5098855956b021"
            }
          },
          "metadata": {}
        },
        {
          "name": "stdout",
          "text": "\n\u001b[1m> Finished chain.\u001b[0m\nPrompt: Based on Meta's Q4 2023 financial report and related highlights, please provide a detailed answer to the following question: stion 6: What’s the revenue outlook for Q1 2024?\n\n\n\n\u001b[1m> Entering new RetrievalQA chain...\u001b[0m\n",
          "output_type": "stream"
        },
        {
          "output_type": "display_data",
          "data": {
            "text/plain": "Batches:   0%|          | 0/1 [00:00<?, ?it/s]",
            "application/vnd.jupyter.widget-view+json": {
              "version_major": 2,
              "version_minor": 0,
              "model_id": "1e2aed4f3bd44ca2b3b90274755fc6ea"
            }
          },
          "metadata": {}
        },
        {
          "name": "stdout",
          "text": "\n\u001b[1m> Finished chain.\u001b[0m\nPrompt: Based on Meta's Q4 2023 financial report and related highlights, please provide a detailed answer to the following question: stion 7: What were Meta’s total costs and expenses for Q4 and the full year 2023?\n\n\n\n\u001b[1m> Entering new RetrievalQA chain...\u001b[0m\n",
          "output_type": "stream"
        },
        {
          "output_type": "display_data",
          "data": {
            "text/plain": "Batches:   0%|          | 0/1 [00:00<?, ?it/s]",
            "application/vnd.jupyter.widget-view+json": {
              "version_major": 2,
              "version_minor": 0,
              "model_id": "11e37f7fc8334f06b559b7595833cc5c"
            }
          },
          "metadata": {}
        },
        {
          "name": "stdout",
          "text": "\n\u001b[1m> Finished chain.\u001b[0m\nPrompt: Based on Meta's Q4 2023 financial report and related highlights, please provide a detailed answer to the following question: stion 8: How much cash and marketable securities did Meta have on hand as of December 31,\n\n\n\n\u001b[1m> Entering new RetrievalQA chain...\u001b[0m\n",
          "output_type": "stream"
        },
        {
          "output_type": "display_data",
          "data": {
            "text/plain": "Batches:   0%|          | 0/1 [00:00<?, ?it/s]",
            "application/vnd.jupyter.widget-view+json": {
              "version_major": 2,
              "version_minor": 0,
              "model_id": "89d3667b8aa446a9afef5a4baedc5e3b"
            }
          },
          "metadata": {}
        },
        {
          "name": "stdout",
          "text": "\n\u001b[1m> Finished chain.\u001b[0m\nPrompt: Based on Meta's Q4 2023 financial report and related highlights, please provide a detailed answer to the following question: stion 9: What were the main areas Meta invested in during 2023?\n\n\n\n\u001b[1m> Entering new RetrievalQA chain...\u001b[0m\n",
          "output_type": "stream"
        },
        {
          "output_type": "display_data",
          "data": {
            "text/plain": "Batches:   0%|          | 0/1 [00:00<?, ?it/s]",
            "application/vnd.jupyter.widget-view+json": {
              "version_major": 2,
              "version_minor": 0,
              "model_id": "91b47e212b234aab99f138d0db2977f4"
            }
          },
          "metadata": {}
        },
        {
          "name": "stdout",
          "text": "\n\u001b[1m> Finished chain.\u001b[0m\nPrompt: Based on Meta's Q4 2023 financial report and related highlights, please provide a detailed answer to the following question: stion 10: How did the Family of Apps and Reality Labs perform in Q4 2023?\n\n\n\n\u001b[1m> Entering new RetrievalQA chain...\u001b[0m\n",
          "output_type": "stream"
        },
        {
          "output_type": "display_data",
          "data": {
            "text/plain": "Batches:   0%|          | 0/1 [00:00<?, ?it/s]",
            "application/vnd.jupyter.widget-view+json": {
              "version_major": 2,
              "version_minor": 0,
              "model_id": "b0e6162ec81041ad800ba529c5e11642"
            }
          },
          "metadata": {}
        },
        {
          "name": "stdout",
          "text": "\n\u001b[1m> Finished chain.\u001b[0m\nPrompt: Based on Meta's Q4 2023 financial report and related highlights, please provide a detailed answer to the following question: stion 11: How much free cash flow did Meta generate in Q4 and the full year 2023?\n\n\n\n\u001b[1m> Entering new RetrievalQA chain...\u001b[0m\n",
          "output_type": "stream"
        },
        {
          "output_type": "display_data",
          "data": {
            "text/plain": "Batches:   0%|          | 0/1 [00:00<?, ?it/s]",
            "application/vnd.jupyter.widget-view+json": {
              "version_major": 2,
              "version_minor": 0,
              "model_id": "da55d8ea2d324c86a446fb869a0db5c5"
            }
          },
          "metadata": {}
        },
        {
          "name": "stdout",
          "text": "\n\u001b[1m> Finished chain.\u001b[0m\nPrompt: Based on Meta's Q4 2023 financial report and related highlights, please provide a detailed answer to the following question: stion 12: Did Meta make any changes to its stock repurchase program or dividends for 2024?\n\n\n\n\u001b[1m> Entering new RetrievalQA chain...\u001b[0m\n",
          "output_type": "stream"
        },
        {
          "output_type": "display_data",
          "data": {
            "text/plain": "Batches:   0%|          | 0/1 [00:00<?, ?it/s]",
            "application/vnd.jupyter.widget-view+json": {
              "version_major": 2,
              "version_minor": 0,
              "model_id": "5197e37f6e41471eb6d66c0cef4c7513"
            }
          },
          "metadata": {}
        },
        {
          "name": "stdout",
          "text": "\n\u001b[1m> Finished chain.\u001b[0m\nPrompt: Based on Meta's Q4 2023 financial report and related highlights, please provide a detailed answer to the following question: stion 13: What risks did Meta highlight for 2024?\n\n\n\n\u001b[1m> Entering new RetrievalQA chain...\u001b[0m\n",
          "output_type": "stream"
        },
        {
          "output_type": "display_data",
          "data": {
            "text/plain": "Batches:   0%|          | 0/1 [00:00<?, ?it/s]",
            "application/vnd.jupyter.widget-view+json": {
              "version_major": 2,
              "version_minor": 0,
              "model_id": "b17e7806f4a040c2a84b3821b1c09167"
            }
          },
          "metadata": {}
        },
        {
          "name": "stdout",
          "text": "\n\u001b[1m> Finished chain.\u001b[0m\nPrompt: Based on Meta's Q4 2023 financial report and related highlights, please provide a detailed answer to the following question: stion 14: What drove Meta’s revenue growth in Q4 2023?\n\n\n\n\u001b[1m> Entering new RetrievalQA chain...\u001b[0m\n",
          "output_type": "stream"
        },
        {
          "output_type": "display_data",
          "data": {
            "text/plain": "Batches:   0%|          | 0/1 [00:00<?, ?it/s]",
            "application/vnd.jupyter.widget-view+json": {
              "version_major": 2,
              "version_minor": 0,
              "model_id": "c1c2555d5a5d47f4ab93332ece728778"
            }
          },
          "metadata": {}
        },
        {
          "name": "stdout",
          "text": "\n\u001b[1m> Finished chain.\u001b[0m\nPrompt: Based on Meta's Q4 2023 financial report and related highlights, please provide a detailed answer to the following question: stion 15: How did Reality Labs perform throughout 2023, and what’s Meta’s plan for 2024?\n\n\n\n\u001b[1m> Entering new RetrievalQA chain...\u001b[0m\n",
          "output_type": "stream"
        },
        {
          "output_type": "display_data",
          "data": {
            "text/plain": "Batches:   0%|          | 0/1 [00:00<?, ?it/s]",
            "application/vnd.jupyter.widget-view+json": {
              "version_major": 2,
              "version_minor": 0,
              "model_id": "6c35508e035d465db0625f8ca1ad2bf5"
            }
          },
          "metadata": {}
        },
        {
          "name": "stdout",
          "text": "\n\u001b[1m> Finished chain.\u001b[0m\n\nGenerated Answers:\nQ1: stion 1: How did Meta’s workforce change by the end of 2023?\nA: Meta's workforce decreased by 22% year-over-year, with a headcount of 67,317 as of the end of 2023.\n\nQ2: stion 2: What is the report quarter, and when did it end?\nA: The reported quarter is the fourth quarter of 2023, which ended on December 31, 2023.\n\nQ3: stion 3: What were the key financial highlights this quarter (revenue, gross margin, operating\nA: The key financial highlights for Meta in Q4 2023 were as follows:\n- Revenue: $40,111 million, a 25% increase compared to the same quarter in 2022.\n- Gross Margin: Operating margin was 41%, up from 20% in the same quarter last year.\n- Operating Income: $16,384 million, a significant increase of 156% compared to Q4 2022.\n- Long-term debt: $18,390 million as of December 31, 2023.\n- Headcount: 67,317 employees as of December 31, 2023, a 22% decrease year-over-year.\n- Quarterly Dividend: Meta initiated a quarterly cash dividend of $0.50 per share of outstanding common stock.\n\nQ4: stion 4: How much did Meta spend on restructuring for the whole year and Q4?\nA: Meta spent a total of $1,200 million on restructuring for the whole year of 2023. The breakdown for the fourth quarter is not provided in the given context.\n\nQ5: stion 5: What happened with Meta’s ad impressions and average price per ad in Q4 and for the\nA: In Q4 2023, Meta's ad impressions increased by 21% year-over-year, and the average price per ad increased by 2% year-over-year. However, for the full year 2023, ad impressions increased by 28% year-over-year, but the average price per ad decreased by 9% year-over-year.\n\nQ6: stion 6: What’s the revenue outlook for Q1 2024?\nA: Based on Meta's CFO outlook commentary, the revenue outlook for Q1 2024 is expected to be in the range of 34.5-37 billion.\n\nQ7: stion 7: What were Meta’s total costs and expenses for Q4 and the full year 2023?\nA: To determine Meta's total costs and expenses for Q4 and the full year 2023, we need to consider the information provided in the financial report. The report mentions that the company had restructuring charges related to facilities consolidation, severance, and other personnel costs, as well as data center assets. However, the specific total costs and expenses figures are not explicitly stated in the context provided. Therefore, without additional information or calculations, it is not possible to provide an exact answer to this question.\n\nQ8: stion 8: How much cash and marketable securities did Meta have on hand as of December 31,\nA: Meta had $65.4 billion in cash, cash equivalents, and marketable securities as of December 31, 2023.\n\nQ9: stion 9: What were the main areas Meta invested in during 2023?\nA: Based on Meta's Q4 2023 financial report, the main areas Meta invested in during 2023 include research and development, cost of revenue, share repurchases, long-term debt, and headcount. They also initiated a quarterly dividend for their shareholders.\n\nQ10: stion 10: How did the Family of Apps and Reality Labs perform in Q4 2023?\nA: In Q4 2023, Meta's Family of Apps (FoA) segment, which includes Facebook, Instagram, Messenger, WhatsApp, and other services, reported a revenue of $38,706 million, representing a 23% increase from the previous year. On the other hand, Reality Labs (RL) segment, which includes augmented, mixed, and virtual reality related consumer hardware, software, and content, did not have its revenue explicitly stated in the provided context.\n\nQ11: stion 11: How much free cash flow did Meta generate in Q4 and the full year 2023?\nA: Meta generated 11500.0 million in free cash flow for Q4 2023 and 43010.0 million for the full year 2023.\n\nQ12: stion 12: Did Meta make any changes to its stock repurchase program or dividends for 2024?\nA: Yes, Meta made changes to its stock repurchase program and dividends for 2024. They repurchased $20,030 million of their Class A common stock in the full year 2023 and announced a $50,000 million increase in their share repurchase authorization. Additionally, Meta's board of directors declared a cash dividend of $0.50 per share of their outstanding common stock, payable on 2024-03-26 to stockholders of record as of 2024-02-22. They also intend to pay a cash dividend on a quarterly basis going forward.\n\nQ13: stion 13: What risks did Meta highlight for 2024?\nA: Meta highlighted risks for 2024 such as competition, government actions that could restrict access to their products or impair their ability to sell advertising in certain countries, privacy concerns, security breaches, managing their scale and geographically-dispersed operations, and market conditions affecting the payment of dividends.\n\nQ14: stion 14: What drove Meta’s revenue growth in Q4 2023?\nA: Meta's revenue growth in Q4 2023 was primarily driven by a 25% increase in revenue compared to the same period in 2022. This growth can be attributed to the continued growth of their community and business, as mentioned by Mark Zuckerberg, Meta's founder and CEO. Additionally, progress made in advancing AI and the metaverse likely contributed to attracting more users and advertisers, ultimately leading to higher revenue for the company.\n\nQ15: stion 15: How did Reality Labs perform throughout 2023, and what’s Meta’s plan for 2024?\nA: Based on Meta's Q4 2023 financial report, Reality Labs experienced operating losses that increased meaningfully year-over-year due to ongoing product development efforts in augmented reality/virtual reality and investments to further scale the ecosystem. For 2024, Meta plans to continue investing in Reality Labs, expecting the operating losses to increase further as they focus on product development in augmented reality/virtual reality. Additionally, Meta anticipates capital expenditures for 2024 to be in the range of 30-37 billion, with growth being driven by investments in servers, AI and non-AI hardware, and data centers. The company also expects to shift its workforce composition towards higher-cost technical roles to support priority areas in 2024.\n\nImproved ROUGE scores: {'rouge1': 0.38962602045022343, 'rouge2': 0.255639873138951, 'rougeL': 0.35369680116819724, 'rougeLsum': 0.35525737334120594}\n",
          "output_type": "stream"
        }
      ],
      "execution_count": null
    },
    {
      "cell_type": "markdown",
      "source": [
        "## Rag pipeline using openai"
      ],
      "metadata": {
        "id": "J-kK5SPWOLA1"
      }
    },
    {
      "cell_type": "code",
      "source": [
        "import pdfplumber\n",
        "from langchain.chains import RetrievalQA\n",
        "from langchain.prompts import PromptTemplate\n",
        "from langchain.schema import Document\n",
        "from langchain.embeddings import HuggingFaceEmbeddings\n",
        "from langchain.vectorstores import Chroma\n",
        "from langchain.llms import OpenAI\n",
        "import evaluate\n",
        "import time\n",
        "\n",
        "# Function to extract questions and answers from the PDF\n",
        "def extract_text_from_pdf(pdf_path):\n",
        "    questions = []\n",
        "    reference_answers = []\n",
        "    with pdfplumber.open(pdf_path) as pdf:\n",
        "        for page in pdf.pages:\n",
        "            text = page.extract_text()\n",
        "            lines = text.split('\\n')\n",
        "            # Assuming questions start with \"Q\" and answers start with \"A\"\n",
        "            for i, line in enumerate(lines):\n",
        "                if line.startswith(\"Q\"):  # Identifying question lines\n",
        "                    questions.append(line[3:].strip())\n",
        "                elif line.startswith(\"A\"):  # Identifying answer lines\n",
        "                    reference_answers.append(line[3:].strip())\n",
        "    return questions, reference_answers\n",
        "\n",
        "# Path to the PDF file\n",
        "pdf_path = \"/kaggle/input/manual-questions/ManualQuestions.pdf\"\n",
        "\n",
        "# Extract questions and reference answers from the PDF\n",
        "enhanced_prompts, reference_answers = extract_text_from_pdf(pdf_path)\n",
        "\n",
        "# Load ROUGE evaluation metric\n",
        "rouge = evaluate.load(\"rouge\")\n",
        "\n",
        "# Chunking function\n",
        "def chunk_text(text, chunk_size=1000):\n",
        "    from langchain.text_splitter import RecursiveCharacterTextSplitter\n",
        "    text_splitter = RecursiveCharacterTextSplitter(chunk_size=chunk_size, chunk_overlap=20)\n",
        "    chunks = text_splitter.split_text(text)\n",
        "    return [{\"text\": chunk, \"metadata\": {\"section\": \"Unknown\"}} for chunk in chunks]\n",
        "\n",
        "# Process text into chunks (Assuming standardized_text is defined elsewhere)\n",
        "text_chunks = chunk_text(standardized_text)\n",
        "\n",
        "# Convert chunks into Document objects\n",
        "documents = [Document(page_content=chunk[\"text\"], metadata=chunk[\"metadata\"]) for chunk in text_chunks]\n",
        "\n",
        "# Initialize embeddings and vector store\n",
        "model_name = \"sentence-transformers/all-mpnet-base-v2\"\n",
        "model_kwargs = {\"device\": \"cuda\"}\n",
        "embeddings = HuggingFaceEmbeddings(model_name=model_name, model_kwargs=model_kwargs)\n",
        "\n",
        "vectordb = Chroma.from_documents(documents=documents, embedding=embeddings, persist_directory=\"chroma_db\")\n",
        "retriever = vectordb.as_retriever()\n",
        "\n",
        "# Initialize the LLM with gpt-3.5-turbo\n",
        "llm = OpenAI(model_name=\"gpt-3.5-turbo\", temperature=0, openai_api_key=\"****************************************************\")\n",
        "\n",
        "# Define the RetrievalQA pipeline with the updated model\n",
        "qa = RetrievalQA.from_chain_type(\n",
        "    llm=llm,\n",
        "    retriever=retriever,\n",
        "    chain_type=\"stuff\",\n",
        "    verbose=True\n",
        ")\n",
        "\n",
        "# Generate answers using the model with enhanced prompts\n",
        "generated_answers = []\n",
        "for question in enhanced_prompts:\n",
        "    print(f\"Processing Question: {question}\\n\")\n",
        "    start_time = time.time()\n",
        "    result = qa.run(question)\n",
        "    end_time = time.time()\n",
        "    generated_answers.append(result)\n",
        "    print(f\"Processed in {round(end_time - start_time, 3)} seconds.\\nResult: {result}\\n\")\n",
        "\n",
        "# Calculate ROUGE scores\n",
        "rouge_scores = rouge.compute(predictions=generated_answers, references=reference_answers)\n",
        "\n",
        "# Print results\n",
        "print(\"\\nGenerated Answers:\")\n",
        "for i, (q, ans) in enumerate(zip(enhanced_prompts, generated_answers)):\n",
        "    print(f\"Q{i + 1}: {q}\\nA: {ans}\\n\")\n",
        "print(\"Improved ROUGE scores:\", rouge_scores)\n"
      ],
      "metadata": {
        "trusted": true,
        "execution": {
          "iopub.status.busy": "2024-12-01T08:21:22.259597Z",
          "iopub.execute_input": "2024-12-01T08:21:22.260419Z",
          "iopub.status.idle": "2024-12-01T08:21:32.402784Z",
          "shell.execute_reply.started": "2024-12-01T08:21:22.260387Z",
          "shell.execute_reply": "2024-12-01T08:21:32.401881Z"
        },
        "colab": {
          "referenced_widgets": [
            "c21135da4caf4474b8ca39f28c070adf",
            "2b97e2d9e32340d58c88144876341f85",
            "7e80c4fb85884c82bbe928a4a2dab354",
            "5f0234e258444638b3afaaf29d1965a7",
            "b588804dd74847b2b6ea820ca946a9b2",
            "f8209d562af6467f9fb80624d3251616",
            "1384ace48f3c49f6967ca6f811e93506",
            "38389400b174478d9f54da10ce0b4885",
            "6e10c1ccc7904ad39b6a3b54940ddf6f",
            "9d45a0c64a1442adb3a23df7a944c5d4",
            "a31f4a57964c44cfb95496883636cb3a",
            "d6b5d1c5bdc945cf85e641d891b4c74c",
            "79e088317f9f495ea1618e7f46d9b90a",
            "711b81a54fac44179d4d6ad0d69d45ee",
            "287851e3bbeb40f89ba41b8cd176e848",
            "788e97c0bca84503b4589682fdbfd55b"
          ]
        },
        "id": "wNcupoVDOLA1",
        "outputId": "d0df37a3-a093-4428-b0bc-f84fa63da5bd"
      },
      "outputs": [
        {
          "output_type": "display_data",
          "data": {
            "text/plain": "Batches:   0%|          | 0/1 [00:00<?, ?it/s]",
            "application/vnd.jupyter.widget-view+json": {
              "version_major": 2,
              "version_minor": 0,
              "model_id": "c21135da4caf4474b8ca39f28c070adf"
            }
          },
          "metadata": {}
        },
        {
          "name": "stdout",
          "text": "Processing Question: stion 1: How did Meta’s workforce change by the end of 2023?\n\n\n\n\u001b[1m> Entering new RetrievalQA chain...\u001b[0m\n",
          "output_type": "stream"
        },
        {
          "output_type": "display_data",
          "data": {
            "text/plain": "Batches:   0%|          | 0/1 [00:00<?, ?it/s]",
            "application/vnd.jupyter.widget-view+json": {
              "version_major": 2,
              "version_minor": 0,
              "model_id": "2b97e2d9e32340d58c88144876341f85"
            }
          },
          "metadata": {}
        },
        {
          "name": "stdout",
          "text": "\n\u001b[1m> Finished chain.\u001b[0m\nProcessed in 0.433 seconds.\nResult: Meta's workforce decreased by 22% by the end of 2023.\n\nProcessing Question: stion 2: What is the report quarter, and when did it end?\n\n\n\n\u001b[1m> Entering new RetrievalQA chain...\u001b[0m\n",
          "output_type": "stream"
        },
        {
          "output_type": "display_data",
          "data": {
            "text/plain": "Batches:   0%|          | 0/1 [00:00<?, ?it/s]",
            "application/vnd.jupyter.widget-view+json": {
              "version_major": 2,
              "version_minor": 0,
              "model_id": "7e80c4fb85884c82bbe928a4a2dab354"
            }
          },
          "metadata": {}
        },
        {
          "name": "stdout",
          "text": "\n\u001b[1m> Finished chain.\u001b[0m\nProcessed in 0.49 seconds.\nResult: The report is for the fourth quarter of 2023, which ended on December 31, 2023.\n\nProcessing Question: stion 3: What were the key financial highlights this quarter (revenue, gross margin, operating\n\n\n\n\u001b[1m> Entering new RetrievalQA chain...\u001b[0m\n",
          "output_type": "stream"
        },
        {
          "output_type": "display_data",
          "data": {
            "text/plain": "Batches:   0%|          | 0/1 [00:00<?, ?it/s]",
            "application/vnd.jupyter.widget-view+json": {
              "version_major": 2,
              "version_minor": 0,
              "model_id": "5f0234e258444638b3afaaf29d1965a7"
            }
          },
          "metadata": {}
        },
        {
          "name": "stdout",
          "text": "\n\u001b[1m> Finished chain.\u001b[0m\nProcessed in 0.755 seconds.\nResult: Revenue for the fourth quarter of 2023 was $40,110.0 million, an increase of 25% year-over-year. Total costs and expenses were $23,730.0 million, a decrease of 8% year-over-year. Share repurchases totaled $6,320.0 million for the quarter.\n\nProcessing Question: stion 4: How much did Meta spend on restructuring for the whole year and Q4?\n\n\n\n\u001b[1m> Entering new RetrievalQA chain...\u001b[0m\n",
          "output_type": "stream"
        },
        {
          "output_type": "display_data",
          "data": {
            "text/plain": "Batches:   0%|          | 0/1 [00:00<?, ?it/s]",
            "application/vnd.jupyter.widget-view+json": {
              "version_major": 2,
              "version_minor": 0,
              "model_id": "b588804dd74847b2b6ea820ca946a9b2"
            }
          },
          "metadata": {}
        },
        {
          "name": "stdout",
          "text": "\n\u001b[1m> Finished chain.\u001b[0m\nProcessed in 0.487 seconds.\nResult: Meta spent $610 million on restructuring for the whole year and $200 million in Q4.\n\nProcessing Question: stion 5: What happened with Meta’s ad impressions and average price per ad in Q4 and for the\n\n\n\n\u001b[1m> Entering new RetrievalQA chain...\u001b[0m\n",
          "output_type": "stream"
        },
        {
          "output_type": "display_data",
          "data": {
            "text/plain": "Batches:   0%|          | 0/1 [00:00<?, ?it/s]",
            "application/vnd.jupyter.widget-view+json": {
              "version_major": 2,
              "version_minor": 0,
              "model_id": "f8209d562af6467f9fb80624d3251616"
            }
          },
          "metadata": {}
        },
        {
          "name": "stdout",
          "text": "\n\u001b[1m> Finished chain.\u001b[0m\nProcessed in 0.739 seconds.\nResult: In Q4 of 2023, Meta's ad impressions increased by 21% year-over-year, and the average price per ad increased by 2% year-over-year. For the full year 2023, ad impressions increased by 28% year-over-year, and the average price per ad decreased by 9% year-over-year.\n\nProcessing Question: stion 6: What’s the revenue outlook for Q1 2024?\n\n\n\n\u001b[1m> Entering new RetrievalQA chain...\u001b[0m\n",
          "output_type": "stream"
        },
        {
          "output_type": "display_data",
          "data": {
            "text/plain": "Batches:   0%|          | 0/1 [00:00<?, ?it/s]",
            "application/vnd.jupyter.widget-view+json": {
              "version_major": 2,
              "version_minor": 0,
              "model_id": "1384ace48f3c49f6967ca6f811e93506"
            }
          },
          "metadata": {}
        },
        {
          "name": "stdout",
          "text": "\n\u001b[1m> Finished chain.\u001b[0m\nProcessed in 0.426 seconds.\nResult: The revenue outlook for Q1 2024 is expected to be in the range of 34.5-37 billion.\n\nProcessing Question: stion 7: What were Meta’s total costs and expenses for Q4 and the full year 2023?\n\n\n\n\u001b[1m> Entering new RetrievalQA chain...\u001b[0m\n",
          "output_type": "stream"
        },
        {
          "output_type": "display_data",
          "data": {
            "text/plain": "Batches:   0%|          | 0/1 [00:00<?, ?it/s]",
            "application/vnd.jupyter.widget-view+json": {
              "version_major": 2,
              "version_minor": 0,
              "model_id": "38389400b174478d9f54da10ce0b4885"
            }
          },
          "metadata": {}
        },
        {
          "name": "stdout",
          "text": "\n\u001b[1m> Finished chain.\u001b[0m\nProcessed in 0.556 seconds.\nResult: Meta's total costs and expenses for Q4 2023 were $3,452 million, and for the full year 2023, they were $11,480 million.\n\nProcessing Question: stion 8: How much cash and marketable securities did Meta have on hand as of December 31,\n\n\n\n\u001b[1m> Entering new RetrievalQA chain...\u001b[0m\n",
          "output_type": "stream"
        },
        {
          "output_type": "display_data",
          "data": {
            "text/plain": "Batches:   0%|          | 0/1 [00:00<?, ?it/s]",
            "application/vnd.jupyter.widget-view+json": {
              "version_major": 2,
              "version_minor": 0,
              "model_id": "6e10c1ccc7904ad39b6a3b54940ddf6f"
            }
          },
          "metadata": {}
        },
        {
          "name": "stdout",
          "text": "\n\u001b[1m> Finished chain.\u001b[0m\nProcessed in 0.423 seconds.\nResult: Meta had $65.4 billion in cash, cash equivalents, and marketable securities as of December 31.\n\nProcessing Question: stion 9: What were the main areas Meta invested in during 2023?\n\n\n\n\u001b[1m> Entering new RetrievalQA chain...\u001b[0m\n",
          "output_type": "stream"
        },
        {
          "output_type": "display_data",
          "data": {
            "text/plain": "Batches:   0%|          | 0/1 [00:00<?, ?it/s]",
            "application/vnd.jupyter.widget-view+json": {
              "version_major": 2,
              "version_minor": 0,
              "model_id": "9d45a0c64a1442adb3a23df7a944c5d4"
            }
          },
          "metadata": {}
        },
        {
          "name": "stdout",
          "text": "\n\u001b[1m> Finished chain.\u001b[0m\nProcessed in 0.387 seconds.\nResult: Meta invested in advancing AI and the metaverse during 2023.\n\nProcessing Question: stion 10: How did the Family of Apps and Reality Labs perform in Q4 2023?\n\n\n\n\u001b[1m> Entering new RetrievalQA chain...\u001b[0m\n",
          "output_type": "stream"
        },
        {
          "output_type": "display_data",
          "data": {
            "text/plain": "Batches:   0%|          | 0/1 [00:00<?, ?it/s]",
            "application/vnd.jupyter.widget-view+json": {
              "version_major": 2,
              "version_minor": 0,
              "model_id": "a31f4a57964c44cfb95496883636cb3a"
            }
          },
          "metadata": {}
        },
        {
          "name": "stdout",
          "text": "\n\u001b[1m> Finished chain.\u001b[0m\nProcessed in 0.525 seconds.\nResult: I'm sorry, the provided context does not include information about how the Family of Apps and Reality Labs performed in Q4 2023.\n\nProcessing Question: stion 11: How much free cash flow did Meta generate in Q4 and the full year 2023?\n\n\n\n\u001b[1m> Entering new RetrievalQA chain...\u001b[0m\n",
          "output_type": "stream"
        },
        {
          "output_type": "display_data",
          "data": {
            "text/plain": "Batches:   0%|          | 0/1 [00:00<?, ?it/s]",
            "application/vnd.jupyter.widget-view+json": {
              "version_major": 2,
              "version_minor": 0,
              "model_id": "d6b5d1c5bdc945cf85e641d891b4c74c"
            }
          },
          "metadata": {}
        },
        {
          "name": "stdout",
          "text": "\n\u001b[1m> Finished chain.\u001b[0m\nProcessed in 0.438 seconds.\nResult: Meta generated free cash flow of 11500.0 million in Q4 and 43010.0 million for the full year 2023.\n\nProcessing Question: stion 12: Did Meta make any changes to its stock repurchase program or dividends for 2024?\n\n\n\n\u001b[1m> Entering new RetrievalQA chain...\u001b[0m\n",
          "output_type": "stream"
        },
        {
          "output_type": "display_data",
          "data": {
            "text/plain": "Batches:   0%|          | 0/1 [00:00<?, ?it/s]",
            "application/vnd.jupyter.widget-view+json": {
              "version_major": 2,
              "version_minor": 0,
              "model_id": "79e088317f9f495ea1618e7f46d9b90a"
            }
          },
          "metadata": {}
        },
        {
          "name": "stdout",
          "text": "\n\u001b[1m> Finished chain.\u001b[0m\nProcessed in 0.538 seconds.\nResult: Yes, Meta announced an increase in its share repurchase authorization and initiated a quarterly cash dividend for its outstanding common stock in 2024.\n\nProcessing Question: stion 13: What risks did Meta highlight for 2024?\n\n\n\n\u001b[1m> Entering new RetrievalQA chain...\u001b[0m\n",
          "output_type": "stream"
        },
        {
          "output_type": "display_data",
          "data": {
            "text/plain": "Batches:   0%|          | 0/1 [00:00<?, ?it/s]",
            "application/vnd.jupyter.widget-view+json": {
              "version_major": 2,
              "version_minor": 0,
              "model_id": "711b81a54fac44179d4d6ad0d69d45ee"
            }
          },
          "metadata": {}
        },
        {
          "name": "stdout",
          "text": "\n\u001b[1m> Finished chain.\u001b[0m\nProcessed in 0.612 seconds.\nResult: Meta highlighted risks such as new product developments, emphasis on community growth, privacy concerns, competition, government actions, litigation, security breaches, and market conditions for 2024.\n\nProcessing Question: stion 14: What drove Meta’s revenue growth in Q4 2023?\n\n\n\n\u001b[1m> Entering new RetrievalQA chain...\u001b[0m\n",
          "output_type": "stream"
        },
        {
          "output_type": "display_data",
          "data": {
            "text/plain": "Batches:   0%|          | 0/1 [00:00<?, ?it/s]",
            "application/vnd.jupyter.widget-view+json": {
              "version_major": 2,
              "version_minor": 0,
              "model_id": "287851e3bbeb40f89ba41b8cd176e848"
            }
          },
          "metadata": {}
        },
        {
          "name": "stdout",
          "text": "\n\u001b[1m> Finished chain.\u001b[0m\nProcessed in 0.468 seconds.\nResult: Meta's revenue growth in Q4 2023 was primarily driven by a 25% increase in revenue compared to the same period in 2022.\n\nProcessing Question: stion 15: How did Reality Labs perform throughout 2023, and what’s Meta’s plan for 2024?\n\n\n\n\u001b[1m> Entering new RetrievalQA chain...\u001b[0m\n",
          "output_type": "stream"
        },
        {
          "output_type": "display_data",
          "data": {
            "text/plain": "Batches:   0%|          | 0/1 [00:00<?, ?it/s]",
            "application/vnd.jupyter.widget-view+json": {
              "version_major": 2,
              "version_minor": 0,
              "model_id": "788e97c0bca84503b4589682fdbfd55b"
            }
          },
          "metadata": {}
        },
        {
          "name": "stdout",
          "text": "\n\u001b[1m> Finished chain.\u001b[0m\nProcessed in 0.611 seconds.\nResult: Reality Labs experienced operating losses in 2023 due to ongoing product development efforts in augmented reality/virtual reality. For 2024, Meta plans to increase investments in Reality Labs to further scale the ecosystem, which is expected to lead to a meaningful increase in operating losses year-over-year.\n\n\nGenerated Answers:\nQ1: stion 1: How did Meta’s workforce change by the end of 2023?\nA: Meta's workforce decreased by 22% by the end of 2023.\n\nQ2: stion 2: What is the report quarter, and when did it end?\nA: The report is for the fourth quarter of 2023, which ended on December 31, 2023.\n\nQ3: stion 3: What were the key financial highlights this quarter (revenue, gross margin, operating\nA: Revenue for the fourth quarter of 2023 was $40,110.0 million, an increase of 25% year-over-year. Total costs and expenses were $23,730.0 million, a decrease of 8% year-over-year. Share repurchases totaled $6,320.0 million for the quarter.\n\nQ4: stion 4: How much did Meta spend on restructuring for the whole year and Q4?\nA: Meta spent $610 million on restructuring for the whole year and $200 million in Q4.\n\nQ5: stion 5: What happened with Meta’s ad impressions and average price per ad in Q4 and for the\nA: In Q4 of 2023, Meta's ad impressions increased by 21% year-over-year, and the average price per ad increased by 2% year-over-year. For the full year 2023, ad impressions increased by 28% year-over-year, and the average price per ad decreased by 9% year-over-year.\n\nQ6: stion 6: What’s the revenue outlook for Q1 2024?\nA: The revenue outlook for Q1 2024 is expected to be in the range of 34.5-37 billion.\n\nQ7: stion 7: What were Meta’s total costs and expenses for Q4 and the full year 2023?\nA: Meta's total costs and expenses for Q4 2023 were $3,452 million, and for the full year 2023, they were $11,480 million.\n\nQ8: stion 8: How much cash and marketable securities did Meta have on hand as of December 31,\nA: Meta had $65.4 billion in cash, cash equivalents, and marketable securities as of December 31.\n\nQ9: stion 9: What were the main areas Meta invested in during 2023?\nA: Meta invested in advancing AI and the metaverse during 2023.\n\nQ10: stion 10: How did the Family of Apps and Reality Labs perform in Q4 2023?\nA: I'm sorry, the provided context does not include information about how the Family of Apps and Reality Labs performed in Q4 2023.\n\nQ11: stion 11: How much free cash flow did Meta generate in Q4 and the full year 2023?\nA: Meta generated free cash flow of 11500.0 million in Q4 and 43010.0 million for the full year 2023.\n\nQ12: stion 12: Did Meta make any changes to its stock repurchase program or dividends for 2024?\nA: Yes, Meta announced an increase in its share repurchase authorization and initiated a quarterly cash dividend for its outstanding common stock in 2024.\n\nQ13: stion 13: What risks did Meta highlight for 2024?\nA: Meta highlighted risks such as new product developments, emphasis on community growth, privacy concerns, competition, government actions, litigation, security breaches, and market conditions for 2024.\n\nQ14: stion 14: What drove Meta’s revenue growth in Q4 2023?\nA: Meta's revenue growth in Q4 2023 was primarily driven by a 25% increase in revenue compared to the same period in 2022.\n\nQ15: stion 15: How did Reality Labs perform throughout 2023, and what’s Meta’s plan for 2024?\nA: Reality Labs experienced operating losses in 2023 due to ongoing product development efforts in augmented reality/virtual reality. For 2024, Meta plans to increase investments in Reality Labs to further scale the ecosystem, which is expected to lead to a meaningful increase in operating losses year-over-year.\n\nImproved ROUGE scores: {'rouge1': 0.5094533945115559, 'rouge2': 0.33462494898429146, 'rougeL': 0.467515374371461, 'rougeLsum': 0.468811185128074}\n",
          "output_type": "stream"
        }
      ],
      "execution_count": null
    },
    {
      "cell_type": "markdown",
      "source": [
        "## Rag pipline using openai and enhanced prompts"
      ],
      "metadata": {
        "id": "gvRucCZPOLA1"
      }
    },
    {
      "cell_type": "code",
      "source": [
        "from langchain.chains import RetrievalQA\n",
        "from langchain.schema import Document\n",
        "from langchain.embeddings import HuggingFaceEmbeddings\n",
        "from langchain.vectorstores import Chroma\n",
        "from langchain.llms import OpenAI\n",
        "from transformers import pipeline\n",
        "import time\n",
        "import torch\n",
        "import evaluate\n",
        "\n",
        "# Load ROUGE evaluation metric\n",
        "rouge = evaluate.load(\"rouge\")\n",
        "\n",
        "# Chunking function\n",
        "def chunk_text(text, chunk_size=1000, chunk_overlap=20):\n",
        "    from langchain.text_splitter import RecursiveCharacterTextSplitter\n",
        "    text_splitter = RecursiveCharacterTextSplitter(chunk_size=chunk_size, chunk_overlap=chunk_overlap)\n",
        "    chunks = text_splitter.split_text(text)\n",
        "    return [{\"text\": chunk, \"metadata\": {\"section\": \"Unknown\"}} for chunk in chunks]\n",
        "\n",
        "# Summarize chunks\n",
        "def summarize_chunks(retrieved_docs, summarization_threshold=512):\n",
        "    device = 0 if torch.cuda.is_available() else -1\n",
        "    summarizer = pipeline(\"summarization\", model=\"facebook/bart-large-cnn\", device=device)\n",
        "    context = \" \".join([doc.page_content for doc in retrieved_docs])\n",
        "    if len(context.split()) < summarization_threshold:\n",
        "        return context  # Skip summarization for short texts\n",
        "    summaries = []\n",
        "    for doc in retrieved_docs:\n",
        "        input_length = len(doc.page_content.split())\n",
        "        max_length = min(300, input_length // 2)\n",
        "        min_length = max(50, input_length // 4)\n",
        "        summary = summarizer(doc.page_content, max_length=max_length, min_length=min_length, do_sample=False)\n",
        "        summaries.append(summary[0]['summary_text'])\n",
        "    return \" \".join(summaries)\n",
        "\n",
        "# Process text into chunks\n",
        "text_chunks = chunk_text(standardized_text)  # Use your cleaned and preprocessed text\n",
        "documents = [Document(page_content=chunk[\"text\"], metadata=chunk[\"metadata\"]) for chunk in text_chunks]\n",
        "\n",
        "# Initialize embeddings and vector store\n",
        "model_kwargs = {\"device\": \"cuda\"} if torch.cuda.is_available() else {\"device\": \"cpu\"}\n",
        "embeddings = HuggingFaceEmbeddings(model_name=\"sentence-transformers/all-mpnet-base-v2\", model_kwargs=model_kwargs)\n",
        "\n",
        "vectordb = Chroma.from_documents(documents=documents, embedding=embeddings, persist_directory=\"chroma_db\")\n",
        "retriever = vectordb.as_retriever(search_kwargs={\"k\": 10})\n",
        "\n",
        "# Initialize LLM\n",
        "llm = OpenAI(model_name=\"gpt-3.5-turbo\", temperature=0, openai_api_key=\"************************************\")\n",
        "\n",
        "# Define RetrievalQA pipeline\n",
        "qa = RetrievalQA.from_chain_type(\n",
        "    llm=llm,\n",
        "    retriever=retriever,\n",
        "    chain_type=\"stuff\",\n",
        "    verbose=True\n",
        ")\n",
        "\n",
        "# Define question prompts\n",
        "enhanced_prompts = [\n",
        "    \"What was Meta's total headcount at the end of 2023, and how does it compare to the headcount at the end of 2022?\",\n",
        "    \"Which quarter of 2023 is being reported, and on what date did the quarter end?\",\n",
        "    \"What were Meta's Q4 2023 financial highlights, including revenue, gross margin, operating expenses, operating margin, net income, and EPS? Provide figures and year-over-year comparisons.\",\n",
        "    \"How much did Meta spend on restructuring activities in Q4 2023 and the entire year 2023? Provide figures in millions.\",\n",
        "    \"What were the year-over-year trends in ad impressions and the average price per ad for Q4 2023 and the entire year?\",\n",
        "    \"What is Meta's revenue forecast for Q1 2024? Provide specific ranges if available.\",\n",
        "    \"What were Meta's total costs and expenses for Q4 2023 and the entire FY 2023? Include year-over-year comparisons and specific figures in millions.\",\n",
        "    \"As of December 31, 2023, how much cash, cash equivalents, and marketable securities did Meta report? Provide the exact figure in millions.\",\n",
        "    \"In 2023, where did Meta allocate its major investments? Highlight specific areas such as technology, infrastructure, or other initiatives.\",\n",
        "    \"What was the financial performance of the Family of Apps and Reality Labs segments in Q4 2023, including revenue and operating income figures?\",\n",
        "    \"What was Meta's free cash flow for Q4 2023 and the entire year 2023?\",\n",
        "    \"What changes did Meta make to its stock repurchase program or dividends in 2024? Include details about any new authorizations, dividend policies, or other announcements.\",\n",
        "    \"What risks did Meta highlight for 2024? Provide details on regulatory, operational, and market-related risks.\",\n",
        "    \"What factors contributed to Meta's revenue growth in Q4 2023? Include key metrics or events driving this growth.\",\n",
        "    \"How did Reality Labs perform financially in 2023, and what are Meta's plans for this segment in 2024?\"\n",
        "]\n",
        "\n",
        "# Generate answers\n",
        "generated_answers = []\n",
        "for question in enhanced_prompts:\n",
        "    print(f\"Processing Question: {question}\\n\")\n",
        "    start_time = time.time()\n",
        "    retrieved_docs = retriever.get_relevant_documents(question)\n",
        "    if not retrieved_docs:\n",
        "        print(f\"No relevant documents found for question: {question}\")\n",
        "        continue\n",
        "\n",
        "    context = summarize_chunks(retrieved_docs)\n",
        "    refined_prompt = f\"\"\"\n",
        "    Answer the question concisely based on the context:\n",
        "    Context:\n",
        "    {context}\n",
        "    Question:\n",
        "    {question}\n",
        "    \"\"\"\n",
        "    try:\n",
        "        result = qa.run(refined_prompt)\n",
        "    except Exception as e:\n",
        "        result = f\"Error during processing: {e}\"\n",
        "    generated_answers.append(result)\n",
        "    print(f\"Processed in {round(time.time() - start_time, 3)} seconds.\\nResult: {result}\\n\")\n",
        "\n",
        "# Calculate ROUGE scores (if you have reference answers)\n",
        "reference_answers = [\n",
        "    \"By the end of 2023, Meta had 67,317 employees. In 2022, Meta had 87,314 employees, so Meta had a 22.9% decrease in 2023 compared to 2022.\",\n",
        "    \"The reported quarter is the fourth quarter of 2023. The quarter ended on December 31, 2023.\",\n",
        "    \"In Q4 2023, total revenue was $40,111 million, showing a 25% increase year-over-year. Operating expenses were $23,727 million, reflecting an 8% decrease year-over-year. The operating margin was 41%, up 21 percentage points from the previous year. Net income for Q4 2023 was $14,017 million, marking a 201% year-over-year increase. Earnings per share (EPS) for Q4 2023 were $5.33, representing a 203% increase from the previous year.\",\n",
        "    \"Meta spent $461 million on restructuring activities in Q4 2023 and $1,610 million for the entire year 2023.\",\n",
        "    \"Ad impressions increased by 28% year-over-year, and the average price per ad decreased by 9% for Q4 2023 and the entire year.\",\n",
        "    \"Meta expects revenue for Q1 2024 to range between $34.5 billion and $37 billion.\",\n",
        "    \"Total costs and expenses were $23.73 billion for Q4 2023 and $88.15 billion for the full year 2023.\",\n",
        "    \"Meta had $65.40 billion in cash, cash equivalents, and marketable securities as of December 31, 2023.\",\n",
        "    \"In 2023, Meta allocated major investments towards advancing AI and the metaverse.\",\n",
        "    \"Family of Apps segment had a revenue of $39,040 million and Reality Labs segment had a revenue of $1,071 million in Q4 2023. Operating income figures are not provided in the context.\",\n",
        "    \"Meta's free cash flow was $11,500.0 million for Q4 2023 and $43,010.0 million for the entire year 2023.\",\n",
        "    \"Meta announced a $50 billion increase in their share repurchase authorization and initiated a quarterly dividend of $0.50 per share in 2024.\",\n",
        "    \"Meta highlighted risks associated with new products and changes to existing products, including metaverse efforts, as well as risks related to community growth, user experience, brand reputation, privacy, safety, security, and content review efforts. Additionally, they mentioned risks related to government actions, litigation, privacy concerns, acquisitions, security breaches, scale management, and market conditions affecting dividend payments.\",\n",
        "    \"Meta's revenue growth in Q4 2023 was driven by a 25% increase in revenue compared to the same period in 2022. This growth was attributed to the continued growth of the community and business, as well as progress made in advancing AI and the metaverse.\",\n",
        "    \"Reality Labs performed with increasing operating losses in 2023. Meta plans to continue investing in product development efforts and scaling the ecosystem for Reality Labs in 2024, expecting operating losses to increase meaningfully year-over-year.\"\n",
        "]\n",
        "\n",
        "questions = [\n",
        "    \"How did Meta’s workforce change by the end of 2023?\",\n",
        "    \"What is the report quarter, and when did it end?\",\n",
        "    \"What were the key financial highlights this quarter (revenue, gross margin, operating expenses, operating margin, net income, and EPS)?\",\n",
        "    \"How much did Meta spend on restructuring for the whole year and Q4?\",\n",
        "    \"What happened with Meta’s ad impressions and average price per ad in Q4 and for the whole year?\",\n",
        "    \"What’s the revenue outlook for Q1 2024?\",\n",
        "    \"What were Meta’s total costs and expenses for Q4 and the full year 2023?\",\n",
        "    \"How much cash and marketable securities did Meta have on hand as of December 31, 2023?\",\n",
        "    \"What were the main areas Meta invested in during 2023?\",\n",
        "    \"How did the Family of Apps and Reality Labs perform in Q4 2023?\",\n",
        "    \"How much free cash flow did Meta generate in Q4 and the full year 2023?\",\n",
        "    \"Did Meta make any changes to its stock repurchase program or dividends for 2024?\",\n",
        "    \"What risks did Meta highlight for 2024?\",\n",
        "    \"What drove Meta’s revenue growth in Q4 2023?\",\n",
        "    \"How did Reality Labs perform throughout 2023, and what’s Meta’s plan for 2024?\"\n",
        "]\n",
        "rouge_scores = rouge.compute(predictions=generated_answers, references=reference_answers)\n",
        "\n",
        "# Print results\n",
        "print(\"\\nGenerated Answers:\")\n",
        "for i, (q, ans) in enumerate(zip(questions, generated_answers)):\n",
        "    print(f\"Q{i + 1}: {q}\\nA: {ans}\\n\")\n",
        "print(\"ROUGE scores:\", rouge_scores)\n"
      ],
      "metadata": {
        "trusted": true,
        "execution": {
          "iopub.status.busy": "2024-12-01T08:31:16.248305Z",
          "iopub.execute_input": "2024-12-01T08:31:16.248724Z",
          "iopub.status.idle": "2024-12-01T08:35:51.455221Z",
          "shell.execute_reply.started": "2024-12-01T08:31:16.248683Z",
          "shell.execute_reply": "2024-12-01T08:35:51.454219Z"
        },
        "colab": {
          "referenced_widgets": [
            "6166b8779f3544d481d4395ef35877e6",
            "b278cecc94fb4e1181e0ff1ef4494b39",
            "ac6db0e282754d0f9e8b22c7f0da7859",
            "86d9c9cecfb64507b56ec7cb85868264",
            "60e9cb57af824749b620f2bc1c9a8397",
            "19a8854c3d4a4e17bd9bc1dfdd25c04f",
            "ca1329fdbb084490ba20f9781ae0299b",
            "6c4ea158438c43d3bfbbf948f65e9d1f",
            "b2ff96c9a7024ef4945d709c754fe0a0",
            "97bc33c50610427db90da5676ae2e8ff",
            "1d84d4e637754e08af7a5d9bc7efcca1",
            "1358ea03211a4b229b2e4c7f3a3480a5",
            "d5bc8c3cc4ba4bdebaad5c51a423357c",
            "8409a76f5b55442a8b767ef5c877988e",
            "d60bf55666b64d6f85240df120e5adf7",
            "670e659c45d14adeb23df8585ead4f3e",
            "2f0b3a5055374ba893211c7f4c84298c",
            "a7082b5c28ef4384bf80f0ce46057afd",
            "1b16c2fd2b7b4540b5d8d72fddf88415",
            "fde9ceed35f04248a8fae09bc6e8830c",
            "f2d3be61e9654af4b7be57c1bef4f83e",
            "4dbf0502e782463db6505a005f73c984",
            "84c78ce1d9354c84ad8466b2b918b5cb",
            "bf980847270c476087e54ad0c77e0fa9",
            "de744531716f4c5886c2bbb825b29de3",
            "e0ae50e8ba8a47a295dc9757e4e0ec34",
            "371dd41f08294e19bf611f28315a0144",
            "d8482c2f861f4626b3b0fdae3abacf2f",
            "8edc21e7f8fb4136846e579565b94d33",
            "0c7977925e504e808bfc0908717d066a",
            "3a27ffef03d043a18bccedae6608f353"
          ]
        },
        "id": "anJR6OzgOLA1",
        "outputId": "ba1decf2-b5d3-484e-ffc6-6888e0f373fd"
      },
      "outputs": [
        {
          "output_type": "display_data",
          "data": {
            "text/plain": "Batches:   0%|          | 0/1 [00:00<?, ?it/s]",
            "application/vnd.jupyter.widget-view+json": {
              "version_major": 2,
              "version_minor": 0,
              "model_id": "6166b8779f3544d481d4395ef35877e6"
            }
          },
          "metadata": {}
        },
        {
          "name": "stdout",
          "text": "Processing Question: What was Meta's total headcount at the end of 2023, and how does it compare to the headcount at the end of 2022?\n\n",
          "output_type": "stream"
        },
        {
          "output_type": "display_data",
          "data": {
            "text/plain": "Batches:   0%|          | 0/1 [00:00<?, ?it/s]",
            "application/vnd.jupyter.widget-view+json": {
              "version_major": 2,
              "version_minor": 0,
              "model_id": "b278cecc94fb4e1181e0ff1ef4494b39"
            }
          },
          "metadata": {}
        },
        {
          "name": "stdout",
          "text": "\n\n\u001b[1m> Entering new RetrievalQA chain...\u001b[0m\n",
          "output_type": "stream"
        },
        {
          "output_type": "display_data",
          "data": {
            "text/plain": "Batches:   0%|          | 0/1 [00:00<?, ?it/s]",
            "application/vnd.jupyter.widget-view+json": {
              "version_major": 2,
              "version_minor": 0,
              "model_id": "ac6db0e282754d0f9e8b22c7f0da7859"
            }
          },
          "metadata": {}
        },
        {
          "name": "stdout",
          "text": "\n\u001b[1m> Finished chain.\u001b[0m\nProcessed in 17.683 seconds.\nResult: Meta's total headcount at the end of 2023 was 67,317, which was a decrease of 22% compared to the headcount at the end of 2022.\n\nProcessing Question: Which quarter of 2023 is being reported, and on what date did the quarter end?\n\n",
          "output_type": "stream"
        },
        {
          "output_type": "display_data",
          "data": {
            "text/plain": "Batches:   0%|          | 0/1 [00:00<?, ?it/s]",
            "application/vnd.jupyter.widget-view+json": {
              "version_major": 2,
              "version_minor": 0,
              "model_id": "86d9c9cecfb64507b56ec7cb85868264"
            }
          },
          "metadata": {}
        },
        {
          "name": "stderr",
          "text": "Your min_length=50 must be inferior than your max_length=5.\nYour min_length=50 must be inferior than your max_length=5.\nYour min_length=50 must be inferior than your max_length=5.\nYour min_length=50 must be inferior than your max_length=5.\nYour min_length=50 must be inferior than your max_length=5.\n",
          "output_type": "stream"
        },
        {
          "name": "stdout",
          "text": "\n\n\u001b[1m> Entering new RetrievalQA chain...\u001b[0m\n",
          "output_type": "stream"
        },
        {
          "output_type": "display_data",
          "data": {
            "text/plain": "Batches:   0%|          | 0/1 [00:00<?, ?it/s]",
            "application/vnd.jupyter.widget-view+json": {
              "version_major": 2,
              "version_minor": 0,
              "model_id": "60e9cb57af824749b620f2bc1c9a8397"
            }
          },
          "metadata": {}
        },
        {
          "name": "stdout",
          "text": "\n\u001b[1m> Finished chain.\u001b[0m\nProcessed in 17.189 seconds.\nResult: The fourth quarter of 2023 is being reported, and it ended on December 31, 2023.\n\nProcessing Question: What were Meta's Q4 2023 financial highlights, including revenue, gross margin, operating expenses, operating margin, net income, and EPS? Provide figures and year-over-year comparisons.\n\n",
          "output_type": "stream"
        },
        {
          "output_type": "display_data",
          "data": {
            "text/plain": "Batches:   0%|          | 0/1 [00:00<?, ?it/s]",
            "application/vnd.jupyter.widget-view+json": {
              "version_major": 2,
              "version_minor": 0,
              "model_id": "19a8854c3d4a4e17bd9bc1dfdd25c04f"
            }
          },
          "metadata": {}
        },
        {
          "name": "stdout",
          "text": "\n\n\u001b[1m> Entering new RetrievalQA chain...\u001b[0m\n",
          "output_type": "stream"
        },
        {
          "output_type": "display_data",
          "data": {
            "text/plain": "Batches:   0%|          | 0/1 [00:00<?, ?it/s]",
            "application/vnd.jupyter.widget-view+json": {
              "version_major": 2,
              "version_minor": 0,
              "model_id": "ca1329fdbb084490ba20f9781ae0299b"
            }
          },
          "metadata": {}
        },
        {
          "name": "stdout",
          "text": "\n\u001b[1m> Finished chain.\u001b[0m\nProcessed in 17.792 seconds.\nResult: In Q4 2023, Meta reported revenue of $40,111 million, a 25% increase year-over-year. The operating margin was 41%, net income was $16,384 million, a 156% increase year-over-year, and EPS was not provided in the context.\n\nProcessing Question: How much did Meta spend on restructuring activities in Q4 2023 and the entire year 2023? Provide figures in millions.\n\n",
          "output_type": "stream"
        },
        {
          "output_type": "display_data",
          "data": {
            "text/plain": "Batches:   0%|          | 0/1 [00:00<?, ?it/s]",
            "application/vnd.jupyter.widget-view+json": {
              "version_major": 2,
              "version_minor": 0,
              "model_id": "6c4ea158438c43d3bfbbf948f65e9d1f"
            }
          },
          "metadata": {}
        },
        {
          "name": "stdout",
          "text": "\n\n\u001b[1m> Entering new RetrievalQA chain...\u001b[0m\n",
          "output_type": "stream"
        },
        {
          "output_type": "display_data",
          "data": {
            "text/plain": "Batches:   0%|          | 0/1 [00:00<?, ?it/s]",
            "application/vnd.jupyter.widget-view+json": {
              "version_major": 2,
              "version_minor": 0,
              "model_id": "b2ff96c9a7024ef4945d709c754fe0a0"
            }
          },
          "metadata": {}
        },
        {
          "name": "stdout",
          "text": "\n\u001b[1m> Finished chain.\u001b[0m\nProcessed in 18.72 seconds.\nResult: Meta spent $738 million on restructuring activities in Q4 2023 and $1,994 million for the entire year 2023.\n\nProcessing Question: What were the year-over-year trends in ad impressions and the average price per ad for Q4 2023 and the entire year?\n\n",
          "output_type": "stream"
        },
        {
          "output_type": "display_data",
          "data": {
            "text/plain": "Batches:   0%|          | 0/1 [00:00<?, ?it/s]",
            "application/vnd.jupyter.widget-view+json": {
              "version_major": 2,
              "version_minor": 0,
              "model_id": "97bc33c50610427db90da5676ae2e8ff"
            }
          },
          "metadata": {}
        },
        {
          "name": "stdout",
          "text": "\n\n\u001b[1m> Entering new RetrievalQA chain...\u001b[0m\n",
          "output_type": "stream"
        },
        {
          "output_type": "display_data",
          "data": {
            "text/plain": "Batches:   0%|          | 0/1 [00:00<?, ?it/s]",
            "application/vnd.jupyter.widget-view+json": {
              "version_major": 2,
              "version_minor": 0,
              "model_id": "1d84d4e637754e08af7a5d9bc7efcca1"
            }
          },
          "metadata": {}
        },
        {
          "name": "stdout",
          "text": "\n\u001b[1m> Finished chain.\u001b[0m\nProcessed in 22.253 seconds.\nResult: Ad impressions increased by 28% year-over-year, while the average price per ad decreased by 9% for both Q4 2023 and the full year.\n\nProcessing Question: What is Meta's revenue forecast for Q1 2024? Provide specific ranges if available.\n\n",
          "output_type": "stream"
        },
        {
          "output_type": "display_data",
          "data": {
            "text/plain": "Batches:   0%|          | 0/1 [00:00<?, ?it/s]",
            "application/vnd.jupyter.widget-view+json": {
              "version_major": 2,
              "version_minor": 0,
              "model_id": "1358ea03211a4b229b2e4c7f3a3480a5"
            }
          },
          "metadata": {}
        },
        {
          "name": "stdout",
          "text": "\n\n\u001b[1m> Entering new RetrievalQA chain...\u001b[0m\n",
          "output_type": "stream"
        },
        {
          "output_type": "display_data",
          "data": {
            "text/plain": "Batches:   0%|          | 0/1 [00:00<?, ?it/s]",
            "application/vnd.jupyter.widget-view+json": {
              "version_major": 2,
              "version_minor": 0,
              "model_id": "d5bc8c3cc4ba4bdebaad5c51a423357c"
            }
          },
          "metadata": {}
        },
        {
          "name": "stdout",
          "text": "\n\u001b[1m> Finished chain.\u001b[0m\nProcessed in 17.866 seconds.\nResult: Based on the provided context, there is no specific mention of Meta's revenue forecast for Q1 2024.\n\nProcessing Question: What were Meta's total costs and expenses for Q4 2023 and the entire FY 2023? Include year-over-year comparisons and specific figures in millions.\n\n",
          "output_type": "stream"
        },
        {
          "output_type": "display_data",
          "data": {
            "text/plain": "Batches:   0%|          | 0/1 [00:00<?, ?it/s]",
            "application/vnd.jupyter.widget-view+json": {
              "version_major": 2,
              "version_minor": 0,
              "model_id": "8409a76f5b55442a8b767ef5c877988e"
            }
          },
          "metadata": {}
        },
        {
          "name": "stdout",
          "text": "\n\n\u001b[1m> Entering new RetrievalQA chain...\u001b[0m\n",
          "output_type": "stream"
        },
        {
          "output_type": "display_data",
          "data": {
            "text/plain": "Batches:   0%|          | 0/1 [00:00<?, ?it/s]",
            "application/vnd.jupyter.widget-view+json": {
              "version_major": 2,
              "version_minor": 0,
              "model_id": "d60bf55666b64d6f85240df120e5adf7"
            }
          },
          "metadata": {}
        },
        {
          "name": "stdout",
          "text": "\n\u001b[1m> Finished chain.\u001b[0m\nProcessed in 18.873 seconds.\nResult: Total costs and expenses for Q4 2023 were not provided in the context.\n\nProcessing Question: As of December 31, 2023, how much cash, cash equivalents, and marketable securities did Meta report? Provide the exact figure in millions.\n\n",
          "output_type": "stream"
        },
        {
          "output_type": "display_data",
          "data": {
            "text/plain": "Batches:   0%|          | 0/1 [00:00<?, ?it/s]",
            "application/vnd.jupyter.widget-view+json": {
              "version_major": 2,
              "version_minor": 0,
              "model_id": "670e659c45d14adeb23df8585ead4f3e"
            }
          },
          "metadata": {}
        },
        {
          "name": "stdout",
          "text": "\n\n\u001b[1m> Entering new RetrievalQA chain...\u001b[0m\n",
          "output_type": "stream"
        },
        {
          "output_type": "display_data",
          "data": {
            "text/plain": "Batches:   0%|          | 0/1 [00:00<?, ?it/s]",
            "application/vnd.jupyter.widget-view+json": {
              "version_major": 2,
              "version_minor": 0,
              "model_id": "2f0b3a5055374ba893211c7f4c84298c"
            }
          },
          "metadata": {}
        },
        {
          "name": "stdout",
          "text": "\n\u001b[1m> Finished chain.\u001b[0m\nProcessed in 18.66 seconds.\nResult: As of December 31, 2023, Meta reported $41,862 million in cash, cash equivalents, and marketable securities.\n\nProcessing Question: In 2023, where did Meta allocate its major investments? Highlight specific areas such as technology, infrastructure, or other initiatives.\n\n",
          "output_type": "stream"
        },
        {
          "output_type": "display_data",
          "data": {
            "text/plain": "Batches:   0%|          | 0/1 [00:00<?, ?it/s]",
            "application/vnd.jupyter.widget-view+json": {
              "version_major": 2,
              "version_minor": 0,
              "model_id": "a7082b5c28ef4384bf80f0ce46057afd"
            }
          },
          "metadata": {}
        },
        {
          "name": "stdout",
          "text": "\n\n\u001b[1m> Entering new RetrievalQA chain...\u001b[0m\n",
          "output_type": "stream"
        },
        {
          "output_type": "display_data",
          "data": {
            "text/plain": "Batches:   0%|          | 0/1 [00:00<?, ?it/s]",
            "application/vnd.jupyter.widget-view+json": {
              "version_major": 2,
              "version_minor": 0,
              "model_id": "1b16c2fd2b7b4540b5d8d72fddf88415"
            }
          },
          "metadata": {}
        },
        {
          "name": "stdout",
          "text": "\n\u001b[1m> Finished chain.\u001b[0m\nProcessed in 17.163 seconds.\nResult: The context does not provide specific information about where Meta allocated its major investments in 2023.\n\nProcessing Question: What was the financial performance of the Family of Apps and Reality Labs segments in Q4 2023, including revenue and operating income figures?\n\n",
          "output_type": "stream"
        },
        {
          "output_type": "display_data",
          "data": {
            "text/plain": "Batches:   0%|          | 0/1 [00:00<?, ?it/s]",
            "application/vnd.jupyter.widget-view+json": {
              "version_major": 2,
              "version_minor": 0,
              "model_id": "fde9ceed35f04248a8fae09bc6e8830c"
            }
          },
          "metadata": {}
        },
        {
          "name": "stdout",
          "text": "\n\n\u001b[1m> Entering new RetrievalQA chain...\u001b[0m\n",
          "output_type": "stream"
        },
        {
          "output_type": "display_data",
          "data": {
            "text/plain": "Batches:   0%|          | 0/1 [00:00<?, ?it/s]",
            "application/vnd.jupyter.widget-view+json": {
              "version_major": 2,
              "version_minor": 0,
              "model_id": "f2d3be61e9654af4b7be57c1bef4f83e"
            }
          },
          "metadata": {}
        },
        {
          "name": "stdout",
          "text": "\n\u001b[1m> Finished chain.\u001b[0m\nProcessed in 17.035 seconds.\nResult: Family of Apps had a revenue of $39,040 million and an operating income of $21,030 million in Q4 2023. Reality Labs had a revenue of $1,071 million and an operating loss of $4,646 million in Q4 2023.\n\nProcessing Question: What was Meta's free cash flow for Q4 2023 and the entire year 2023?\n\n",
          "output_type": "stream"
        },
        {
          "output_type": "display_data",
          "data": {
            "text/plain": "Batches:   0%|          | 0/1 [00:00<?, ?it/s]",
            "application/vnd.jupyter.widget-view+json": {
              "version_major": 2,
              "version_minor": 0,
              "model_id": "4dbf0502e782463db6505a005f73c984"
            }
          },
          "metadata": {}
        },
        {
          "name": "stdout",
          "text": "\n\n\u001b[1m> Entering new RetrievalQA chain...\u001b[0m\n",
          "output_type": "stream"
        },
        {
          "output_type": "display_data",
          "data": {
            "text/plain": "Batches:   0%|          | 0/1 [00:00<?, ?it/s]",
            "application/vnd.jupyter.widget-view+json": {
              "version_major": 2,
              "version_minor": 0,
              "model_id": "84c78ce1d9354c84ad8466b2b918b5cb"
            }
          },
          "metadata": {}
        },
        {
          "name": "stdout",
          "text": "\n\u001b[1m> Finished chain.\u001b[0m\nProcessed in 19.468 seconds.\nResult: For Q4 2023, Meta's free cash flow was 11500.0 million, and for the full year 2023, it was 43010.0 million.\n\nProcessing Question: What changes did Meta make to its stock repurchase program or dividends in 2024? Include details about any new authorizations, dividend policies, or other announcements.\n\n",
          "output_type": "stream"
        },
        {
          "output_type": "display_data",
          "data": {
            "text/plain": "Batches:   0%|          | 0/1 [00:00<?, ?it/s]",
            "application/vnd.jupyter.widget-view+json": {
              "version_major": 2,
              "version_minor": 0,
              "model_id": "bf980847270c476087e54ad0c77e0fa9"
            }
          },
          "metadata": {}
        },
        {
          "name": "stderr",
          "text": "Your min_length=50 must be inferior than your max_length=5.\nYour min_length=50 must be inferior than your max_length=5.\nYour min_length=50 must be inferior than your max_length=5.\nYour min_length=50 must be inferior than your max_length=5.\nYour min_length=50 must be inferior than your max_length=5.\n",
          "output_type": "stream"
        },
        {
          "name": "stdout",
          "text": "\n\n\u001b[1m> Entering new RetrievalQA chain...\u001b[0m\n",
          "output_type": "stream"
        },
        {
          "output_type": "display_data",
          "data": {
            "text/plain": "Batches:   0%|          | 0/1 [00:00<?, ?it/s]",
            "application/vnd.jupyter.widget-view+json": {
              "version_major": 2,
              "version_minor": 0,
              "model_id": "de744531716f4c5886c2bbb825b29de3"
            }
          },
          "metadata": {}
        },
        {
          "name": "stdout",
          "text": "\n\u001b[1m> Finished chain.\u001b[0m\nProcessed in 13.283 seconds.\nResult: In 2024, Meta announced a $50 billion increase in its share repurchase authorization.\n\nProcessing Question: What risks did Meta highlight for 2024? Provide details on regulatory, operational, and market-related risks.\n\n",
          "output_type": "stream"
        },
        {
          "output_type": "display_data",
          "data": {
            "text/plain": "Batches:   0%|          | 0/1 [00:00<?, ?it/s]",
            "application/vnd.jupyter.widget-view+json": {
              "version_major": 2,
              "version_minor": 0,
              "model_id": "e0ae50e8ba8a47a295dc9757e4e0ec34"
            }
          },
          "metadata": {}
        },
        {
          "name": "stdout",
          "text": "\n\n\u001b[1m> Entering new RetrievalQA chain...\u001b[0m\n",
          "output_type": "stream"
        },
        {
          "output_type": "display_data",
          "data": {
            "text/plain": "Batches:   0%|          | 0/1 [00:00<?, ?it/s]",
            "application/vnd.jupyter.widget-view+json": {
              "version_major": 2,
              "version_minor": 0,
              "model_id": "371dd41f08294e19bf611f28315a0144"
            }
          },
          "metadata": {}
        },
        {
          "name": "stdout",
          "text": "\n\u001b[1m> Finished chain.\u001b[0m\nProcessed in 18.797 seconds.\nResult: Meta highlighted risks associated with new products and changes to existing products, including metaverse efforts, as well as risks related to maintaining brand reputation, privacy, safety, security, and content review efforts. Regulatory risks included government actions restricting access to products or advertising sales. Operational risks included security breaches, managing scale, and geographically-dispersed operations. Market-related risks included competition, market conditions affecting dividend payments, and potential impact of macroeconomic conditions.\n\nProcessing Question: What factors contributed to Meta's revenue growth in Q4 2023? Include key metrics or events driving this growth.\n\n",
          "output_type": "stream"
        },
        {
          "output_type": "display_data",
          "data": {
            "text/plain": "Batches:   0%|          | 0/1 [00:00<?, ?it/s]",
            "application/vnd.jupyter.widget-view+json": {
              "version_major": 2,
              "version_minor": 0,
              "model_id": "d8482c2f861f4626b3b0fdae3abacf2f"
            }
          },
          "metadata": {}
        },
        {
          "name": "stdout",
          "text": "\n\n\u001b[1m> Entering new RetrievalQA chain...\u001b[0m\n",
          "output_type": "stream"
        },
        {
          "output_type": "display_data",
          "data": {
            "text/plain": "Batches:   0%|          | 0/1 [00:00<?, ?it/s]",
            "application/vnd.jupyter.widget-view+json": {
              "version_major": 2,
              "version_minor": 0,
              "model_id": "8edc21e7f8fb4136846e579565b94d33"
            }
          },
          "metadata": {}
        },
        {
          "name": "stdout",
          "text": "\n\u001b[1m> Finished chain.\u001b[0m\nProcessed in 18.052 seconds.\nResult: Meta's revenue growth in Q4 2023 was driven by a 25% increase in revenue compared to the same period in 2022. This growth was attributed to the company's expanding community and business, as mentioned by Mark Zuckerberg, Meta's founder and CEO.\n\nProcessing Question: How did Reality Labs perform financially in 2023, and what are Meta's plans for this segment in 2024?\n\n",
          "output_type": "stream"
        },
        {
          "output_type": "display_data",
          "data": {
            "text/plain": "Batches:   0%|          | 0/1 [00:00<?, ?it/s]",
            "application/vnd.jupyter.widget-view+json": {
              "version_major": 2,
              "version_minor": 0,
              "model_id": "0c7977925e504e808bfc0908717d066a"
            }
          },
          "metadata": {}
        },
        {
          "name": "stdout",
          "text": "\n\n\u001b[1m> Entering new RetrievalQA chain...\u001b[0m\n",
          "output_type": "stream"
        },
        {
          "output_type": "display_data",
          "data": {
            "text/plain": "Batches:   0%|          | 0/1 [00:00<?, ?it/s]",
            "application/vnd.jupyter.widget-view+json": {
              "version_major": 2,
              "version_minor": 0,
              "model_id": "3a27ffef03d043a18bccedae6608f353"
            }
          },
          "metadata": {}
        },
        {
          "name": "stdout",
          "text": "\n\u001b[1m> Finished chain.\u001b[0m\nProcessed in 20.359 seconds.\nResult: Reality Labs had an operating loss in 2023. In 2024, Meta expects operating losses for Reality Labs to increase meaningfully due to ongoing product development efforts in augmented reality/virtual reality and investments to further scale the ecosystem.\n\n\nGenerated Answers:\nQ1: How did Meta’s workforce change by the end of 2023?\nA: Meta's total headcount at the end of 2023 was 67,317, which was a decrease of 22% compared to the headcount at the end of 2022.\n\nQ2: What is the report quarter, and when did it end?\nA: The fourth quarter of 2023 is being reported, and it ended on December 31, 2023.\n\nQ3: What were the key financial highlights this quarter (revenue, gross margin, operating expenses, operating margin, net income, and EPS)?\nA: In Q4 2023, Meta reported revenue of $40,111 million, a 25% increase year-over-year. The operating margin was 41%, net income was $16,384 million, a 156% increase year-over-year, and EPS was not provided in the context.\n\nQ4: How much did Meta spend on restructuring for the whole year and Q4?\nA: Meta spent $738 million on restructuring activities in Q4 2023 and $1,994 million for the entire year 2023.\n\nQ5: What happened with Meta’s ad impressions and average price per ad in Q4 and for the whole year?\nA: Ad impressions increased by 28% year-over-year, while the average price per ad decreased by 9% for both Q4 2023 and the full year.\n\nQ6: What’s the revenue outlook for Q1 2024?\nA: Based on the provided context, there is no specific mention of Meta's revenue forecast for Q1 2024.\n\nQ7: What were Meta’s total costs and expenses for Q4 and the full year 2023?\nA: Total costs and expenses for Q4 2023 were not provided in the context.\n\nQ8: How much cash and marketable securities did Meta have on hand as of December 31, 2023?\nA: As of December 31, 2023, Meta reported $41,862 million in cash, cash equivalents, and marketable securities.\n\nQ9: What were the main areas Meta invested in during 2023?\nA: The context does not provide specific information about where Meta allocated its major investments in 2023.\n\nQ10: How did the Family of Apps and Reality Labs perform in Q4 2023?\nA: Family of Apps had a revenue of $39,040 million and an operating income of $21,030 million in Q4 2023. Reality Labs had a revenue of $1,071 million and an operating loss of $4,646 million in Q4 2023.\n\nQ11: How much free cash flow did Meta generate in Q4 and the full year 2023?\nA: For Q4 2023, Meta's free cash flow was 11500.0 million, and for the full year 2023, it was 43010.0 million.\n\nQ12: Did Meta make any changes to its stock repurchase program or dividends for 2024?\nA: In 2024, Meta announced a $50 billion increase in its share repurchase authorization.\n\nQ13: What risks did Meta highlight for 2024?\nA: Meta highlighted risks associated with new products and changes to existing products, including metaverse efforts, as well as risks related to maintaining brand reputation, privacy, safety, security, and content review efforts. Regulatory risks included government actions restricting access to products or advertising sales. Operational risks included security breaches, managing scale, and geographically-dispersed operations. Market-related risks included competition, market conditions affecting dividend payments, and potential impact of macroeconomic conditions.\n\nQ14: What drove Meta’s revenue growth in Q4 2023?\nA: Meta's revenue growth in Q4 2023 was driven by a 25% increase in revenue compared to the same period in 2022. This growth was attributed to the company's expanding community and business, as mentioned by Mark Zuckerberg, Meta's founder and CEO.\n\nQ15: How did Reality Labs perform throughout 2023, and what’s Meta’s plan for 2024?\nA: Reality Labs had an operating loss in 2023. In 2024, Meta expects operating losses for Reality Labs to increase meaningfully due to ongoing product development efforts in augmented reality/virtual reality and investments to further scale the ecosystem.\n\nROUGE scores: {'rouge1': 0.6579055506164886, 'rouge2': 0.46572415781144566, 'rougeL': 0.5538417909236901, 'rougeLsum': 0.5546100884987346}\n",
          "output_type": "stream"
        }
      ],
      "execution_count": null
    },
    {
      "cell_type": "markdown",
      "source": [
        "## Rag Pipeline with Best Rouge Score"
      ],
      "metadata": {
        "id": "Ir1nBY2DOLA2"
      }
    },
    {
      "cell_type": "code",
      "source": [
        "from langchain.chains import RetrievalQA\n",
        "from langchain.schema import Document\n",
        "from langchain.embeddings import HuggingFaceEmbeddings\n",
        "from langchain.vectorstores import Chroma\n",
        "from langchain.llms import OpenAI\n",
        "from transformers import pipeline\n",
        "import time\n",
        "import torch\n",
        "import evaluate\n",
        "\n",
        "# Load ROUGE evaluation metric\n",
        "rouge = evaluate.load(\"rouge\")\n",
        "\n",
        "# Chunking function\n",
        "def chunk_text(text, chunk_size=1500, chunk_overlap=100):\n",
        "    from langchain.text_splitter import RecursiveCharacterTextSplitter\n",
        "    text_splitter = RecursiveCharacterTextSplitter(chunk_size=chunk_size, chunk_overlap=chunk_overlap)\n",
        "    chunks = text_splitter.split_text(text)\n",
        "    return [{\"text\": chunk, \"metadata\": {\"section\": \"Unknown\"}} for chunk in chunks]\n",
        "\n",
        "# Summarize chunks\n",
        "def summarize_chunks(retrieved_docs, summarization_threshold=512):\n",
        "    device = 0 if torch.cuda.is_available() else -1\n",
        "    summarizer = pipeline(\"summarization\", model=\"facebook/bart-large-cnn\", device=device)\n",
        "    context = \" \".join([doc.page_content for doc in retrieved_docs])\n",
        "    if len(context.split()) < summarization_threshold:\n",
        "        return context  # Skip summarization for short texts\n",
        "    summaries = []\n",
        "    for doc in retrieved_docs:\n",
        "        input_length = len(doc.page_content.split())\n",
        "        max_length = min(300, input_length // 2)\n",
        "        min_length = max(50, input_length // 4)\n",
        "        summary = summarizer(doc.page_content, max_length=max_length, min_length=min_length, do_sample=False)\n",
        "        summaries.append(summary[0]['summary_text'])\n",
        "    return \" \".join(summaries)\n",
        "\n",
        "# Process text into chunks\n",
        "text_chunks = chunk_text(financial_highlights_cleaned)  # Use your cleaned and preprocessed text\n",
        "documents = [Document(page_content=chunk[\"text\"], metadata=chunk[\"metadata\"]) for chunk in text_chunks]\n",
        "\n",
        "# Initialize embeddings and vector store\n",
        "model_kwargs = {\"device\": \"cuda\"} if torch.cuda.is_available() else {\"device\": \"cpu\"}\n",
        "embeddings = HuggingFaceEmbeddings(model_name=\"sentence-transformers/all-mpnet-base-v2\", model_kwargs=model_kwargs)\n",
        "\n",
        "vectordb = Chroma.from_documents(documents=documents, embedding=embeddings, persist_directory=\"chroma_db\")\n",
        "retriever = vectordb.as_retriever(search_kwargs={\"k\": 10})\n",
        "\n",
        "# Initialize LLM\n",
        "llm = OpenAI(model_name=\"gpt-3.5-turbo\", temperature=0, openai_api_key=\"*******************************************************\")\n",
        "\n",
        "# Define RetrievalQA pipeline\n",
        "qa = RetrievalQA.from_chain_type(\n",
        "    llm=llm,\n",
        "    retriever=retriever,\n",
        "    chain_type=\"stuff\",\n",
        "    verbose=True\n",
        ")\n",
        "\n",
        "# Define question prompts\n",
        "enhanced_prompts = [\n",
        "    \"What was Meta's total headcount at the end of 2023, and how does it compare to the headcount at the end of 2022?\",\n",
        "    \"Which quarter of 2023 is being reported, and on what date did the quarter end?\",\n",
        "    \"What were Meta's Q4 2023 financial highlights, including revenue, gross margin, operating expenses, operating margin, net income, and EPS? Provide figures and year-over-year comparisons.\",\n",
        "    \"How much did Meta spend on restructuring activities in Q4 2023 and the entire year 2023? Provide figures in millions.\",\n",
        "    \"What were the year-over-year trends in ad impressions and the average price per ad for Q4 2023 and the entire year?\",\n",
        "    \"What is Meta's revenue forecast for Q1 2024? Provide specific ranges or figures mentioned in the financial report.\",\n",
        "    \"What were Meta's total costs and expenses for Q4 2023 and the entire FY 2023? Provide figures and year-over-year comparisons.\",\n",
        "    \"As of December 31, 2023, how much cash, cash equivalents, and marketable securities did Meta report? Provide the exact figure in millions.\",\n",
        "    \"In 2023, where did Meta allocate its major investments? Highlight specific areas such as technology, infrastructure, or other initiatives.\",\n",
        "    \"What was the financial performance of the Family of Apps and Reality Labs segments in Q4 2023, including revenue and operating income figures?\",\n",
        "    \"What was Meta's free cash flow for Q4 2023 and the entire year 2023?\",\n",
        "    \"What changes did Meta make to its stock repurchase program or dividends in 2024? Include details about any new authorizations, dividend policies, or other announcements.\",\n",
        "    \"What risks did Meta highlight for 2024? Provide details on regulatory, operational, and market-related risks.\",\n",
        "    \"What factors contributed to Meta's revenue growth in Q4 2023? Include key metrics or events driving this growth.\",\n",
        "    \"How did Reality Labs perform financially in 2023, and what are Meta's plans for this segment in 2024?\"\n",
        "]\n",
        "\n",
        "# Generate answers\n",
        "generated_answers = []\n",
        "for question in enhanced_prompts:\n",
        "    print(f\"Processing Question: {question}\\n\")\n",
        "    start_time = time.time()\n",
        "    retrieved_docs = retriever.get_relevant_documents(question)\n",
        "    if not retrieved_docs:\n",
        "        print(f\"No relevant documents found for question: {question}\")\n",
        "        continue\n",
        "\n",
        "    context = summarize_chunks(retrieved_docs)\n",
        "    refined_prompt = f\"\"\"\n",
        "    Answer the question concisely based on the context:\n",
        "    Context:\n",
        "    {context}\n",
        "    Question:\n",
        "    {question}\n",
        "    \"\"\"\n",
        "    try:\n",
        "        result = qa.run(refined_prompt)\n",
        "    except Exception as e:\n",
        "        result = f\"Error during processing: {e}\"\n",
        "    generated_answers.append(result)\n",
        "    print(f\"Processed in {round(time.time() - start_time, 3)} seconds.\\nResult: {result}\\n\")\n",
        "\n",
        "# Calculate ROUGE scores (if you have reference answers)\n",
        "reference_answers = [\n",
        "    \"By the end of 2023, Meta had 67,317 employees. In 2022, Meta had 87,314 employees, so Meta had a 22.9% decrease in 2023 compared to 2022.\",\n",
        "    \"The reported quarter is the fourth quarter of 2023. The quarter ended on December 31, 2023.\",\n",
        "    \"In Q4 2023, Meta's revenue was $40,111 million, a 25% increase year-over-year. The operating margin was 41%, net income was $14,017 million, a 201% increase year-over-year, and EPS was $5.33, a 203% increase year-over-year\",\n",
        "    \"Meta spent 1150.0 million on restructuring activities in Q4 2023 and 3450.0 million for the entire year 2023.\",\n",
        "    \"For Q4 2023, ad impressions increased by 21% year-over-year, and the average price per ad increased by 2% year-over-year. For the full year 2023, ad impressions increased by 28% year-over-year, and the average price per ad decreased by 9%.\",\n",
        "    \"Meta's revenue forecast for Q1 2024 is in the range of $34.5–37 billion.\",\n",
        "    \"Total costs and expenses for Q4 2023 were $23,727.0 million, an 8% decrease year-over-year. For the full year 2023, total costs and expenses were $88,151.0 million, a 1% increase year-over-year.\",\n",
        "    \"Meta reported $65,400.0 million in cash, cash equivalents, and marketable securities as of December 31, 2023.\",\n",
        "    \"In 2023, Meta allocated major investments in servers, including both AI and non-AI hardware, and data centers as part of their new data center architecture.\",\n",
        "    \"Family of Apps segment had a revenue of $39,040 million and Reality Labs segment had a revenue of $1,071 million in Q4 2023. Operating income figures are not provided in the context.\",\n",
        "    \"Meta's free cash flow was $11,500.0 million for Q4 2023 and $43,010.0 million for the full year 2023.\",\n",
        "    \"Meta initiated a quarterly dividend of $0.50 per share of outstanding common stock and announced a $50 billion increase in its share repurchase authorization in 2024.\",\n",
        "    \"Meta highlighted risks associated with new products and changes to existing products, their metaverse efforts, regulatory risks, changes to third-party policies, acquisitions, security breaches, and scale and geographical operations.\",\n",
        "    \"Meta's revenue growth in Q4 2023 was driven by a 25% increase in revenue compared to the same period in 2022. This growth was attributed to the continued growth of the community and business, as well as progress made in advancing AI and the metaverse.\",\n",
        "    \"Reality Labs experienced an increase in operating losses in 2023 due to ongoing product development efforts. In 2024, Meta expects these losses to increase significantly.\"\n",
        "]\n",
        "questions = [\n",
        "    \"How did Meta’s workforce change by the end of 2023?\",\n",
        "    \"What is the report quarter, and when did it end?\",\n",
        "    \"What were the key financial highlights this quarter (revenue, gross margin, operating expenses, operating margin, net income, and EPS)?\",\n",
        "    \"How much did Meta spend on restructuring for the whole year and Q4?\",\n",
        "    \"What happened with Meta’s ad impressions and average price per ad in Q4 and for the whole year?\",\n",
        "    \"What’s the revenue outlook for Q1 2024?\",\n",
        "    \"What were Meta’s total costs and expenses for Q4 and the full year 2023?\",\n",
        "    \"How much cash and marketable securities did Meta have on hand as of December 31, 2023?\",\n",
        "    \"What were the main areas Meta invested in during 2023?\",\n",
        "    \"How did the Family of Apps and Reality Labs perform in Q4 2023?\",\n",
        "    \"How much free cash flow did Meta generate in Q4 and the full year 2023?\",\n",
        "    \"Did Meta make any changes to its stock repurchase program or dividends for 2024?\",\n",
        "    \"What risks did Meta highlight for 2024?\",\n",
        "    \"What drove Meta’s revenue growth in Q4 2023?\",\n",
        "    \"How did Reality Labs perform throughout 2023, and what’s Meta’s plan for 2024?\"\n",
        "]\n",
        "rouge_scores = rouge.compute(predictions=generated_answers, references=reference_answers)\n",
        "\n",
        "# Print results\n",
        "print(\"\\nGenerated Answers:\")\n",
        "for i, (q, ans) in enumerate(zip(questions, generated_answers)):\n",
        "    print(f\"Q{i + 1}: {q}\\nA: {ans}\\n\")\n",
        "print(\"ROUGE scores:\", rouge_scores)\n"
      ],
      "metadata": {
        "trusted": true,
        "execution": {
          "iopub.status.busy": "2024-12-01T06:39:11.345754Z",
          "iopub.execute_input": "2024-12-01T06:39:11.346161Z",
          "iopub.status.idle": "2024-12-01T06:44:22.901598Z",
          "shell.execute_reply.started": "2024-12-01T06:39:11.346126Z",
          "shell.execute_reply": "2024-12-01T06:44:22.900690Z"
        },
        "colab": {
          "referenced_widgets": [
            "8f0870180a4a4425a2af0293627e9ec8",
            "a3178c136f354f3dbfb4f31891e503db",
            "236c213c2cae47caa0ea6b090b815f69",
            "35975385dfd74bcf92a57068423798a2",
            "0376766451704e169f3a44f1041e60f4",
            "83414284d7cb4db799911e748f73de4f",
            "a3a9b23d5a144b8da3bc87160223f737",
            "e4e69deeecfd44f5a6c3cf0f560a9a21",
            "7bb8b7d500754ae798bd784b9c07beff",
            "a4142372bf434eb2acee4b7fa848b7b6",
            "63cc8c038d8f4173a7b92b222f0a9b47",
            "c19da015b1fe453ba26409e3cffc0d88",
            "2814739655b946039799f32e01aa1142",
            "ba5ad0d95a13449896defc0bf5231d3a",
            "477bc833a33549f1a19cb0116d7a929e",
            "dcd5a6a5959e43fdbba40c0a2f796349",
            "2d06df41fc8845f6bdaa9787b218b563",
            "905b615e3b8c42b9a4f9f4fae4af2cb1",
            "42b514c362ef4efda6dae82a4bf792fb",
            "b58b4bdc91bd4343bf64a7c21ac93266",
            "ff1161e474a94ca9b0dd2ec056d292fe",
            "3038d4657b4b4d9bb5df8ef213b3158c",
            "0c689f9069074dc98145148ded1a7531",
            "bc940202edc14174a734fa2f17da15c8",
            "ceb605f6f26544849e520b01c3d9a730",
            "eca387fba1224ce5beeb6e7f1eccf3c2",
            "273751b2d1e040f5b6ce3d2a5f0c00b6",
            "470eeec75c634030b84fa346d63b40f6",
            "6f56cb71b56f4bba9b1a01e3096dd6b2",
            "6877c169d9b64acabd72474a567ffb71",
            "6fdbbff4a076446994ee3f57daa3d8d8"
          ]
        },
        "id": "2d1eBAP-OLA2",
        "outputId": "17e7d56e-7f62-41d1-e747-254afcf9dcbf"
      },
      "outputs": [
        {
          "output_type": "display_data",
          "data": {
            "text/plain": "Batches:   0%|          | 0/1 [00:00<?, ?it/s]",
            "application/vnd.jupyter.widget-view+json": {
              "version_major": 2,
              "version_minor": 0,
              "model_id": "8f0870180a4a4425a2af0293627e9ec8"
            }
          },
          "metadata": {}
        },
        {
          "name": "stdout",
          "text": "Processing Question: What was Meta's total headcount at the end of 2023, and how does it compare to the headcount at the end of 2022?\n\n",
          "output_type": "stream"
        },
        {
          "output_type": "display_data",
          "data": {
            "text/plain": "Batches:   0%|          | 0/1 [00:00<?, ?it/s]",
            "application/vnd.jupyter.widget-view+json": {
              "version_major": 2,
              "version_minor": 0,
              "model_id": "a3178c136f354f3dbfb4f31891e503db"
            }
          },
          "metadata": {}
        },
        {
          "name": "stderr",
          "text": "Your min_length=50 must be inferior than your max_length=42.\nYour min_length=50 must be inferior than your max_length=42.\nYour min_length=50 must be inferior than your max_length=42.\n",
          "output_type": "stream"
        },
        {
          "name": "stdout",
          "text": "\n\n\u001b[1m> Entering new RetrievalQA chain...\u001b[0m\n",
          "output_type": "stream"
        },
        {
          "output_type": "display_data",
          "data": {
            "text/plain": "Batches:   0%|          | 0/1 [00:00<?, ?it/s]",
            "application/vnd.jupyter.widget-view+json": {
              "version_major": 2,
              "version_minor": 0,
              "model_id": "236c213c2cae47caa0ea6b090b815f69"
            }
          },
          "metadata": {}
        },
        {
          "name": "stdout",
          "text": "\n\u001b[1m> Finished chain.\u001b[0m\nProcessed in 18.227 seconds.\nResult: Meta's total headcount at the end of 2023 was 67,317, which was a decrease of 22% compared to the headcount at the end of 2022.\n\nProcessing Question: Which quarter of 2023 is being reported, and on what date did the quarter end?\n\n",
          "output_type": "stream"
        },
        {
          "output_type": "display_data",
          "data": {
            "text/plain": "Batches:   0%|          | 0/1 [00:00<?, ?it/s]",
            "application/vnd.jupyter.widget-view+json": {
              "version_major": 2,
              "version_minor": 0,
              "model_id": "35975385dfd74bcf92a57068423798a2"
            }
          },
          "metadata": {}
        },
        {
          "name": "stderr",
          "text": "Your min_length=50 must be inferior than your max_length=42.\nYour min_length=50 must be inferior than your max_length=42.\nYour min_length=50 must be inferior than your max_length=42.\n",
          "output_type": "stream"
        },
        {
          "name": "stdout",
          "text": "\n\n\u001b[1m> Entering new RetrievalQA chain...\u001b[0m\n",
          "output_type": "stream"
        },
        {
          "output_type": "display_data",
          "data": {
            "text/plain": "Batches:   0%|          | 0/1 [00:00<?, ?it/s]",
            "application/vnd.jupyter.widget-view+json": {
              "version_major": 2,
              "version_minor": 0,
              "model_id": "0376766451704e169f3a44f1041e60f4"
            }
          },
          "metadata": {}
        },
        {
          "name": "stdout",
          "text": "\n\u001b[1m> Finished chain.\u001b[0m\nProcessed in 20.654 seconds.\nResult: The financial highlights are for the fourth quarter of 2023, which ended on December 31, 2023.\n\nProcessing Question: What were Meta's Q4 2023 financial highlights, including revenue, gross margin, operating expenses, operating margin, net income, and EPS? Provide figures and year-over-year comparisons.\n\n",
          "output_type": "stream"
        },
        {
          "output_type": "display_data",
          "data": {
            "text/plain": "Batches:   0%|          | 0/1 [00:00<?, ?it/s]",
            "application/vnd.jupyter.widget-view+json": {
              "version_major": 2,
              "version_minor": 0,
              "model_id": "83414284d7cb4db799911e748f73de4f"
            }
          },
          "metadata": {}
        },
        {
          "name": "stdout",
          "text": "\n\n\u001b[1m> Entering new RetrievalQA chain...\u001b[0m\n",
          "output_type": "stream"
        },
        {
          "output_type": "display_data",
          "data": {
            "text/plain": "Batches:   0%|          | 0/1 [00:00<?, ?it/s]",
            "application/vnd.jupyter.widget-view+json": {
              "version_major": 2,
              "version_minor": 0,
              "model_id": "a3a9b23d5a144b8da3bc87160223f737"
            }
          },
          "metadata": {}
        },
        {
          "name": "stdout",
          "text": "\n\u001b[1m> Finished chain.\u001b[0m\nProcessed in 22.621 seconds.\nResult: In Q4 2023, Meta's revenue was $40,111 million, a 25% increase year-over-year. The operating margin was 41%, net income was $14,017 million, a 201% increase year-over-year, and EPS was $5.33, a 203% increase year-over-year.\n\nProcessing Question: How much did Meta spend on restructuring activities in Q4 2023 and the entire year 2023? Provide figures in millions.\n\n",
          "output_type": "stream"
        },
        {
          "output_type": "display_data",
          "data": {
            "text/plain": "Batches:   0%|          | 0/1 [00:00<?, ?it/s]",
            "application/vnd.jupyter.widget-view+json": {
              "version_major": 2,
              "version_minor": 0,
              "model_id": "e4e69deeecfd44f5a6c3cf0f560a9a21"
            }
          },
          "metadata": {}
        },
        {
          "name": "stdout",
          "text": "\n\n\u001b[1m> Entering new RetrievalQA chain...\u001b[0m\n",
          "output_type": "stream"
        },
        {
          "output_type": "display_data",
          "data": {
            "text/plain": "Batches:   0%|          | 0/1 [00:00<?, ?it/s]",
            "application/vnd.jupyter.widget-view+json": {
              "version_major": 2,
              "version_minor": 0,
              "model_id": "7bb8b7d500754ae798bd784b9c07beff"
            }
          },
          "metadata": {}
        },
        {
          "name": "stdout",
          "text": "\n\u001b[1m> Finished chain.\u001b[0m\nProcessed in 20.785 seconds.\nResult: Meta spent 1150.0 million on restructuring activities in Q4 2023 and 3450.0 million for the entire year 2023.\n\nProcessing Question: What were the year-over-year trends in ad impressions and the average price per ad for Q4 2023 and the entire year?\n\n",
          "output_type": "stream"
        },
        {
          "output_type": "display_data",
          "data": {
            "text/plain": "Batches:   0%|          | 0/1 [00:00<?, ?it/s]",
            "application/vnd.jupyter.widget-view+json": {
              "version_major": 2,
              "version_minor": 0,
              "model_id": "a4142372bf434eb2acee4b7fa848b7b6"
            }
          },
          "metadata": {}
        },
        {
          "name": "stderr",
          "text": "Your min_length=50 must be inferior than your max_length=42.\nYour min_length=50 must be inferior than your max_length=42.\nYour min_length=50 must be inferior than your max_length=42.\n",
          "output_type": "stream"
        },
        {
          "name": "stdout",
          "text": "\n\n\u001b[1m> Entering new RetrievalQA chain...\u001b[0m\n",
          "output_type": "stream"
        },
        {
          "output_type": "display_data",
          "data": {
            "text/plain": "Batches:   0%|          | 0/1 [00:00<?, ?it/s]",
            "application/vnd.jupyter.widget-view+json": {
              "version_major": 2,
              "version_minor": 0,
              "model_id": "63cc8c038d8f4173a7b92b222f0a9b47"
            }
          },
          "metadata": {}
        },
        {
          "name": "stdout",
          "text": "\n\u001b[1m> Finished chain.\u001b[0m\nProcessed in 21.214 seconds.\nResult: For Q4 2023, ad impressions increased by 21% year-over-year, and the average price per ad increased by 2% year-over-year. For the full year 2023, ad impressions increased by 28% year-over-year, and the average price per ad decreased by 9%.\n\nProcessing Question: What is Meta's revenue forecast for Q1 2024? Provide specific ranges or figures mentioned in the financial report.\n\n",
          "output_type": "stream"
        },
        {
          "output_type": "display_data",
          "data": {
            "text/plain": "Batches:   0%|          | 0/1 [00:00<?, ?it/s]",
            "application/vnd.jupyter.widget-view+json": {
              "version_major": 2,
              "version_minor": 0,
              "model_id": "c19da015b1fe453ba26409e3cffc0d88"
            }
          },
          "metadata": {}
        },
        {
          "name": "stdout",
          "text": "\n\n\u001b[1m> Entering new RetrievalQA chain...\u001b[0m\n",
          "output_type": "stream"
        },
        {
          "output_type": "display_data",
          "data": {
            "text/plain": "Batches:   0%|          | 0/1 [00:00<?, ?it/s]",
            "application/vnd.jupyter.widget-view+json": {
              "version_major": 2,
              "version_minor": 0,
              "model_id": "2814739655b946039799f32e01aa1142"
            }
          },
          "metadata": {}
        },
        {
          "name": "stdout",
          "text": "\n\u001b[1m> Finished chain.\u001b[0m\nProcessed in 22.555 seconds.\nResult: Meta's revenue forecast for Q1 2024 is in the range of 34.5-37 billion.\n\nProcessing Question: What were Meta's total costs and expenses for Q4 2023 and the entire FY 2023? Provide figures and year-over-year comparisons.\n\n",
          "output_type": "stream"
        },
        {
          "output_type": "display_data",
          "data": {
            "text/plain": "Batches:   0%|          | 0/1 [00:00<?, ?it/s]",
            "application/vnd.jupyter.widget-view+json": {
              "version_major": 2,
              "version_minor": 0,
              "model_id": "ba5ad0d95a13449896defc0bf5231d3a"
            }
          },
          "metadata": {}
        },
        {
          "name": "stdout",
          "text": "\n\n\u001b[1m> Entering new RetrievalQA chain...\u001b[0m\n",
          "output_type": "stream"
        },
        {
          "output_type": "display_data",
          "data": {
            "text/plain": "Batches:   0%|          | 0/1 [00:00<?, ?it/s]",
            "application/vnd.jupyter.widget-view+json": {
              "version_major": 2,
              "version_minor": 0,
              "model_id": "477bc833a33549f1a19cb0116d7a929e"
            }
          },
          "metadata": {}
        },
        {
          "name": "stdout",
          "text": "\n\u001b[1m> Finished chain.\u001b[0m\nProcessed in 21.24 seconds.\nResult: Total costs and expenses for Meta were 23,727.0 million for Q4 2023, which was an 8% decrease year-over-year. For the full year 2023, total costs and expenses were 88,151.0 million, representing a 1% increase year-over-year.\n\nProcessing Question: As of December 31, 2023, how much cash, cash equivalents, and marketable securities did Meta report? Provide the exact figure in millions.\n\n",
          "output_type": "stream"
        },
        {
          "output_type": "display_data",
          "data": {
            "text/plain": "Batches:   0%|          | 0/1 [00:00<?, ?it/s]",
            "application/vnd.jupyter.widget-view+json": {
              "version_major": 2,
              "version_minor": 0,
              "model_id": "dcd5a6a5959e43fdbba40c0a2f796349"
            }
          },
          "metadata": {}
        },
        {
          "name": "stderr",
          "text": "Your min_length=50 must be inferior than your max_length=42.\nYour min_length=50 must be inferior than your max_length=42.\nYour min_length=50 must be inferior than your max_length=42.\n",
          "output_type": "stream"
        },
        {
          "name": "stdout",
          "text": "\n\n\u001b[1m> Entering new RetrievalQA chain...\u001b[0m\n",
          "output_type": "stream"
        },
        {
          "output_type": "display_data",
          "data": {
            "text/plain": "Batches:   0%|          | 0/1 [00:00<?, ?it/s]",
            "application/vnd.jupyter.widget-view+json": {
              "version_major": 2,
              "version_minor": 0,
              "model_id": "2d06df41fc8845f6bdaa9787b218b563"
            }
          },
          "metadata": {}
        },
        {
          "name": "stdout",
          "text": "\n\u001b[1m> Finished chain.\u001b[0m\nProcessed in 18.808 seconds.\nResult: Meta reported 65400.0 million in cash, cash equivalents, and marketable securities as of December 31, 2023.\n\nProcessing Question: In 2023, where did Meta allocate its major investments? Highlight specific areas such as technology, infrastructure, or other initiatives.\n\n",
          "output_type": "stream"
        },
        {
          "output_type": "display_data",
          "data": {
            "text/plain": "Batches:   0%|          | 0/1 [00:00<?, ?it/s]",
            "application/vnd.jupyter.widget-view+json": {
              "version_major": 2,
              "version_minor": 0,
              "model_id": "905b615e3b8c42b9a4f9f4fae4af2cb1"
            }
          },
          "metadata": {}
        },
        {
          "name": "stderr",
          "text": "Your min_length=50 must be inferior than your max_length=42.\nYour min_length=50 must be inferior than your max_length=42.\nYour min_length=50 must be inferior than your max_length=42.\n",
          "output_type": "stream"
        },
        {
          "name": "stdout",
          "text": "\n\n\u001b[1m> Entering new RetrievalQA chain...\u001b[0m\n",
          "output_type": "stream"
        },
        {
          "output_type": "display_data",
          "data": {
            "text/plain": "Batches:   0%|          | 0/1 [00:00<?, ?it/s]",
            "application/vnd.jupyter.widget-view+json": {
              "version_major": 2,
              "version_minor": 0,
              "model_id": "42b514c362ef4efda6dae82a4bf792fb"
            }
          },
          "metadata": {}
        },
        {
          "name": "stdout",
          "text": "\n\u001b[1m> Finished chain.\u001b[0m\nProcessed in 18.007 seconds.\nResult: In 2023, Meta allocated major investments in servers, including AI and non-AI hardware, and data centers as part of their capital expenditures.\n\nProcessing Question: What was the financial performance of the Family of Apps and Reality Labs segments in Q4 2023, including revenue and operating income figures?\n\n",
          "output_type": "stream"
        },
        {
          "output_type": "display_data",
          "data": {
            "text/plain": "Batches:   0%|          | 0/1 [00:00<?, ?it/s]",
            "application/vnd.jupyter.widget-view+json": {
              "version_major": 2,
              "version_minor": 0,
              "model_id": "b58b4bdc91bd4343bf64a7c21ac93266"
            }
          },
          "metadata": {}
        },
        {
          "name": "stderr",
          "text": "Your min_length=50 must be inferior than your max_length=42.\n",
          "output_type": "stream"
        },
        {
          "name": "stdout",
          "text": "\n\n\u001b[1m> Entering new RetrievalQA chain...\u001b[0m\n",
          "output_type": "stream"
        },
        {
          "output_type": "display_data",
          "data": {
            "text/plain": "Batches:   0%|          | 0/1 [00:00<?, ?it/s]",
            "application/vnd.jupyter.widget-view+json": {
              "version_major": 2,
              "version_minor": 0,
              "model_id": "ff1161e474a94ca9b0dd2ec056d292fe"
            }
          },
          "metadata": {}
        },
        {
          "name": "stdout",
          "text": "\n\u001b[1m> Finished chain.\u001b[0m\nProcessed in 22.992 seconds.\nResult: The financial performance of the Family of Apps and Reality Labs segments in Q4 2023 included revenue of $40,111 million and operating income of $16,384 million.\n\nProcessing Question: What was Meta's free cash flow for Q4 2023 and the entire year 2023?\n\n",
          "output_type": "stream"
        },
        {
          "output_type": "display_data",
          "data": {
            "text/plain": "Batches:   0%|          | 0/1 [00:00<?, ?it/s]",
            "application/vnd.jupyter.widget-view+json": {
              "version_major": 2,
              "version_minor": 0,
              "model_id": "3038d4657b4b4d9bb5df8ef213b3158c"
            }
          },
          "metadata": {}
        },
        {
          "name": "stderr",
          "text": "Your min_length=50 must be inferior than your max_length=42.\n",
          "output_type": "stream"
        },
        {
          "name": "stdout",
          "text": "\n\n\u001b[1m> Entering new RetrievalQA chain...\u001b[0m\n",
          "output_type": "stream"
        },
        {
          "output_type": "display_data",
          "data": {
            "text/plain": "Batches:   0%|          | 0/1 [00:00<?, ?it/s]",
            "application/vnd.jupyter.widget-view+json": {
              "version_major": 2,
              "version_minor": 0,
              "model_id": "0c689f9069074dc98145148ded1a7531"
            }
          },
          "metadata": {}
        },
        {
          "name": "stdout",
          "text": "\n\u001b[1m> Finished chain.\u001b[0m\nProcessed in 22.016 seconds.\nResult: Meta's free cash flow for Q4 2023 was 11500.0 million, and for the entire year 2023, it was 43010.0 million.\n\nProcessing Question: What changes did Meta make to its stock repurchase program or dividends in 2024? Include details about any new authorizations, dividend policies, or other announcements.\n\n",
          "output_type": "stream"
        },
        {
          "output_type": "display_data",
          "data": {
            "text/plain": "Batches:   0%|          | 0/1 [00:00<?, ?it/s]",
            "application/vnd.jupyter.widget-view+json": {
              "version_major": 2,
              "version_minor": 0,
              "model_id": "bc940202edc14174a734fa2f17da15c8"
            }
          },
          "metadata": {}
        },
        {
          "name": "stdout",
          "text": "\n\n\u001b[1m> Entering new RetrievalQA chain...\u001b[0m\n",
          "output_type": "stream"
        },
        {
          "output_type": "display_data",
          "data": {
            "text/plain": "Batches:   0%|          | 0/1 [00:00<?, ?it/s]",
            "application/vnd.jupyter.widget-view+json": {
              "version_major": 2,
              "version_minor": 0,
              "model_id": "ceb605f6f26544849e520b01c3d9a730"
            }
          },
          "metadata": {}
        },
        {
          "name": "stdout",
          "text": "\n\u001b[1m> Finished chain.\u001b[0m\nProcessed in 18.98 seconds.\nResult: Meta initiated a quarterly cash dividend of $0.50 per share of outstanding common stock in 2024. Additionally, they announced a $50 billion increase in their share repurchase authorization.\n\nProcessing Question: What risks did Meta highlight for 2024? Provide details on regulatory, operational, and market-related risks.\n\n",
          "output_type": "stream"
        },
        {
          "output_type": "display_data",
          "data": {
            "text/plain": "Batches:   0%|          | 0/1 [00:00<?, ?it/s]",
            "application/vnd.jupyter.widget-view+json": {
              "version_major": 2,
              "version_minor": 0,
              "model_id": "eca387fba1224ce5beeb6e7f1eccf3c2"
            }
          },
          "metadata": {}
        },
        {
          "name": "stderr",
          "text": "Your min_length=50 must be inferior than your max_length=42.\n",
          "output_type": "stream"
        },
        {
          "name": "stdout",
          "text": "\n\n\u001b[1m> Entering new RetrievalQA chain...\u001b[0m\n",
          "output_type": "stream"
        },
        {
          "output_type": "display_data",
          "data": {
            "text/plain": "Batches:   0%|          | 0/1 [00:00<?, ?it/s]",
            "application/vnd.jupyter.widget-view+json": {
              "version_major": 2,
              "version_minor": 0,
              "model_id": "273751b2d1e040f5b6ce3d2a5f0c00b6"
            }
          },
          "metadata": {}
        },
        {
          "name": "stdout",
          "text": "\n\u001b[1m> Finished chain.\u001b[0m\nProcessed in 18.925 seconds.\nResult: Meta highlighted risks associated with new products and changes to existing products, including their metaverse efforts, as well as risks related to mobile operating systems, networks, and standards that they do not control. They also mentioned risks from changes to third-party policies impacting advertising practices, acquisitions, security breaches, and managing their scale and geographically-dispersed operations. Additionally, they noted regulatory risks, specifically mentioning the Federal Trade Commission seeking to modify their existing consent order, which could have an adverse impact on their business. Finally, they highlighted the importance of maintaining operating discipline and improving advertising performance in the face of market conditions.\n\nProcessing Question: What factors contributed to Meta's revenue growth in Q4 2023? Include key metrics or events driving this growth.\n\n",
          "output_type": "stream"
        },
        {
          "output_type": "display_data",
          "data": {
            "text/plain": "Batches:   0%|          | 0/1 [00:00<?, ?it/s]",
            "application/vnd.jupyter.widget-view+json": {
              "version_major": 2,
              "version_minor": 0,
              "model_id": "470eeec75c634030b84fa346d63b40f6"
            }
          },
          "metadata": {}
        },
        {
          "name": "stdout",
          "text": "\n\n\u001b[1m> Entering new RetrievalQA chain...\u001b[0m\n",
          "output_type": "stream"
        },
        {
          "output_type": "display_data",
          "data": {
            "text/plain": "Batches:   0%|          | 0/1 [00:00<?, ?it/s]",
            "application/vnd.jupyter.widget-view+json": {
              "version_major": 2,
              "version_minor": 0,
              "model_id": "6f56cb71b56f4bba9b1a01e3096dd6b2"
            }
          },
          "metadata": {}
        },
        {
          "name": "stdout",
          "text": "\n\u001b[1m> Finished chain.\u001b[0m\nProcessed in 20.656 seconds.\nResult: Ad impressions increased by 28% year-over-year, and the average price per ad decreased by 9% year-over-year, contributing to Meta's revenue growth in Q4 2023.\n\nProcessing Question: How did Reality Labs perform financially in 2023, and what are Meta's plans for this segment in 2024?\n\n",
          "output_type": "stream"
        },
        {
          "output_type": "display_data",
          "data": {
            "text/plain": "Batches:   0%|          | 0/1 [00:00<?, ?it/s]",
            "application/vnd.jupyter.widget-view+json": {
              "version_major": 2,
              "version_minor": 0,
              "model_id": "6877c169d9b64acabd72474a567ffb71"
            }
          },
          "metadata": {}
        },
        {
          "name": "stdout",
          "text": "\n\n\u001b[1m> Entering new RetrievalQA chain...\u001b[0m\n",
          "output_type": "stream"
        },
        {
          "output_type": "display_data",
          "data": {
            "text/plain": "Batches:   0%|          | 0/1 [00:00<?, ?it/s]",
            "application/vnd.jupyter.widget-view+json": {
              "version_major": 2,
              "version_minor": 0,
              "model_id": "6fdbbff4a076446994ee3f57daa3d8d8"
            }
          },
          "metadata": {}
        },
        {
          "name": "stdout",
          "text": "\n\u001b[1m> Finished chain.\u001b[0m\nProcessed in 21.97 seconds.\nResult: Reality Labs had operating losses that increased meaningfully year-over-year in 2023 due to ongoing product development efforts in augmented reality/virtual reality. Meta expects these losses to continue in 2024 as they invest in scaling their ecosystem and AI research.\n\n\nGenerated Answers:\nQ1: How did Meta’s workforce change by the end of 2023?\nA: Meta's total headcount at the end of 2023 was 67,317, which was a decrease of 22% compared to the headcount at the end of 2022.\n\nQ2: What is the report quarter, and when did it end?\nA: The financial highlights are for the fourth quarter of 2023, which ended on December 31, 2023.\n\nQ3: What were the key financial highlights this quarter (revenue, gross margin, operating expenses, operating margin, net income, and EPS)?\nA: In Q4 2023, Meta's revenue was $40,111 million, a 25% increase year-over-year. The operating margin was 41%, net income was $14,017 million, a 201% increase year-over-year, and EPS was $5.33, a 203% increase year-over-year.\n\nQ4: How much did Meta spend on restructuring for the whole year and Q4?\nA: Meta spent 1150.0 million on restructuring activities in Q4 2023 and 3450.0 million for the entire year 2023.\n\nQ5: What happened with Meta’s ad impressions and average price per ad in Q4 and for the whole year?\nA: For Q4 2023, ad impressions increased by 21% year-over-year, and the average price per ad increased by 2% year-over-year. For the full year 2023, ad impressions increased by 28% year-over-year, and the average price per ad decreased by 9%.\n\nQ6: What’s the revenue outlook for Q1 2024?\nA: Meta's revenue forecast for Q1 2024 is in the range of 34.5-37 billion.\n\nQ7: What were Meta’s total costs and expenses for Q4 and the full year 2023?\nA: Total costs and expenses for Meta were 23,727.0 million for Q4 2023, which was an 8% decrease year-over-year. For the full year 2023, total costs and expenses were 88,151.0 million, representing a 1% increase year-over-year.\n\nQ8: How much cash and marketable securities did Meta have on hand as of December 31, 2023?\nA: Meta reported 65400.0 million in cash, cash equivalents, and marketable securities as of December 31, 2023.\n\nQ9: What were the main areas Meta invested in during 2023?\nA: In 2023, Meta allocated major investments in servers, including AI and non-AI hardware, and data centers as part of their capital expenditures.\n\nQ10: How did the Family of Apps and Reality Labs perform in Q4 2023?\nA: The financial performance of the Family of Apps and Reality Labs segments in Q4 2023 included revenue of $40,111 million and operating income of $16,384 million.\n\nQ11: How much free cash flow did Meta generate in Q4 and the full year 2023?\nA: Meta's free cash flow for Q4 2023 was 11500.0 million, and for the entire year 2023, it was 43010.0 million.\n\nQ12: Did Meta make any changes to its stock repurchase program or dividends for 2024?\nA: Meta initiated a quarterly cash dividend of $0.50 per share of outstanding common stock in 2024. Additionally, they announced a $50 billion increase in their share repurchase authorization.\n\nQ13: What risks did Meta highlight for 2024?\nA: Meta highlighted risks associated with new products and changes to existing products, including their metaverse efforts, as well as risks related to mobile operating systems, networks, and standards that they do not control. They also mentioned risks from changes to third-party policies impacting advertising practices, acquisitions, security breaches, and managing their scale and geographically-dispersed operations. Additionally, they noted regulatory risks, specifically mentioning the Federal Trade Commission seeking to modify their existing consent order, which could have an adverse impact on their business. Finally, they highlighted the importance of maintaining operating discipline and improving advertising performance in the face of market conditions.\n\nQ14: What drove Meta’s revenue growth in Q4 2023?\nA: Ad impressions increased by 28% year-over-year, and the average price per ad decreased by 9% year-over-year, contributing to Meta's revenue growth in Q4 2023.\n\nQ15: How did Reality Labs perform throughout 2023, and what’s Meta’s plan for 2024?\nA: Reality Labs had operating losses that increased meaningfully year-over-year in 2023 due to ongoing product development efforts in augmented reality/virtual reality. Meta expects these losses to continue in 2024 as they invest in scaling their ecosystem and AI research.\n\nROUGE scores: {'rouge1': 0.7617624003583319, 'rouge2': 0.6485295995225444, 'rougeL': 0.716378997376681, 'rougeLsum': 0.7134898008306371}\n",
          "output_type": "stream"
        }
      ],
      "execution_count": null
    },
    {
      "cell_type": "markdown",
      "source": [
        "rouge1: 0.761 - This indicates that about 76.2% of the words in the generated answers align with the reference answers.\n",
        "\n",
        "rouge2: 0.648 - About 64.8% of the bigrams in the generated answers match those in the reference answers.\n",
        "\n",
        "rougeL: 0.716 - Approximately 71.6% of the longest word sequences are shared between the generated and reference answers.\n",
        "\n",
        "rougeLsum: 0.713 - About 71.3% structural similarity between the summaries or answers."
      ],
      "metadata": {
        "id": "8gHnVh2dOLA2"
      }
    }
  ]
}